{
 "cells": [
  {
   "cell_type": "markdown",
   "id": "6a8bb738",
   "metadata": {},
   "source": [
    "# Google_Play_Store Analysis and Visualization"
   ]
  },
  {
   "cell_type": "markdown",
   "id": "43c6c7e2",
   "metadata": {},
   "source": [
    "## Problem Statement:\n",
    "\n",
    "By using Pandas and numpy library analyse the google play Store dataset and \n",
    "Do the following task.\n",
    "\n",
    "1.Import the library\n",
    "2.Import the dataset\n",
    "3.Remove the Duplicate values\n",
    "4.Missing Value treatment\n",
    "5.Make data  ready for implementing ML Model.\n"
   ]
  },
  {
   "cell_type": "markdown",
   "id": "9fde439a",
   "metadata": {},
   "source": [
    "### Importing modules"
   ]
  },
  {
   "cell_type": "code",
   "execution_count": 1,
   "id": "42199404",
   "metadata": {},
   "outputs": [],
   "source": [
    "import pandas as pd\n",
    "import seaborn as sns\n",
    "import numpy as np\n",
    "import matplotlib.pyplot as plt\n"
   ]
  },
  {
   "cell_type": "markdown",
   "id": "3f0ec131",
   "metadata": {},
   "source": [
    "### Reading/Loading Dataset through Pandas"
   ]
  },
  {
   "cell_type": "code",
   "execution_count": 2,
   "id": "d55228f4",
   "metadata": {},
   "outputs": [],
   "source": [
    "gp_store = pd.read_csv(r\"C:\\Users\\Chani\\Documents\\Decodr\\sample data\\Googleplaystore (1).csv\")"
   ]
  },
  {
   "cell_type": "markdown",
   "id": "d2b941b9",
   "metadata": {},
   "source": [
    "## description of Dataset"
   ]
  },
  {
   "cell_type": "code",
   "execution_count": 3,
   "id": "b3f51f42",
   "metadata": {},
   "outputs": [
    {
     "name": "stdout",
     "output_type": "stream",
     "text": [
      "<class 'pandas.core.frame.DataFrame'>\n",
      "RangeIndex: 10841 entries, 0 to 10840\n",
      "Data columns (total 13 columns):\n",
      " #   Column          Non-Null Count  Dtype  \n",
      "---  ------          --------------  -----  \n",
      " 0   App             10841 non-null  object \n",
      " 1   Category        10841 non-null  object \n",
      " 2   Rating          9367 non-null   float64\n",
      " 3   Reviews         10841 non-null  object \n",
      " 4   Size            10841 non-null  object \n",
      " 5   Installs        10841 non-null  object \n",
      " 6   Type            10840 non-null  object \n",
      " 7   Price           10841 non-null  object \n",
      " 8   Content Rating  10840 non-null  object \n",
      " 9   Genres          10841 non-null  object \n",
      " 10  Last Updated    10841 non-null  object \n",
      " 11  Current Ver     10833 non-null  object \n",
      " 12  Android Ver     10838 non-null  object \n",
      "dtypes: float64(1), object(12)\n",
      "memory usage: 1.1+ MB\n"
     ]
    }
   ],
   "source": [
    "gp_store.info()"
   ]
  },
  {
   "cell_type": "markdown",
   "id": "857b2022",
   "metadata": {},
   "source": [
    "#### which gives the column names, data type of elements present in column, range index and also gives the memory usage"
   ]
  },
  {
   "cell_type": "code",
   "execution_count": 4,
   "id": "371a64d7",
   "metadata": {},
   "outputs": [
    {
     "data": {
      "text/html": [
       "<div>\n",
       "<style scoped>\n",
       "    .dataframe tbody tr th:only-of-type {\n",
       "        vertical-align: middle;\n",
       "    }\n",
       "\n",
       "    .dataframe tbody tr th {\n",
       "        vertical-align: top;\n",
       "    }\n",
       "\n",
       "    .dataframe thead th {\n",
       "        text-align: right;\n",
       "    }\n",
       "</style>\n",
       "<table border=\"1\" class=\"dataframe\">\n",
       "  <thead>\n",
       "    <tr style=\"text-align: right;\">\n",
       "      <th></th>\n",
       "      <th>App</th>\n",
       "      <th>Category</th>\n",
       "      <th>Rating</th>\n",
       "      <th>Reviews</th>\n",
       "      <th>Size</th>\n",
       "      <th>Installs</th>\n",
       "      <th>Type</th>\n",
       "      <th>Price</th>\n",
       "      <th>Content Rating</th>\n",
       "      <th>Genres</th>\n",
       "      <th>Last Updated</th>\n",
       "      <th>Current Ver</th>\n",
       "      <th>Android Ver</th>\n",
       "    </tr>\n",
       "  </thead>\n",
       "  <tbody>\n",
       "    <tr>\n",
       "      <th>count</th>\n",
       "      <td>10841</td>\n",
       "      <td>10841</td>\n",
       "      <td>9367.000000</td>\n",
       "      <td>10841</td>\n",
       "      <td>10841</td>\n",
       "      <td>10841</td>\n",
       "      <td>10840</td>\n",
       "      <td>10841</td>\n",
       "      <td>10840</td>\n",
       "      <td>10841</td>\n",
       "      <td>10841</td>\n",
       "      <td>10833</td>\n",
       "      <td>10838</td>\n",
       "    </tr>\n",
       "    <tr>\n",
       "      <th>unique</th>\n",
       "      <td>9660</td>\n",
       "      <td>34</td>\n",
       "      <td>NaN</td>\n",
       "      <td>6002</td>\n",
       "      <td>462</td>\n",
       "      <td>22</td>\n",
       "      <td>3</td>\n",
       "      <td>93</td>\n",
       "      <td>6</td>\n",
       "      <td>120</td>\n",
       "      <td>1378</td>\n",
       "      <td>2832</td>\n",
       "      <td>33</td>\n",
       "    </tr>\n",
       "    <tr>\n",
       "      <th>top</th>\n",
       "      <td>ROBLOX</td>\n",
       "      <td>FAMILY</td>\n",
       "      <td>NaN</td>\n",
       "      <td>0</td>\n",
       "      <td>Varies with device</td>\n",
       "      <td>1,000,000+</td>\n",
       "      <td>Free</td>\n",
       "      <td>0</td>\n",
       "      <td>Everyone</td>\n",
       "      <td>Tools</td>\n",
       "      <td>August 3, 2018</td>\n",
       "      <td>Varies with device</td>\n",
       "      <td>4.1 and up</td>\n",
       "    </tr>\n",
       "    <tr>\n",
       "      <th>freq</th>\n",
       "      <td>9</td>\n",
       "      <td>1972</td>\n",
       "      <td>NaN</td>\n",
       "      <td>596</td>\n",
       "      <td>1695</td>\n",
       "      <td>1579</td>\n",
       "      <td>10039</td>\n",
       "      <td>10040</td>\n",
       "      <td>8714</td>\n",
       "      <td>842</td>\n",
       "      <td>326</td>\n",
       "      <td>1459</td>\n",
       "      <td>2451</td>\n",
       "    </tr>\n",
       "    <tr>\n",
       "      <th>mean</th>\n",
       "      <td>NaN</td>\n",
       "      <td>NaN</td>\n",
       "      <td>4.193338</td>\n",
       "      <td>NaN</td>\n",
       "      <td>NaN</td>\n",
       "      <td>NaN</td>\n",
       "      <td>NaN</td>\n",
       "      <td>NaN</td>\n",
       "      <td>NaN</td>\n",
       "      <td>NaN</td>\n",
       "      <td>NaN</td>\n",
       "      <td>NaN</td>\n",
       "      <td>NaN</td>\n",
       "    </tr>\n",
       "    <tr>\n",
       "      <th>std</th>\n",
       "      <td>NaN</td>\n",
       "      <td>NaN</td>\n",
       "      <td>0.537431</td>\n",
       "      <td>NaN</td>\n",
       "      <td>NaN</td>\n",
       "      <td>NaN</td>\n",
       "      <td>NaN</td>\n",
       "      <td>NaN</td>\n",
       "      <td>NaN</td>\n",
       "      <td>NaN</td>\n",
       "      <td>NaN</td>\n",
       "      <td>NaN</td>\n",
       "      <td>NaN</td>\n",
       "    </tr>\n",
       "    <tr>\n",
       "      <th>min</th>\n",
       "      <td>NaN</td>\n",
       "      <td>NaN</td>\n",
       "      <td>1.000000</td>\n",
       "      <td>NaN</td>\n",
       "      <td>NaN</td>\n",
       "      <td>NaN</td>\n",
       "      <td>NaN</td>\n",
       "      <td>NaN</td>\n",
       "      <td>NaN</td>\n",
       "      <td>NaN</td>\n",
       "      <td>NaN</td>\n",
       "      <td>NaN</td>\n",
       "      <td>NaN</td>\n",
       "    </tr>\n",
       "    <tr>\n",
       "      <th>25%</th>\n",
       "      <td>NaN</td>\n",
       "      <td>NaN</td>\n",
       "      <td>4.000000</td>\n",
       "      <td>NaN</td>\n",
       "      <td>NaN</td>\n",
       "      <td>NaN</td>\n",
       "      <td>NaN</td>\n",
       "      <td>NaN</td>\n",
       "      <td>NaN</td>\n",
       "      <td>NaN</td>\n",
       "      <td>NaN</td>\n",
       "      <td>NaN</td>\n",
       "      <td>NaN</td>\n",
       "    </tr>\n",
       "    <tr>\n",
       "      <th>50%</th>\n",
       "      <td>NaN</td>\n",
       "      <td>NaN</td>\n",
       "      <td>4.300000</td>\n",
       "      <td>NaN</td>\n",
       "      <td>NaN</td>\n",
       "      <td>NaN</td>\n",
       "      <td>NaN</td>\n",
       "      <td>NaN</td>\n",
       "      <td>NaN</td>\n",
       "      <td>NaN</td>\n",
       "      <td>NaN</td>\n",
       "      <td>NaN</td>\n",
       "      <td>NaN</td>\n",
       "    </tr>\n",
       "    <tr>\n",
       "      <th>75%</th>\n",
       "      <td>NaN</td>\n",
       "      <td>NaN</td>\n",
       "      <td>4.500000</td>\n",
       "      <td>NaN</td>\n",
       "      <td>NaN</td>\n",
       "      <td>NaN</td>\n",
       "      <td>NaN</td>\n",
       "      <td>NaN</td>\n",
       "      <td>NaN</td>\n",
       "      <td>NaN</td>\n",
       "      <td>NaN</td>\n",
       "      <td>NaN</td>\n",
       "      <td>NaN</td>\n",
       "    </tr>\n",
       "    <tr>\n",
       "      <th>max</th>\n",
       "      <td>NaN</td>\n",
       "      <td>NaN</td>\n",
       "      <td>19.000000</td>\n",
       "      <td>NaN</td>\n",
       "      <td>NaN</td>\n",
       "      <td>NaN</td>\n",
       "      <td>NaN</td>\n",
       "      <td>NaN</td>\n",
       "      <td>NaN</td>\n",
       "      <td>NaN</td>\n",
       "      <td>NaN</td>\n",
       "      <td>NaN</td>\n",
       "      <td>NaN</td>\n",
       "    </tr>\n",
       "  </tbody>\n",
       "</table>\n",
       "</div>"
      ],
      "text/plain": [
       "           App Category       Rating Reviews                Size    Installs  \\\n",
       "count    10841    10841  9367.000000   10841               10841       10841   \n",
       "unique    9660       34          NaN    6002                 462          22   \n",
       "top     ROBLOX   FAMILY          NaN       0  Varies with device  1,000,000+   \n",
       "freq         9     1972          NaN     596                1695        1579   \n",
       "mean       NaN      NaN     4.193338     NaN                 NaN         NaN   \n",
       "std        NaN      NaN     0.537431     NaN                 NaN         NaN   \n",
       "min        NaN      NaN     1.000000     NaN                 NaN         NaN   \n",
       "25%        NaN      NaN     4.000000     NaN                 NaN         NaN   \n",
       "50%        NaN      NaN     4.300000     NaN                 NaN         NaN   \n",
       "75%        NaN      NaN     4.500000     NaN                 NaN         NaN   \n",
       "max        NaN      NaN    19.000000     NaN                 NaN         NaN   \n",
       "\n",
       "         Type  Price Content Rating Genres    Last Updated  \\\n",
       "count   10840  10841          10840  10841           10841   \n",
       "unique      3     93              6    120            1378   \n",
       "top      Free      0       Everyone  Tools  August 3, 2018   \n",
       "freq    10039  10040           8714    842             326   \n",
       "mean      NaN    NaN            NaN    NaN             NaN   \n",
       "std       NaN    NaN            NaN    NaN             NaN   \n",
       "min       NaN    NaN            NaN    NaN             NaN   \n",
       "25%       NaN    NaN            NaN    NaN             NaN   \n",
       "50%       NaN    NaN            NaN    NaN             NaN   \n",
       "75%       NaN    NaN            NaN    NaN             NaN   \n",
       "max       NaN    NaN            NaN    NaN             NaN   \n",
       "\n",
       "               Current Ver Android Ver  \n",
       "count                10833       10838  \n",
       "unique                2832          33  \n",
       "top     Varies with device  4.1 and up  \n",
       "freq                  1459        2451  \n",
       "mean                   NaN         NaN  \n",
       "std                    NaN         NaN  \n",
       "min                    NaN         NaN  \n",
       "25%                    NaN         NaN  \n",
       "50%                    NaN         NaN  \n",
       "75%                    NaN         NaN  \n",
       "max                    NaN         NaN  "
      ]
     },
     "execution_count": 4,
     "metadata": {},
     "output_type": "execute_result"
    }
   ],
   "source": [
    "gp_store.describe(include = \"all\")"
   ]
  },
  {
   "cell_type": "code",
   "execution_count": 5,
   "id": "c33be6d6",
   "metadata": {},
   "outputs": [
    {
     "data": {
      "text/html": [
       "<div>\n",
       "<style scoped>\n",
       "    .dataframe tbody tr th:only-of-type {\n",
       "        vertical-align: middle;\n",
       "    }\n",
       "\n",
       "    .dataframe tbody tr th {\n",
       "        vertical-align: top;\n",
       "    }\n",
       "\n",
       "    .dataframe thead th {\n",
       "        text-align: right;\n",
       "    }\n",
       "</style>\n",
       "<table border=\"1\" class=\"dataframe\">\n",
       "  <thead>\n",
       "    <tr style=\"text-align: right;\">\n",
       "      <th></th>\n",
       "      <th>count</th>\n",
       "      <th>unique</th>\n",
       "      <th>top</th>\n",
       "      <th>freq</th>\n",
       "      <th>mean</th>\n",
       "      <th>std</th>\n",
       "      <th>min</th>\n",
       "      <th>25%</th>\n",
       "      <th>50%</th>\n",
       "      <th>75%</th>\n",
       "      <th>max</th>\n",
       "    </tr>\n",
       "  </thead>\n",
       "  <tbody>\n",
       "    <tr>\n",
       "      <th>App</th>\n",
       "      <td>10841</td>\n",
       "      <td>9660</td>\n",
       "      <td>ROBLOX</td>\n",
       "      <td>9</td>\n",
       "      <td>NaN</td>\n",
       "      <td>NaN</td>\n",
       "      <td>NaN</td>\n",
       "      <td>NaN</td>\n",
       "      <td>NaN</td>\n",
       "      <td>NaN</td>\n",
       "      <td>NaN</td>\n",
       "    </tr>\n",
       "    <tr>\n",
       "      <th>Category</th>\n",
       "      <td>10841</td>\n",
       "      <td>34</td>\n",
       "      <td>FAMILY</td>\n",
       "      <td>1972</td>\n",
       "      <td>NaN</td>\n",
       "      <td>NaN</td>\n",
       "      <td>NaN</td>\n",
       "      <td>NaN</td>\n",
       "      <td>NaN</td>\n",
       "      <td>NaN</td>\n",
       "      <td>NaN</td>\n",
       "    </tr>\n",
       "    <tr>\n",
       "      <th>Rating</th>\n",
       "      <td>9367.0</td>\n",
       "      <td>NaN</td>\n",
       "      <td>NaN</td>\n",
       "      <td>NaN</td>\n",
       "      <td>4.193338</td>\n",
       "      <td>0.537431</td>\n",
       "      <td>1.0</td>\n",
       "      <td>4.0</td>\n",
       "      <td>4.3</td>\n",
       "      <td>4.5</td>\n",
       "      <td>19.0</td>\n",
       "    </tr>\n",
       "    <tr>\n",
       "      <th>Reviews</th>\n",
       "      <td>10841</td>\n",
       "      <td>6002</td>\n",
       "      <td>0</td>\n",
       "      <td>596</td>\n",
       "      <td>NaN</td>\n",
       "      <td>NaN</td>\n",
       "      <td>NaN</td>\n",
       "      <td>NaN</td>\n",
       "      <td>NaN</td>\n",
       "      <td>NaN</td>\n",
       "      <td>NaN</td>\n",
       "    </tr>\n",
       "    <tr>\n",
       "      <th>Size</th>\n",
       "      <td>10841</td>\n",
       "      <td>462</td>\n",
       "      <td>Varies with device</td>\n",
       "      <td>1695</td>\n",
       "      <td>NaN</td>\n",
       "      <td>NaN</td>\n",
       "      <td>NaN</td>\n",
       "      <td>NaN</td>\n",
       "      <td>NaN</td>\n",
       "      <td>NaN</td>\n",
       "      <td>NaN</td>\n",
       "    </tr>\n",
       "    <tr>\n",
       "      <th>Installs</th>\n",
       "      <td>10841</td>\n",
       "      <td>22</td>\n",
       "      <td>1,000,000+</td>\n",
       "      <td>1579</td>\n",
       "      <td>NaN</td>\n",
       "      <td>NaN</td>\n",
       "      <td>NaN</td>\n",
       "      <td>NaN</td>\n",
       "      <td>NaN</td>\n",
       "      <td>NaN</td>\n",
       "      <td>NaN</td>\n",
       "    </tr>\n",
       "    <tr>\n",
       "      <th>Type</th>\n",
       "      <td>10840</td>\n",
       "      <td>3</td>\n",
       "      <td>Free</td>\n",
       "      <td>10039</td>\n",
       "      <td>NaN</td>\n",
       "      <td>NaN</td>\n",
       "      <td>NaN</td>\n",
       "      <td>NaN</td>\n",
       "      <td>NaN</td>\n",
       "      <td>NaN</td>\n",
       "      <td>NaN</td>\n",
       "    </tr>\n",
       "    <tr>\n",
       "      <th>Price</th>\n",
       "      <td>10841</td>\n",
       "      <td>93</td>\n",
       "      <td>0</td>\n",
       "      <td>10040</td>\n",
       "      <td>NaN</td>\n",
       "      <td>NaN</td>\n",
       "      <td>NaN</td>\n",
       "      <td>NaN</td>\n",
       "      <td>NaN</td>\n",
       "      <td>NaN</td>\n",
       "      <td>NaN</td>\n",
       "    </tr>\n",
       "    <tr>\n",
       "      <th>Content Rating</th>\n",
       "      <td>10840</td>\n",
       "      <td>6</td>\n",
       "      <td>Everyone</td>\n",
       "      <td>8714</td>\n",
       "      <td>NaN</td>\n",
       "      <td>NaN</td>\n",
       "      <td>NaN</td>\n",
       "      <td>NaN</td>\n",
       "      <td>NaN</td>\n",
       "      <td>NaN</td>\n",
       "      <td>NaN</td>\n",
       "    </tr>\n",
       "    <tr>\n",
       "      <th>Genres</th>\n",
       "      <td>10841</td>\n",
       "      <td>120</td>\n",
       "      <td>Tools</td>\n",
       "      <td>842</td>\n",
       "      <td>NaN</td>\n",
       "      <td>NaN</td>\n",
       "      <td>NaN</td>\n",
       "      <td>NaN</td>\n",
       "      <td>NaN</td>\n",
       "      <td>NaN</td>\n",
       "      <td>NaN</td>\n",
       "    </tr>\n",
       "    <tr>\n",
       "      <th>Last Updated</th>\n",
       "      <td>10841</td>\n",
       "      <td>1378</td>\n",
       "      <td>August 3, 2018</td>\n",
       "      <td>326</td>\n",
       "      <td>NaN</td>\n",
       "      <td>NaN</td>\n",
       "      <td>NaN</td>\n",
       "      <td>NaN</td>\n",
       "      <td>NaN</td>\n",
       "      <td>NaN</td>\n",
       "      <td>NaN</td>\n",
       "    </tr>\n",
       "    <tr>\n",
       "      <th>Current Ver</th>\n",
       "      <td>10833</td>\n",
       "      <td>2832</td>\n",
       "      <td>Varies with device</td>\n",
       "      <td>1459</td>\n",
       "      <td>NaN</td>\n",
       "      <td>NaN</td>\n",
       "      <td>NaN</td>\n",
       "      <td>NaN</td>\n",
       "      <td>NaN</td>\n",
       "      <td>NaN</td>\n",
       "      <td>NaN</td>\n",
       "    </tr>\n",
       "    <tr>\n",
       "      <th>Android Ver</th>\n",
       "      <td>10838</td>\n",
       "      <td>33</td>\n",
       "      <td>4.1 and up</td>\n",
       "      <td>2451</td>\n",
       "      <td>NaN</td>\n",
       "      <td>NaN</td>\n",
       "      <td>NaN</td>\n",
       "      <td>NaN</td>\n",
       "      <td>NaN</td>\n",
       "      <td>NaN</td>\n",
       "      <td>NaN</td>\n",
       "    </tr>\n",
       "  </tbody>\n",
       "</table>\n",
       "</div>"
      ],
      "text/plain": [
       "                 count unique                 top   freq      mean       std  \\\n",
       "App              10841   9660              ROBLOX      9       NaN       NaN   \n",
       "Category         10841     34              FAMILY   1972       NaN       NaN   \n",
       "Rating          9367.0    NaN                 NaN    NaN  4.193338  0.537431   \n",
       "Reviews          10841   6002                   0    596       NaN       NaN   \n",
       "Size             10841    462  Varies with device   1695       NaN       NaN   \n",
       "Installs         10841     22          1,000,000+   1579       NaN       NaN   \n",
       "Type             10840      3                Free  10039       NaN       NaN   \n",
       "Price            10841     93                   0  10040       NaN       NaN   \n",
       "Content Rating   10840      6            Everyone   8714       NaN       NaN   \n",
       "Genres           10841    120               Tools    842       NaN       NaN   \n",
       "Last Updated     10841   1378      August 3, 2018    326       NaN       NaN   \n",
       "Current Ver      10833   2832  Varies with device   1459       NaN       NaN   \n",
       "Android Ver      10838     33          4.1 and up   2451       NaN       NaN   \n",
       "\n",
       "                min  25%  50%  75%   max  \n",
       "App             NaN  NaN  NaN  NaN   NaN  \n",
       "Category        NaN  NaN  NaN  NaN   NaN  \n",
       "Rating          1.0  4.0  4.3  4.5  19.0  \n",
       "Reviews         NaN  NaN  NaN  NaN   NaN  \n",
       "Size            NaN  NaN  NaN  NaN   NaN  \n",
       "Installs        NaN  NaN  NaN  NaN   NaN  \n",
       "Type            NaN  NaN  NaN  NaN   NaN  \n",
       "Price           NaN  NaN  NaN  NaN   NaN  \n",
       "Content Rating  NaN  NaN  NaN  NaN   NaN  \n",
       "Genres          NaN  NaN  NaN  NaN   NaN  \n",
       "Last Updated    NaN  NaN  NaN  NaN   NaN  \n",
       "Current Ver     NaN  NaN  NaN  NaN   NaN  \n",
       "Android Ver     NaN  NaN  NaN  NaN   NaN  "
      ]
     },
     "execution_count": 5,
     "metadata": {},
     "output_type": "execute_result"
    }
   ],
   "source": [
    "gp_store.describe(include= 'all').T"
   ]
  },
  {
   "cell_type": "markdown",
   "id": "c93e697b",
   "metadata": {},
   "source": [
    "#### which gives the count of rows,mean,standard deviation,min and max value of each column and also gives 25% , 50% ,75 % of data"
   ]
  },
  {
   "cell_type": "code",
   "execution_count": 6,
   "id": "89c00194",
   "metadata": {},
   "outputs": [
    {
     "data": {
      "text/plain": [
       "(10841, 13)"
      ]
     },
     "execution_count": 6,
     "metadata": {},
     "output_type": "execute_result"
    }
   ],
   "source": [
    "gp_store.shape"
   ]
  },
  {
   "cell_type": "markdown",
   "id": "9ed5a79a",
   "metadata": {},
   "source": [
    "#### .shape gives the number of columns and number of rows in a Dataset"
   ]
  },
  {
   "cell_type": "code",
   "execution_count": 7,
   "id": "0053403e",
   "metadata": {},
   "outputs": [
    {
     "data": {
      "text/plain": [
       "App                object\n",
       "Category           object\n",
       "Rating            float64\n",
       "Reviews            object\n",
       "Size               object\n",
       "Installs           object\n",
       "Type               object\n",
       "Price              object\n",
       "Content Rating     object\n",
       "Genres             object\n",
       "Last Updated       object\n",
       "Current Ver        object\n",
       "Android Ver        object\n",
       "dtype: object"
      ]
     },
     "execution_count": 7,
     "metadata": {},
     "output_type": "execute_result"
    }
   ],
   "source": [
    "gp_store.dtypes"
   ]
  },
  {
   "cell_type": "markdown",
   "id": "2d7c9911",
   "metadata": {},
   "source": [
    "#### .dtype retuns the data type of elements in a column"
   ]
  },
  {
   "cell_type": "code",
   "execution_count": 8,
   "id": "6ade6995",
   "metadata": {},
   "outputs": [
    {
     "data": {
      "text/html": [
       "<div>\n",
       "<style scoped>\n",
       "    .dataframe tbody tr th:only-of-type {\n",
       "        vertical-align: middle;\n",
       "    }\n",
       "\n",
       "    .dataframe tbody tr th {\n",
       "        vertical-align: top;\n",
       "    }\n",
       "\n",
       "    .dataframe thead th {\n",
       "        text-align: right;\n",
       "    }\n",
       "</style>\n",
       "<table border=\"1\" class=\"dataframe\">\n",
       "  <thead>\n",
       "    <tr style=\"text-align: right;\">\n",
       "      <th></th>\n",
       "      <th>App</th>\n",
       "      <th>Category</th>\n",
       "      <th>Rating</th>\n",
       "      <th>Reviews</th>\n",
       "      <th>Size</th>\n",
       "      <th>Installs</th>\n",
       "      <th>Type</th>\n",
       "      <th>Price</th>\n",
       "      <th>Content Rating</th>\n",
       "      <th>Genres</th>\n",
       "      <th>Last Updated</th>\n",
       "      <th>Current Ver</th>\n",
       "      <th>Android Ver</th>\n",
       "    </tr>\n",
       "  </thead>\n",
       "  <tbody>\n",
       "    <tr>\n",
       "      <th>0</th>\n",
       "      <td>Photo Editor &amp; Candy Camera &amp; Grid &amp; ScrapBook</td>\n",
       "      <td>ART_AND_DESIGN</td>\n",
       "      <td>4.1</td>\n",
       "      <td>159</td>\n",
       "      <td>19M</td>\n",
       "      <td>10,000+</td>\n",
       "      <td>Free</td>\n",
       "      <td>0</td>\n",
       "      <td>Everyone</td>\n",
       "      <td>Art &amp; Design</td>\n",
       "      <td>January 7, 2018</td>\n",
       "      <td>1.0.0</td>\n",
       "      <td>4.0.3 and up</td>\n",
       "    </tr>\n",
       "    <tr>\n",
       "      <th>1</th>\n",
       "      <td>Coloring book moana</td>\n",
       "      <td>ART_AND_DESIGN</td>\n",
       "      <td>3.9</td>\n",
       "      <td>967</td>\n",
       "      <td>14M</td>\n",
       "      <td>500,000+</td>\n",
       "      <td>Free</td>\n",
       "      <td>0</td>\n",
       "      <td>Everyone</td>\n",
       "      <td>Art &amp; Design;Pretend Play</td>\n",
       "      <td>January 15, 2018</td>\n",
       "      <td>2.0.0</td>\n",
       "      <td>4.0.3 and up</td>\n",
       "    </tr>\n",
       "    <tr>\n",
       "      <th>2</th>\n",
       "      <td>U Launcher Lite – FREE Live Cool Themes, Hide ...</td>\n",
       "      <td>ART_AND_DESIGN</td>\n",
       "      <td>4.7</td>\n",
       "      <td>87510</td>\n",
       "      <td>8.7M</td>\n",
       "      <td>5,000,000+</td>\n",
       "      <td>Free</td>\n",
       "      <td>0</td>\n",
       "      <td>Everyone</td>\n",
       "      <td>Art &amp; Design</td>\n",
       "      <td>August 1, 2018</td>\n",
       "      <td>1.2.4</td>\n",
       "      <td>4.0.3 and up</td>\n",
       "    </tr>\n",
       "    <tr>\n",
       "      <th>3</th>\n",
       "      <td>Sketch - Draw &amp; Paint</td>\n",
       "      <td>ART_AND_DESIGN</td>\n",
       "      <td>4.5</td>\n",
       "      <td>215644</td>\n",
       "      <td>25M</td>\n",
       "      <td>50,000,000+</td>\n",
       "      <td>Free</td>\n",
       "      <td>0</td>\n",
       "      <td>Teen</td>\n",
       "      <td>Art &amp; Design</td>\n",
       "      <td>June 8, 2018</td>\n",
       "      <td>Varies with device</td>\n",
       "      <td>4.2 and up</td>\n",
       "    </tr>\n",
       "    <tr>\n",
       "      <th>4</th>\n",
       "      <td>Pixel Draw - Number Art Coloring Book</td>\n",
       "      <td>ART_AND_DESIGN</td>\n",
       "      <td>4.3</td>\n",
       "      <td>967</td>\n",
       "      <td>2.8M</td>\n",
       "      <td>100,000+</td>\n",
       "      <td>Free</td>\n",
       "      <td>0</td>\n",
       "      <td>Everyone</td>\n",
       "      <td>Art &amp; Design;Creativity</td>\n",
       "      <td>June 20, 2018</td>\n",
       "      <td>1.1</td>\n",
       "      <td>4.4 and up</td>\n",
       "    </tr>\n",
       "  </tbody>\n",
       "</table>\n",
       "</div>"
      ],
      "text/plain": [
       "                                                 App        Category  Rating  \\\n",
       "0     Photo Editor & Candy Camera & Grid & ScrapBook  ART_AND_DESIGN     4.1   \n",
       "1                                Coloring book moana  ART_AND_DESIGN     3.9   \n",
       "2  U Launcher Lite – FREE Live Cool Themes, Hide ...  ART_AND_DESIGN     4.7   \n",
       "3                              Sketch - Draw & Paint  ART_AND_DESIGN     4.5   \n",
       "4              Pixel Draw - Number Art Coloring Book  ART_AND_DESIGN     4.3   \n",
       "\n",
       "  Reviews  Size     Installs  Type Price Content Rating  \\\n",
       "0     159   19M      10,000+  Free     0       Everyone   \n",
       "1     967   14M     500,000+  Free     0       Everyone   \n",
       "2   87510  8.7M   5,000,000+  Free     0       Everyone   \n",
       "3  215644   25M  50,000,000+  Free     0           Teen   \n",
       "4     967  2.8M     100,000+  Free     0       Everyone   \n",
       "\n",
       "                      Genres      Last Updated         Current Ver  \\\n",
       "0               Art & Design   January 7, 2018               1.0.0   \n",
       "1  Art & Design;Pretend Play  January 15, 2018               2.0.0   \n",
       "2               Art & Design    August 1, 2018               1.2.4   \n",
       "3               Art & Design      June 8, 2018  Varies with device   \n",
       "4    Art & Design;Creativity     June 20, 2018                 1.1   \n",
       "\n",
       "    Android Ver  \n",
       "0  4.0.3 and up  \n",
       "1  4.0.3 and up  \n",
       "2  4.0.3 and up  \n",
       "3    4.2 and up  \n",
       "4    4.4 and up  "
      ]
     },
     "execution_count": 8,
     "metadata": {},
     "output_type": "execute_result"
    }
   ],
   "source": [
    "gp_store.head()"
   ]
  },
  {
   "cell_type": "markdown",
   "id": "cc9625cb",
   "metadata": {},
   "source": [
    "#### .head() prints the top 5 rows of a dataset"
   ]
  },
  {
   "cell_type": "code",
   "execution_count": 9,
   "id": "2d1e91e9",
   "metadata": {},
   "outputs": [
    {
     "data": {
      "text/html": [
       "<div>\n",
       "<style scoped>\n",
       "    .dataframe tbody tr th:only-of-type {\n",
       "        vertical-align: middle;\n",
       "    }\n",
       "\n",
       "    .dataframe tbody tr th {\n",
       "        vertical-align: top;\n",
       "    }\n",
       "\n",
       "    .dataframe thead th {\n",
       "        text-align: right;\n",
       "    }\n",
       "</style>\n",
       "<table border=\"1\" class=\"dataframe\">\n",
       "  <thead>\n",
       "    <tr style=\"text-align: right;\">\n",
       "      <th></th>\n",
       "      <th>App</th>\n",
       "      <th>Category</th>\n",
       "      <th>Rating</th>\n",
       "      <th>Reviews</th>\n",
       "      <th>Size</th>\n",
       "      <th>Installs</th>\n",
       "      <th>Type</th>\n",
       "      <th>Price</th>\n",
       "      <th>Content Rating</th>\n",
       "      <th>Genres</th>\n",
       "      <th>Last Updated</th>\n",
       "      <th>Current Ver</th>\n",
       "      <th>Android Ver</th>\n",
       "    </tr>\n",
       "  </thead>\n",
       "  <tbody>\n",
       "    <tr>\n",
       "      <th>10836</th>\n",
       "      <td>Sya9a Maroc - FR</td>\n",
       "      <td>FAMILY</td>\n",
       "      <td>4.5</td>\n",
       "      <td>38</td>\n",
       "      <td>53M</td>\n",
       "      <td>5,000+</td>\n",
       "      <td>Free</td>\n",
       "      <td>0</td>\n",
       "      <td>Everyone</td>\n",
       "      <td>Education</td>\n",
       "      <td>July 25, 2017</td>\n",
       "      <td>1.48</td>\n",
       "      <td>4.1 and up</td>\n",
       "    </tr>\n",
       "    <tr>\n",
       "      <th>10837</th>\n",
       "      <td>Fr. Mike Schmitz Audio Teachings</td>\n",
       "      <td>FAMILY</td>\n",
       "      <td>5.0</td>\n",
       "      <td>4</td>\n",
       "      <td>3.6M</td>\n",
       "      <td>100+</td>\n",
       "      <td>Free</td>\n",
       "      <td>0</td>\n",
       "      <td>Everyone</td>\n",
       "      <td>Education</td>\n",
       "      <td>July 6, 2018</td>\n",
       "      <td>1.0</td>\n",
       "      <td>4.1 and up</td>\n",
       "    </tr>\n",
       "    <tr>\n",
       "      <th>10838</th>\n",
       "      <td>Parkinson Exercices FR</td>\n",
       "      <td>MEDICAL</td>\n",
       "      <td>NaN</td>\n",
       "      <td>3</td>\n",
       "      <td>9.5M</td>\n",
       "      <td>1,000+</td>\n",
       "      <td>Free</td>\n",
       "      <td>0</td>\n",
       "      <td>Everyone</td>\n",
       "      <td>Medical</td>\n",
       "      <td>January 20, 2017</td>\n",
       "      <td>1.0</td>\n",
       "      <td>2.2 and up</td>\n",
       "    </tr>\n",
       "    <tr>\n",
       "      <th>10839</th>\n",
       "      <td>The SCP Foundation DB fr nn5n</td>\n",
       "      <td>BOOKS_AND_REFERENCE</td>\n",
       "      <td>4.5</td>\n",
       "      <td>114</td>\n",
       "      <td>Varies with device</td>\n",
       "      <td>1,000+</td>\n",
       "      <td>Free</td>\n",
       "      <td>0</td>\n",
       "      <td>Mature 17+</td>\n",
       "      <td>Books &amp; Reference</td>\n",
       "      <td>January 19, 2015</td>\n",
       "      <td>Varies with device</td>\n",
       "      <td>Varies with device</td>\n",
       "    </tr>\n",
       "    <tr>\n",
       "      <th>10840</th>\n",
       "      <td>iHoroscope - 2018 Daily Horoscope &amp; Astrology</td>\n",
       "      <td>LIFESTYLE</td>\n",
       "      <td>4.5</td>\n",
       "      <td>398307</td>\n",
       "      <td>19M</td>\n",
       "      <td>10,000,000+</td>\n",
       "      <td>Free</td>\n",
       "      <td>0</td>\n",
       "      <td>Everyone</td>\n",
       "      <td>Lifestyle</td>\n",
       "      <td>July 25, 2018</td>\n",
       "      <td>Varies with device</td>\n",
       "      <td>Varies with device</td>\n",
       "    </tr>\n",
       "  </tbody>\n",
       "</table>\n",
       "</div>"
      ],
      "text/plain": [
       "                                                 App             Category  \\\n",
       "10836                               Sya9a Maroc - FR               FAMILY   \n",
       "10837               Fr. Mike Schmitz Audio Teachings               FAMILY   \n",
       "10838                         Parkinson Exercices FR              MEDICAL   \n",
       "10839                  The SCP Foundation DB fr nn5n  BOOKS_AND_REFERENCE   \n",
       "10840  iHoroscope - 2018 Daily Horoscope & Astrology            LIFESTYLE   \n",
       "\n",
       "       Rating Reviews                Size     Installs  Type Price  \\\n",
       "10836     4.5      38                 53M       5,000+  Free     0   \n",
       "10837     5.0       4                3.6M         100+  Free     0   \n",
       "10838     NaN       3                9.5M       1,000+  Free     0   \n",
       "10839     4.5     114  Varies with device       1,000+  Free     0   \n",
       "10840     4.5  398307                 19M  10,000,000+  Free     0   \n",
       "\n",
       "      Content Rating             Genres      Last Updated         Current Ver  \\\n",
       "10836       Everyone          Education     July 25, 2017                1.48   \n",
       "10837       Everyone          Education      July 6, 2018                 1.0   \n",
       "10838       Everyone            Medical  January 20, 2017                 1.0   \n",
       "10839     Mature 17+  Books & Reference  January 19, 2015  Varies with device   \n",
       "10840       Everyone          Lifestyle     July 25, 2018  Varies with device   \n",
       "\n",
       "              Android Ver  \n",
       "10836          4.1 and up  \n",
       "10837          4.1 and up  \n",
       "10838          2.2 and up  \n",
       "10839  Varies with device  \n",
       "10840  Varies with device  "
      ]
     },
     "execution_count": 9,
     "metadata": {},
     "output_type": "execute_result"
    }
   ],
   "source": [
    "gp_store.tail()"
   ]
  },
  {
   "cell_type": "markdown",
   "id": "e6120ece",
   "metadata": {},
   "source": [
    "#### .tail() Prints the bottom 5 rows of a dataset"
   ]
  },
  {
   "cell_type": "code",
   "execution_count": 10,
   "id": "ababd1ed",
   "metadata": {},
   "outputs": [
    {
     "data": {
      "text/plain": [
       "Index(['App', 'Category', 'Rating', 'Reviews', 'Size', 'Installs', 'Type',\n",
       "       'Price', 'Content Rating', 'Genres', 'Last Updated', 'Current Ver',\n",
       "       'Android Ver'],\n",
       "      dtype='object')"
      ]
     },
     "execution_count": 10,
     "metadata": {},
     "output_type": "execute_result"
    }
   ],
   "source": [
    "gp_store.columns"
   ]
  },
  {
   "cell_type": "markdown",
   "id": "b91481a1",
   "metadata": {},
   "source": [
    "#### .columns prints the all column names of a datase"
   ]
  },
  {
   "cell_type": "code",
   "execution_count": 11,
   "id": "57f3bc44",
   "metadata": {},
   "outputs": [
    {
     "data": {
      "text/plain": [
       "array(['Photo Editor & Candy Camera & Grid & ScrapBook',\n",
       "       'Coloring book moana',\n",
       "       'U Launcher Lite – FREE Live Cool Themes, Hide Apps', ...,\n",
       "       'Parkinson Exercices FR', 'The SCP Foundation DB fr nn5n',\n",
       "       'iHoroscope - 2018 Daily Horoscope & Astrology'], dtype=object)"
      ]
     },
     "execution_count": 11,
     "metadata": {},
     "output_type": "execute_result"
    }
   ],
   "source": [
    "gp_store[\"App\"].unique()"
   ]
  },
  {
   "cell_type": "markdown",
   "id": "ea64fa0c",
   "metadata": {},
   "source": [
    "#### .unique() prints all apps in a dataset"
   ]
  },
  {
   "cell_type": "code",
   "execution_count": 12,
   "id": "26f7489c",
   "metadata": {},
   "outputs": [
    {
     "data": {
      "text/plain": [
       "9660"
      ]
     },
     "execution_count": 12,
     "metadata": {},
     "output_type": "execute_result"
    }
   ],
   "source": [
    "gp_store[\"App\"].nunique()"
   ]
  },
  {
   "cell_type": "markdown",
   "id": "f46ed86a",
   "metadata": {},
   "source": [
    "#### .nunique() gives the count of all apps in a dataset"
   ]
  },
  {
   "cell_type": "code",
   "execution_count": 13,
   "id": "9b26e271",
   "metadata": {},
   "outputs": [
    {
     "data": {
      "text/plain": [
       "array(['ART_AND_DESIGN', 'AUTO_AND_VEHICLES', 'BEAUTY',\n",
       "       'BOOKS_AND_REFERENCE', 'BUSINESS', 'COMICS', 'COMMUNICATION',\n",
       "       'DATING', 'EDUCATION', 'ENTERTAINMENT', 'EVENTS', 'FINANCE',\n",
       "       'FOOD_AND_DRINK', 'HEALTH_AND_FITNESS', 'HOUSE_AND_HOME',\n",
       "       'LIBRARIES_AND_DEMO', 'LIFESTYLE', 'GAME', 'FAMILY', 'MEDICAL',\n",
       "       'SOCIAL', 'SHOPPING', 'PHOTOGRAPHY', 'SPORTS', 'TRAVEL_AND_LOCAL',\n",
       "       'TOOLS', 'PERSONALIZATION', 'PRODUCTIVITY', 'PARENTING', 'WEATHER',\n",
       "       'VIDEO_PLAYERS', 'NEWS_AND_MAGAZINES', 'MAPS_AND_NAVIGATION',\n",
       "       '1.9'], dtype=object)"
      ]
     },
     "execution_count": 13,
     "metadata": {},
     "output_type": "execute_result"
    }
   ],
   "source": [
    "gp_store[\"Category\"].unique()"
   ]
  },
  {
   "cell_type": "code",
   "execution_count": 14,
   "id": "74bb8294",
   "metadata": {
    "scrolled": true
   },
   "outputs": [
    {
     "data": {
      "text/plain": [
       "34"
      ]
     },
     "execution_count": 14,
     "metadata": {},
     "output_type": "execute_result"
    }
   ],
   "source": [
    "gp_store[\"Category\"].nunique()"
   ]
  },
  {
   "cell_type": "code",
   "execution_count": 15,
   "id": "5159a45c",
   "metadata": {
    "scrolled": true
   },
   "outputs": [
    {
     "data": {
      "text/plain": [
       "34"
      ]
     },
     "execution_count": 15,
     "metadata": {},
     "output_type": "execute_result"
    }
   ],
   "source": [
    "len(gp_store[\"Category\"].unique())"
   ]
  },
  {
   "cell_type": "code",
   "execution_count": 16,
   "id": "39b8873f",
   "metadata": {},
   "outputs": [
    {
     "data": {
      "text/plain": [
       "array(['Everyone', 'Teen', 'Everyone 10+', 'Mature 17+',\n",
       "       'Adults only 18+', 'Unrated', nan], dtype=object)"
      ]
     },
     "execution_count": 16,
     "metadata": {},
     "output_type": "execute_result"
    }
   ],
   "source": [
    "gp_store[\"Content Rating\"].unique()"
   ]
  },
  {
   "cell_type": "code",
   "execution_count": 17,
   "id": "fdb1e1d8",
   "metadata": {
    "scrolled": true
   },
   "outputs": [
    {
     "data": {
      "text/plain": [
       "6"
      ]
     },
     "execution_count": 17,
     "metadata": {},
     "output_type": "execute_result"
    }
   ],
   "source": [
    "gp_store[\"Content Rating\"].nunique()"
   ]
  },
  {
   "cell_type": "code",
   "execution_count": 18,
   "id": "8ff18db8",
   "metadata": {},
   "outputs": [
    {
     "data": {
      "text/plain": [
       "array(['Art & Design', 'Art & Design;Pretend Play',\n",
       "       'Art & Design;Creativity', 'Art & Design;Action & Adventure',\n",
       "       'Auto & Vehicles', 'Beauty', 'Books & Reference', 'Business',\n",
       "       'Comics', 'Comics;Creativity', 'Communication', 'Dating',\n",
       "       'Education;Education', 'Education', 'Education;Creativity',\n",
       "       'Education;Music & Video', 'Education;Action & Adventure',\n",
       "       'Education;Pretend Play', 'Education;Brain Games', 'Entertainment',\n",
       "       'Entertainment;Music & Video', 'Entertainment;Brain Games',\n",
       "       'Entertainment;Creativity', 'Events', 'Finance', 'Food & Drink',\n",
       "       'Health & Fitness', 'House & Home', 'Libraries & Demo',\n",
       "       'Lifestyle', 'Lifestyle;Pretend Play',\n",
       "       'Adventure;Action & Adventure', 'Arcade', 'Casual', 'Card',\n",
       "       'Casual;Pretend Play', 'Action', 'Strategy', 'Puzzle', 'Sports',\n",
       "       'Music', 'Word', 'Racing', 'Casual;Creativity',\n",
       "       'Casual;Action & Adventure', 'Simulation', 'Adventure', 'Board',\n",
       "       'Trivia', 'Role Playing', 'Simulation;Education',\n",
       "       'Action;Action & Adventure', 'Casual;Brain Games',\n",
       "       'Simulation;Action & Adventure', 'Educational;Creativity',\n",
       "       'Puzzle;Brain Games', 'Educational;Education', 'Card;Brain Games',\n",
       "       'Educational;Brain Games', 'Educational;Pretend Play',\n",
       "       'Entertainment;Education', 'Casual;Education',\n",
       "       'Music;Music & Video', 'Racing;Action & Adventure',\n",
       "       'Arcade;Pretend Play', 'Role Playing;Action & Adventure',\n",
       "       'Simulation;Pretend Play', 'Puzzle;Creativity',\n",
       "       'Sports;Action & Adventure', 'Educational;Action & Adventure',\n",
       "       'Arcade;Action & Adventure', 'Entertainment;Action & Adventure',\n",
       "       'Puzzle;Action & Adventure', 'Strategy;Action & Adventure',\n",
       "       'Music & Audio;Music & Video', 'Health & Fitness;Education',\n",
       "       'Adventure;Education', 'Board;Brain Games',\n",
       "       'Board;Action & Adventure', 'Board;Pretend Play',\n",
       "       'Casual;Music & Video', 'Role Playing;Pretend Play',\n",
       "       'Entertainment;Pretend Play', 'Video Players & Editors;Creativity',\n",
       "       'Card;Action & Adventure', 'Medical', 'Social', 'Shopping',\n",
       "       'Photography', 'Travel & Local',\n",
       "       'Travel & Local;Action & Adventure', 'Tools', 'Tools;Education',\n",
       "       'Personalization', 'Productivity', 'Parenting',\n",
       "       'Parenting;Music & Video', 'Parenting;Education',\n",
       "       'Parenting;Brain Games', 'Weather', 'Video Players & Editors',\n",
       "       'Video Players & Editors;Music & Video', 'News & Magazines',\n",
       "       'Maps & Navigation', 'Health & Fitness;Action & Adventure',\n",
       "       'Educational', 'Casino', 'Adventure;Brain Games',\n",
       "       'Trivia;Education', 'Lifestyle;Education',\n",
       "       'Books & Reference;Creativity', 'Books & Reference;Education',\n",
       "       'Puzzle;Education', 'Role Playing;Education',\n",
       "       'Role Playing;Brain Games', 'Strategy;Education',\n",
       "       'Racing;Pretend Play', 'Communication;Creativity',\n",
       "       'February 11, 2018', 'Strategy;Creativity'], dtype=object)"
      ]
     },
     "execution_count": 18,
     "metadata": {},
     "output_type": "execute_result"
    }
   ],
   "source": [
    "gp_store[\"Genres\"].unique()"
   ]
  },
  {
   "cell_type": "code",
   "execution_count": 19,
   "id": "1ec765da",
   "metadata": {},
   "outputs": [
    {
     "data": {
      "text/plain": [
       "120"
      ]
     },
     "execution_count": 19,
     "metadata": {},
     "output_type": "execute_result"
    }
   ],
   "source": [
    "gp_store[\"Genres\"].nunique()"
   ]
  },
  {
   "cell_type": "code",
   "execution_count": 20,
   "id": "5407476a",
   "metadata": {
    "scrolled": true
   },
   "outputs": [
    {
     "data": {
      "text/plain": [
       "array([ 4.1,  3.9,  4.7,  4.5,  4.3,  4.4,  3.8,  4.2,  4.6,  3.2,  4. ,\n",
       "        nan,  4.8,  4.9,  3.6,  3.7,  3.3,  3.4,  3.5,  3.1,  5. ,  2.6,\n",
       "        3. ,  1.9,  2.5,  2.8,  2.7,  1. ,  2.9,  2.3,  2.2,  1.7,  2. ,\n",
       "        1.8,  2.4,  1.6,  2.1,  1.4,  1.5,  1.2, 19. ])"
      ]
     },
     "execution_count": 20,
     "metadata": {},
     "output_type": "execute_result"
    }
   ],
   "source": [
    "gp_store[\"Rating\"].unique()"
   ]
  },
  {
   "cell_type": "code",
   "execution_count": 21,
   "id": "e1e663c6",
   "metadata": {},
   "outputs": [
    {
     "data": {
      "text/plain": [
       "40"
      ]
     },
     "execution_count": 21,
     "metadata": {},
     "output_type": "execute_result"
    }
   ],
   "source": [
    "gp_store[\"Rating\"].nunique()"
   ]
  },
  {
   "cell_type": "code",
   "execution_count": 22,
   "id": "cb4bc649",
   "metadata": {},
   "outputs": [
    {
     "data": {
      "text/plain": [
       "array(['Free', 'Paid', nan, '0'], dtype=object)"
      ]
     },
     "execution_count": 22,
     "metadata": {},
     "output_type": "execute_result"
    }
   ],
   "source": [
    "gp_store[\"Type\"].unique()"
   ]
  },
  {
   "cell_type": "code",
   "execution_count": 23,
   "id": "d5f2020b",
   "metadata": {},
   "outputs": [
    {
     "data": {
      "text/plain": [
       "3"
      ]
     },
     "execution_count": 23,
     "metadata": {},
     "output_type": "execute_result"
    }
   ],
   "source": [
    "gp_store[\"Type\"].nunique()"
   ]
  },
  {
   "cell_type": "code",
   "execution_count": 24,
   "id": "104f3ba3",
   "metadata": {},
   "outputs": [
    {
     "data": {
      "text/plain": [
       "array(['January 7, 2018', 'January 15, 2018', 'August 1, 2018', ...,\n",
       "       'January 20, 2014', 'February 16, 2014', 'March 23, 2014'],\n",
       "      dtype=object)"
      ]
     },
     "execution_count": 24,
     "metadata": {},
     "output_type": "execute_result"
    }
   ],
   "source": [
    "gp_store[\"Last Updated\"].unique()"
   ]
  },
  {
   "cell_type": "code",
   "execution_count": 25,
   "id": "c74118f1",
   "metadata": {},
   "outputs": [
    {
     "data": {
      "text/plain": [
       "1378"
      ]
     },
     "execution_count": 25,
     "metadata": {},
     "output_type": "execute_result"
    }
   ],
   "source": [
    "gp_store[\"Last Updated\"].nunique()"
   ]
  },
  {
   "cell_type": "code",
   "execution_count": 26,
   "id": "29f90466",
   "metadata": {},
   "outputs": [
    {
     "data": {
      "text/plain": [
       "array(['1.0.0', '2.0.0', '1.2.4', ..., '1.0.612928', '0.3.4', '2.0.148.0'],\n",
       "      dtype=object)"
      ]
     },
     "execution_count": 26,
     "metadata": {},
     "output_type": "execute_result"
    }
   ],
   "source": [
    "gp_store[\"Current Ver\"].unique()"
   ]
  },
  {
   "cell_type": "code",
   "execution_count": 27,
   "id": "02474f98",
   "metadata": {},
   "outputs": [
    {
     "data": {
      "text/plain": [
       "2832"
      ]
     },
     "execution_count": 27,
     "metadata": {},
     "output_type": "execute_result"
    }
   ],
   "source": [
    "gp_store[\"Current Ver\"].nunique()"
   ]
  },
  {
   "cell_type": "code",
   "execution_count": 28,
   "id": "7a0b5494",
   "metadata": {},
   "outputs": [
    {
     "data": {
      "text/plain": [
       "array(['4.0.3 and up', '4.2 and up', '4.4 and up', '2.3 and up',\n",
       "       '3.0 and up', '4.1 and up', '4.0 and up', '2.3.3 and up',\n",
       "       'Varies with device', '2.2 and up', '5.0 and up', '6.0 and up',\n",
       "       '1.6 and up', '1.5 and up', '2.1 and up', '7.0 and up',\n",
       "       '5.1 and up', '4.3 and up', '4.0.3 - 7.1.1', '2.0 and up',\n",
       "       '3.2 and up', '4.4W and up', '7.1 and up', '7.0 - 7.1.1',\n",
       "       '8.0 and up', '5.0 - 8.0', '3.1 and up', '2.0.1 and up',\n",
       "       '4.1 - 7.1.1', nan, '5.0 - 6.0', '1.0 and up', '2.2 - 7.1.1',\n",
       "       '5.0 - 7.1.1'], dtype=object)"
      ]
     },
     "execution_count": 28,
     "metadata": {},
     "output_type": "execute_result"
    }
   ],
   "source": [
    "gp_store[\"Android Ver\"].unique()"
   ]
  },
  {
   "cell_type": "code",
   "execution_count": 29,
   "id": "8d98875a",
   "metadata": {},
   "outputs": [
    {
     "data": {
      "text/plain": [
       "33"
      ]
     },
     "execution_count": 29,
     "metadata": {},
     "output_type": "execute_result"
    }
   ],
   "source": [
    "gp_store[\"Android Ver\"].nunique()"
   ]
  },
  {
   "cell_type": "markdown",
   "id": "3e0be96a",
   "metadata": {},
   "source": [
    "## Finding the null values"
   ]
  },
  {
   "cell_type": "code",
   "execution_count": 30,
   "id": "49a48be0",
   "metadata": {},
   "outputs": [
    {
     "data": {
      "text/plain": [
       "App                  0\n",
       "Category             0\n",
       "Rating            1474\n",
       "Reviews              0\n",
       "Size                 0\n",
       "Installs             0\n",
       "Type                 1\n",
       "Price                0\n",
       "Content Rating       1\n",
       "Genres               0\n",
       "Last Updated         0\n",
       "Current Ver          8\n",
       "Android Ver          3\n",
       "dtype: int64"
      ]
     },
     "execution_count": 30,
     "metadata": {},
     "output_type": "execute_result"
    }
   ],
   "source": [
    "gp_store.isnull().sum()"
   ]
  },
  {
   "cell_type": "markdown",
   "id": "5c94d036",
   "metadata": {},
   "source": [
    "#### .isnull() checks the column consits of null values or not\n",
    "#### .sum() counts and gives how many null values present a column"
   ]
  },
  {
   "cell_type": "markdown",
   "id": "9b2776db",
   "metadata": {},
   "source": [
    "### percentage of null values in a particular column"
   ]
  },
  {
   "cell_type": "code",
   "execution_count": 31,
   "id": "c4f1d038",
   "metadata": {},
   "outputs": [
    {
     "data": {
      "text/plain": [
       "App                0.000000\n",
       "Category           0.000000\n",
       "Rating            13.596532\n",
       "Reviews            0.000000\n",
       "Size               0.000000\n",
       "Installs           0.000000\n",
       "Type               0.009224\n",
       "Price              0.000000\n",
       "Content Rating     0.009224\n",
       "Genres             0.000000\n",
       "Last Updated       0.000000\n",
       "Current Ver        0.073794\n",
       "Android Ver        0.027673\n",
       "dtype: float64"
      ]
     },
     "execution_count": 31,
     "metadata": {},
     "output_type": "execute_result"
    }
   ],
   "source": [
    "(gp_store.isnull().sum()/gp_store.shape[0])*100"
   ]
  },
  {
   "cell_type": "code",
   "execution_count": 32,
   "id": "c9fb0ac5",
   "metadata": {},
   "outputs": [
    {
     "data": {
      "text/html": [
       "<div>\n",
       "<style scoped>\n",
       "    .dataframe tbody tr th:only-of-type {\n",
       "        vertical-align: middle;\n",
       "    }\n",
       "\n",
       "    .dataframe tbody tr th {\n",
       "        vertical-align: top;\n",
       "    }\n",
       "\n",
       "    .dataframe thead th {\n",
       "        text-align: right;\n",
       "    }\n",
       "</style>\n",
       "<table border=\"1\" class=\"dataframe\">\n",
       "  <thead>\n",
       "    <tr style=\"text-align: right;\">\n",
       "      <th></th>\n",
       "      <th>App</th>\n",
       "      <th>Category</th>\n",
       "      <th>Rating</th>\n",
       "      <th>Reviews</th>\n",
       "      <th>Size</th>\n",
       "      <th>Installs</th>\n",
       "      <th>Type</th>\n",
       "      <th>Price</th>\n",
       "      <th>Content Rating</th>\n",
       "      <th>Genres</th>\n",
       "      <th>Last Updated</th>\n",
       "      <th>Current Ver</th>\n",
       "      <th>Android Ver</th>\n",
       "    </tr>\n",
       "  </thead>\n",
       "  <tbody>\n",
       "    <tr>\n",
       "      <th>0</th>\n",
       "      <td>Photo Editor &amp; Candy Camera &amp; Grid &amp; ScrapBook</td>\n",
       "      <td>ART_AND_DESIGN</td>\n",
       "      <td>4.1</td>\n",
       "      <td>159</td>\n",
       "      <td>19M</td>\n",
       "      <td>10,000+</td>\n",
       "      <td>Free</td>\n",
       "      <td>0</td>\n",
       "      <td>Everyone</td>\n",
       "      <td>Art &amp; Design</td>\n",
       "      <td>January 7, 2018</td>\n",
       "      <td>1.0.0</td>\n",
       "      <td>4.0.3 and up</td>\n",
       "    </tr>\n",
       "    <tr>\n",
       "      <th>1</th>\n",
       "      <td>Coloring book moana</td>\n",
       "      <td>ART_AND_DESIGN</td>\n",
       "      <td>3.9</td>\n",
       "      <td>967</td>\n",
       "      <td>14M</td>\n",
       "      <td>500,000+</td>\n",
       "      <td>Free</td>\n",
       "      <td>0</td>\n",
       "      <td>Everyone</td>\n",
       "      <td>Art &amp; Design;Pretend Play</td>\n",
       "      <td>January 15, 2018</td>\n",
       "      <td>2.0.0</td>\n",
       "      <td>4.0.3 and up</td>\n",
       "    </tr>\n",
       "    <tr>\n",
       "      <th>2</th>\n",
       "      <td>U Launcher Lite – FREE Live Cool Themes, Hide ...</td>\n",
       "      <td>ART_AND_DESIGN</td>\n",
       "      <td>4.7</td>\n",
       "      <td>87510</td>\n",
       "      <td>8.7M</td>\n",
       "      <td>5,000,000+</td>\n",
       "      <td>Free</td>\n",
       "      <td>0</td>\n",
       "      <td>Everyone</td>\n",
       "      <td>Art &amp; Design</td>\n",
       "      <td>August 1, 2018</td>\n",
       "      <td>1.2.4</td>\n",
       "      <td>4.0.3 and up</td>\n",
       "    </tr>\n",
       "    <tr>\n",
       "      <th>3</th>\n",
       "      <td>Sketch - Draw &amp; Paint</td>\n",
       "      <td>ART_AND_DESIGN</td>\n",
       "      <td>4.5</td>\n",
       "      <td>215644</td>\n",
       "      <td>25M</td>\n",
       "      <td>50,000,000+</td>\n",
       "      <td>Free</td>\n",
       "      <td>0</td>\n",
       "      <td>Teen</td>\n",
       "      <td>Art &amp; Design</td>\n",
       "      <td>June 8, 2018</td>\n",
       "      <td>Varies with device</td>\n",
       "      <td>4.2 and up</td>\n",
       "    </tr>\n",
       "    <tr>\n",
       "      <th>4</th>\n",
       "      <td>Pixel Draw - Number Art Coloring Book</td>\n",
       "      <td>ART_AND_DESIGN</td>\n",
       "      <td>4.3</td>\n",
       "      <td>967</td>\n",
       "      <td>2.8M</td>\n",
       "      <td>100,000+</td>\n",
       "      <td>Free</td>\n",
       "      <td>0</td>\n",
       "      <td>Everyone</td>\n",
       "      <td>Art &amp; Design;Creativity</td>\n",
       "      <td>June 20, 2018</td>\n",
       "      <td>1.1</td>\n",
       "      <td>4.4 and up</td>\n",
       "    </tr>\n",
       "    <tr>\n",
       "      <th>5</th>\n",
       "      <td>Sya9a Maroc - FR</td>\n",
       "      <td>FAMILY</td>\n",
       "      <td>4.5</td>\n",
       "      <td>38</td>\n",
       "      <td>53M</td>\n",
       "      <td>5,000+</td>\n",
       "      <td>Free</td>\n",
       "      <td>0</td>\n",
       "      <td>Everyone</td>\n",
       "      <td>Education</td>\n",
       "      <td>July 25, 2017</td>\n",
       "      <td>1.48</td>\n",
       "      <td>4.1 and up</td>\n",
       "    </tr>\n",
       "    <tr>\n",
       "      <th>6</th>\n",
       "      <td>Fr. Mike Schmitz Audio Teachings</td>\n",
       "      <td>FAMILY</td>\n",
       "      <td>5.0</td>\n",
       "      <td>4</td>\n",
       "      <td>3.6M</td>\n",
       "      <td>100+</td>\n",
       "      <td>Free</td>\n",
       "      <td>0</td>\n",
       "      <td>Everyone</td>\n",
       "      <td>Education</td>\n",
       "      <td>July 6, 2018</td>\n",
       "      <td>1.0</td>\n",
       "      <td>4.1 and up</td>\n",
       "    </tr>\n",
       "    <tr>\n",
       "      <th>7</th>\n",
       "      <td>Parkinson Exercices FR</td>\n",
       "      <td>MEDICAL</td>\n",
       "      <td>NaN</td>\n",
       "      <td>3</td>\n",
       "      <td>9.5M</td>\n",
       "      <td>1,000+</td>\n",
       "      <td>Free</td>\n",
       "      <td>0</td>\n",
       "      <td>Everyone</td>\n",
       "      <td>Medical</td>\n",
       "      <td>January 20, 2017</td>\n",
       "      <td>1.0</td>\n",
       "      <td>2.2 and up</td>\n",
       "    </tr>\n",
       "    <tr>\n",
       "      <th>8</th>\n",
       "      <td>The SCP Foundation DB fr nn5n</td>\n",
       "      <td>BOOKS_AND_REFERENCE</td>\n",
       "      <td>4.5</td>\n",
       "      <td>114</td>\n",
       "      <td>Varies with device</td>\n",
       "      <td>1,000+</td>\n",
       "      <td>Free</td>\n",
       "      <td>0</td>\n",
       "      <td>Mature 17+</td>\n",
       "      <td>Books &amp; Reference</td>\n",
       "      <td>January 19, 2015</td>\n",
       "      <td>Varies with device</td>\n",
       "      <td>Varies with device</td>\n",
       "    </tr>\n",
       "    <tr>\n",
       "      <th>9</th>\n",
       "      <td>iHoroscope - 2018 Daily Horoscope &amp; Astrology</td>\n",
       "      <td>LIFESTYLE</td>\n",
       "      <td>4.5</td>\n",
       "      <td>398307</td>\n",
       "      <td>19M</td>\n",
       "      <td>10,000,000+</td>\n",
       "      <td>Free</td>\n",
       "      <td>0</td>\n",
       "      <td>Everyone</td>\n",
       "      <td>Lifestyle</td>\n",
       "      <td>July 25, 2018</td>\n",
       "      <td>Varies with device</td>\n",
       "      <td>Varies with device</td>\n",
       "    </tr>\n",
       "  </tbody>\n",
       "</table>\n",
       "</div>"
      ],
      "text/plain": [
       "                                                 App             Category  \\\n",
       "0     Photo Editor & Candy Camera & Grid & ScrapBook       ART_AND_DESIGN   \n",
       "1                                Coloring book moana       ART_AND_DESIGN   \n",
       "2  U Launcher Lite – FREE Live Cool Themes, Hide ...       ART_AND_DESIGN   \n",
       "3                              Sketch - Draw & Paint       ART_AND_DESIGN   \n",
       "4              Pixel Draw - Number Art Coloring Book       ART_AND_DESIGN   \n",
       "5                                   Sya9a Maroc - FR               FAMILY   \n",
       "6                   Fr. Mike Schmitz Audio Teachings               FAMILY   \n",
       "7                             Parkinson Exercices FR              MEDICAL   \n",
       "8                      The SCP Foundation DB fr nn5n  BOOKS_AND_REFERENCE   \n",
       "9      iHoroscope - 2018 Daily Horoscope & Astrology            LIFESTYLE   \n",
       "\n",
       "   Rating Reviews                Size     Installs  Type Price Content Rating  \\\n",
       "0     4.1     159                 19M      10,000+  Free     0       Everyone   \n",
       "1     3.9     967                 14M     500,000+  Free     0       Everyone   \n",
       "2     4.7   87510                8.7M   5,000,000+  Free     0       Everyone   \n",
       "3     4.5  215644                 25M  50,000,000+  Free     0           Teen   \n",
       "4     4.3     967                2.8M     100,000+  Free     0       Everyone   \n",
       "5     4.5      38                 53M       5,000+  Free     0       Everyone   \n",
       "6     5.0       4                3.6M         100+  Free     0       Everyone   \n",
       "7     NaN       3                9.5M       1,000+  Free     0       Everyone   \n",
       "8     4.5     114  Varies with device       1,000+  Free     0     Mature 17+   \n",
       "9     4.5  398307                 19M  10,000,000+  Free     0       Everyone   \n",
       "\n",
       "                      Genres      Last Updated         Current Ver  \\\n",
       "0               Art & Design   January 7, 2018               1.0.0   \n",
       "1  Art & Design;Pretend Play  January 15, 2018               2.0.0   \n",
       "2               Art & Design    August 1, 2018               1.2.4   \n",
       "3               Art & Design      June 8, 2018  Varies with device   \n",
       "4    Art & Design;Creativity     June 20, 2018                 1.1   \n",
       "5                  Education     July 25, 2017                1.48   \n",
       "6                  Education      July 6, 2018                 1.0   \n",
       "7                    Medical  January 20, 2017                 1.0   \n",
       "8          Books & Reference  January 19, 2015  Varies with device   \n",
       "9                  Lifestyle     July 25, 2018  Varies with device   \n",
       "\n",
       "          Android Ver  \n",
       "0        4.0.3 and up  \n",
       "1        4.0.3 and up  \n",
       "2        4.0.3 and up  \n",
       "3          4.2 and up  \n",
       "4          4.4 and up  \n",
       "5          4.1 and up  \n",
       "6          4.1 and up  \n",
       "7          2.2 and up  \n",
       "8  Varies with device  \n",
       "9  Varies with device  "
      ]
     },
     "execution_count": 32,
     "metadata": {},
     "output_type": "execute_result"
    }
   ],
   "source": [
    "data1 = gp_store.head()\n",
    "data2 = gp_store.tail()\n",
    "concat_data = pd.concat([data1,data2],axis=0,ignore_index=True)\n",
    "concat_data"
   ]
  },
  {
   "cell_type": "markdown",
   "id": "b1e7ef93",
   "metadata": {},
   "source": [
    "## Duplicates"
   ]
  },
  {
   "cell_type": "code",
   "execution_count": 33,
   "id": "909e83e0",
   "metadata": {},
   "outputs": [
    {
     "data": {
      "text/plain": [
       "483"
      ]
     },
     "execution_count": 33,
     "metadata": {},
     "output_type": "execute_result"
    }
   ],
   "source": [
    "gp_store.duplicated().sum()"
   ]
  },
  {
   "cell_type": "code",
   "execution_count": 34,
   "id": "8cd9228d",
   "metadata": {},
   "outputs": [
    {
     "data": {
      "text/plain": [
       "1181"
      ]
     },
     "execution_count": 34,
     "metadata": {},
     "output_type": "execute_result"
    }
   ],
   "source": [
    "gp_store.App.duplicated().sum()"
   ]
  },
  {
   "cell_type": "code",
   "execution_count": 35,
   "id": "8327b717",
   "metadata": {},
   "outputs": [
    {
     "data": {
      "text/html": [
       "<div>\n",
       "<style scoped>\n",
       "    .dataframe tbody tr th:only-of-type {\n",
       "        vertical-align: middle;\n",
       "    }\n",
       "\n",
       "    .dataframe tbody tr th {\n",
       "        vertical-align: top;\n",
       "    }\n",
       "\n",
       "    .dataframe thead th {\n",
       "        text-align: right;\n",
       "    }\n",
       "</style>\n",
       "<table border=\"1\" class=\"dataframe\">\n",
       "  <thead>\n",
       "    <tr style=\"text-align: right;\">\n",
       "      <th></th>\n",
       "      <th>App</th>\n",
       "      <th>Category</th>\n",
       "      <th>Rating</th>\n",
       "      <th>Reviews</th>\n",
       "      <th>Size</th>\n",
       "      <th>Installs</th>\n",
       "      <th>Type</th>\n",
       "      <th>Price</th>\n",
       "      <th>Content Rating</th>\n",
       "      <th>Genres</th>\n",
       "      <th>Last Updated</th>\n",
       "      <th>Current Ver</th>\n",
       "      <th>Android Ver</th>\n",
       "    </tr>\n",
       "  </thead>\n",
       "  <tbody>\n",
       "    <tr>\n",
       "      <th>229</th>\n",
       "      <td>Quick PDF Scanner + OCR FREE</td>\n",
       "      <td>BUSINESS</td>\n",
       "      <td>4.2</td>\n",
       "      <td>80805</td>\n",
       "      <td>Varies with device</td>\n",
       "      <td>5,000,000+</td>\n",
       "      <td>Free</td>\n",
       "      <td>0</td>\n",
       "      <td>Everyone</td>\n",
       "      <td>Business</td>\n",
       "      <td>February 26, 2018</td>\n",
       "      <td>Varies with device</td>\n",
       "      <td>4.0.3 and up</td>\n",
       "    </tr>\n",
       "    <tr>\n",
       "      <th>236</th>\n",
       "      <td>Box</td>\n",
       "      <td>BUSINESS</td>\n",
       "      <td>4.2</td>\n",
       "      <td>159872</td>\n",
       "      <td>Varies with device</td>\n",
       "      <td>10,000,000+</td>\n",
       "      <td>Free</td>\n",
       "      <td>0</td>\n",
       "      <td>Everyone</td>\n",
       "      <td>Business</td>\n",
       "      <td>July 31, 2018</td>\n",
       "      <td>Varies with device</td>\n",
       "      <td>Varies with device</td>\n",
       "    </tr>\n",
       "    <tr>\n",
       "      <th>239</th>\n",
       "      <td>Google My Business</td>\n",
       "      <td>BUSINESS</td>\n",
       "      <td>4.4</td>\n",
       "      <td>70991</td>\n",
       "      <td>Varies with device</td>\n",
       "      <td>5,000,000+</td>\n",
       "      <td>Free</td>\n",
       "      <td>0</td>\n",
       "      <td>Everyone</td>\n",
       "      <td>Business</td>\n",
       "      <td>July 24, 2018</td>\n",
       "      <td>2.19.0.204537701</td>\n",
       "      <td>4.4 and up</td>\n",
       "    </tr>\n",
       "    <tr>\n",
       "      <th>256</th>\n",
       "      <td>ZOOM Cloud Meetings</td>\n",
       "      <td>BUSINESS</td>\n",
       "      <td>4.4</td>\n",
       "      <td>31614</td>\n",
       "      <td>37M</td>\n",
       "      <td>10,000,000+</td>\n",
       "      <td>Free</td>\n",
       "      <td>0</td>\n",
       "      <td>Everyone</td>\n",
       "      <td>Business</td>\n",
       "      <td>July 20, 2018</td>\n",
       "      <td>4.1.28165.0716</td>\n",
       "      <td>4.0 and up</td>\n",
       "    </tr>\n",
       "    <tr>\n",
       "      <th>261</th>\n",
       "      <td>join.me - Simple Meetings</td>\n",
       "      <td>BUSINESS</td>\n",
       "      <td>4.0</td>\n",
       "      <td>6989</td>\n",
       "      <td>Varies with device</td>\n",
       "      <td>1,000,000+</td>\n",
       "      <td>Free</td>\n",
       "      <td>0</td>\n",
       "      <td>Everyone</td>\n",
       "      <td>Business</td>\n",
       "      <td>July 16, 2018</td>\n",
       "      <td>4.3.0.508</td>\n",
       "      <td>4.4 and up</td>\n",
       "    </tr>\n",
       "    <tr>\n",
       "      <th>...</th>\n",
       "      <td>...</td>\n",
       "      <td>...</td>\n",
       "      <td>...</td>\n",
       "      <td>...</td>\n",
       "      <td>...</td>\n",
       "      <td>...</td>\n",
       "      <td>...</td>\n",
       "      <td>...</td>\n",
       "      <td>...</td>\n",
       "      <td>...</td>\n",
       "      <td>...</td>\n",
       "      <td>...</td>\n",
       "      <td>...</td>\n",
       "    </tr>\n",
       "    <tr>\n",
       "      <th>10715</th>\n",
       "      <td>FarmersOnly Dating</td>\n",
       "      <td>DATING</td>\n",
       "      <td>3.0</td>\n",
       "      <td>1145</td>\n",
       "      <td>1.4M</td>\n",
       "      <td>100,000+</td>\n",
       "      <td>Free</td>\n",
       "      <td>0</td>\n",
       "      <td>Mature 17+</td>\n",
       "      <td>Dating</td>\n",
       "      <td>February 25, 2016</td>\n",
       "      <td>2.2</td>\n",
       "      <td>4.0 and up</td>\n",
       "    </tr>\n",
       "    <tr>\n",
       "      <th>10720</th>\n",
       "      <td>Firefox Focus: The privacy browser</td>\n",
       "      <td>COMMUNICATION</td>\n",
       "      <td>4.4</td>\n",
       "      <td>36981</td>\n",
       "      <td>4.0M</td>\n",
       "      <td>1,000,000+</td>\n",
       "      <td>Free</td>\n",
       "      <td>0</td>\n",
       "      <td>Everyone</td>\n",
       "      <td>Communication</td>\n",
       "      <td>July 6, 2018</td>\n",
       "      <td>5.2</td>\n",
       "      <td>5.0 and up</td>\n",
       "    </tr>\n",
       "    <tr>\n",
       "      <th>10730</th>\n",
       "      <td>FP Notebook</td>\n",
       "      <td>MEDICAL</td>\n",
       "      <td>4.5</td>\n",
       "      <td>410</td>\n",
       "      <td>60M</td>\n",
       "      <td>50,000+</td>\n",
       "      <td>Free</td>\n",
       "      <td>0</td>\n",
       "      <td>Everyone</td>\n",
       "      <td>Medical</td>\n",
       "      <td>March 24, 2018</td>\n",
       "      <td>2.1.0.372</td>\n",
       "      <td>4.4 and up</td>\n",
       "    </tr>\n",
       "    <tr>\n",
       "      <th>10753</th>\n",
       "      <td>Slickdeals: Coupons &amp; Shopping</td>\n",
       "      <td>SHOPPING</td>\n",
       "      <td>4.5</td>\n",
       "      <td>33599</td>\n",
       "      <td>12M</td>\n",
       "      <td>1,000,000+</td>\n",
       "      <td>Free</td>\n",
       "      <td>0</td>\n",
       "      <td>Everyone</td>\n",
       "      <td>Shopping</td>\n",
       "      <td>July 30, 2018</td>\n",
       "      <td>3.9</td>\n",
       "      <td>4.4 and up</td>\n",
       "    </tr>\n",
       "    <tr>\n",
       "      <th>10768</th>\n",
       "      <td>AAFP</td>\n",
       "      <td>MEDICAL</td>\n",
       "      <td>3.8</td>\n",
       "      <td>63</td>\n",
       "      <td>24M</td>\n",
       "      <td>10,000+</td>\n",
       "      <td>Free</td>\n",
       "      <td>0</td>\n",
       "      <td>Everyone</td>\n",
       "      <td>Medical</td>\n",
       "      <td>June 22, 2018</td>\n",
       "      <td>2.3.1</td>\n",
       "      <td>5.0 and up</td>\n",
       "    </tr>\n",
       "  </tbody>\n",
       "</table>\n",
       "<p>1181 rows × 13 columns</p>\n",
       "</div>"
      ],
      "text/plain": [
       "                                      App       Category  Rating Reviews  \\\n",
       "229          Quick PDF Scanner + OCR FREE       BUSINESS     4.2   80805   \n",
       "236                                   Box       BUSINESS     4.2  159872   \n",
       "239                    Google My Business       BUSINESS     4.4   70991   \n",
       "256                   ZOOM Cloud Meetings       BUSINESS     4.4   31614   \n",
       "261             join.me - Simple Meetings       BUSINESS     4.0    6989   \n",
       "...                                   ...            ...     ...     ...   \n",
       "10715                  FarmersOnly Dating         DATING     3.0    1145   \n",
       "10720  Firefox Focus: The privacy browser  COMMUNICATION     4.4   36981   \n",
       "10730                         FP Notebook        MEDICAL     4.5     410   \n",
       "10753      Slickdeals: Coupons & Shopping       SHOPPING     4.5   33599   \n",
       "10768                                AAFP        MEDICAL     3.8      63   \n",
       "\n",
       "                     Size     Installs  Type Price Content Rating  \\\n",
       "229    Varies with device   5,000,000+  Free     0       Everyone   \n",
       "236    Varies with device  10,000,000+  Free     0       Everyone   \n",
       "239    Varies with device   5,000,000+  Free     0       Everyone   \n",
       "256                   37M  10,000,000+  Free     0       Everyone   \n",
       "261    Varies with device   1,000,000+  Free     0       Everyone   \n",
       "...                   ...          ...   ...   ...            ...   \n",
       "10715                1.4M     100,000+  Free     0     Mature 17+   \n",
       "10720                4.0M   1,000,000+  Free     0       Everyone   \n",
       "10730                 60M      50,000+  Free     0       Everyone   \n",
       "10753                 12M   1,000,000+  Free     0       Everyone   \n",
       "10768                 24M      10,000+  Free     0       Everyone   \n",
       "\n",
       "              Genres       Last Updated         Current Ver  \\\n",
       "229         Business  February 26, 2018  Varies with device   \n",
       "236         Business      July 31, 2018  Varies with device   \n",
       "239         Business      July 24, 2018    2.19.0.204537701   \n",
       "256         Business      July 20, 2018      4.1.28165.0716   \n",
       "261         Business      July 16, 2018           4.3.0.508   \n",
       "...              ...                ...                 ...   \n",
       "10715         Dating  February 25, 2016                 2.2   \n",
       "10720  Communication       July 6, 2018                 5.2   \n",
       "10730        Medical     March 24, 2018           2.1.0.372   \n",
       "10753       Shopping      July 30, 2018                 3.9   \n",
       "10768        Medical      June 22, 2018               2.3.1   \n",
       "\n",
       "              Android Ver  \n",
       "229          4.0.3 and up  \n",
       "236    Varies with device  \n",
       "239            4.4 and up  \n",
       "256            4.0 and up  \n",
       "261            4.4 and up  \n",
       "...                   ...  \n",
       "10715          4.0 and up  \n",
       "10720          5.0 and up  \n",
       "10730          4.4 and up  \n",
       "10753          4.4 and up  \n",
       "10768          5.0 and up  \n",
       "\n",
       "[1181 rows x 13 columns]"
      ]
     },
     "execution_count": 35,
     "metadata": {},
     "output_type": "execute_result"
    }
   ],
   "source": [
    "gp_store[gp_store.App.duplicated()]"
   ]
  },
  {
   "cell_type": "markdown",
   "id": "6d172e65",
   "metadata": {},
   "source": [
    "#### printed the all duplicates present in App column"
   ]
  },
  {
   "cell_type": "code",
   "execution_count": 36,
   "id": "34dddf4d",
   "metadata": {},
   "outputs": [
    {
     "data": {
      "text/html": [
       "<div>\n",
       "<style scoped>\n",
       "    .dataframe tbody tr th:only-of-type {\n",
       "        vertical-align: middle;\n",
       "    }\n",
       "\n",
       "    .dataframe tbody tr th {\n",
       "        vertical-align: top;\n",
       "    }\n",
       "\n",
       "    .dataframe thead th {\n",
       "        text-align: right;\n",
       "    }\n",
       "</style>\n",
       "<table border=\"1\" class=\"dataframe\">\n",
       "  <thead>\n",
       "    <tr style=\"text-align: right;\">\n",
       "      <th></th>\n",
       "      <th>App</th>\n",
       "      <th>Category</th>\n",
       "      <th>Rating</th>\n",
       "      <th>Reviews</th>\n",
       "      <th>Size</th>\n",
       "      <th>Installs</th>\n",
       "      <th>Type</th>\n",
       "      <th>Price</th>\n",
       "      <th>Content Rating</th>\n",
       "      <th>Genres</th>\n",
       "      <th>Last Updated</th>\n",
       "      <th>Current Ver</th>\n",
       "      <th>Android Ver</th>\n",
       "    </tr>\n",
       "  </thead>\n",
       "  <tbody>\n",
       "    <tr>\n",
       "      <th>2515</th>\n",
       "      <td>AAFP</td>\n",
       "      <td>MEDICAL</td>\n",
       "      <td>3.8</td>\n",
       "      <td>63</td>\n",
       "      <td>24M</td>\n",
       "      <td>10,000+</td>\n",
       "      <td>Free</td>\n",
       "      <td>0</td>\n",
       "      <td>Everyone</td>\n",
       "      <td>Medical</td>\n",
       "      <td>June 22, 2018</td>\n",
       "      <td>2.3.1</td>\n",
       "      <td>5.0 and up</td>\n",
       "    </tr>\n",
       "    <tr>\n",
       "      <th>10768</th>\n",
       "      <td>AAFP</td>\n",
       "      <td>MEDICAL</td>\n",
       "      <td>3.8</td>\n",
       "      <td>63</td>\n",
       "      <td>24M</td>\n",
       "      <td>10,000+</td>\n",
       "      <td>Free</td>\n",
       "      <td>0</td>\n",
       "      <td>Everyone</td>\n",
       "      <td>Medical</td>\n",
       "      <td>June 22, 2018</td>\n",
       "      <td>2.3.1</td>\n",
       "      <td>5.0 and up</td>\n",
       "    </tr>\n",
       "  </tbody>\n",
       "</table>\n",
       "</div>"
      ],
      "text/plain": [
       "        App Category  Rating Reviews Size Installs  Type Price Content Rating  \\\n",
       "2515   AAFP  MEDICAL     3.8      63  24M  10,000+  Free     0       Everyone   \n",
       "10768  AAFP  MEDICAL     3.8      63  24M  10,000+  Free     0       Everyone   \n",
       "\n",
       "        Genres   Last Updated Current Ver Android Ver  \n",
       "2515   Medical  June 22, 2018       2.3.1  5.0 and up  \n",
       "10768  Medical  June 22, 2018       2.3.1  5.0 and up  "
      ]
     },
     "execution_count": 36,
     "metadata": {},
     "output_type": "execute_result"
    }
   ],
   "source": [
    "gp_store[gp_store.App == \"AAFP\"]"
   ]
  },
  {
   "cell_type": "code",
   "execution_count": 37,
   "id": "94088d25",
   "metadata": {},
   "outputs": [
    {
     "data": {
      "text/html": [
       "<div>\n",
       "<style scoped>\n",
       "    .dataframe tbody tr th:only-of-type {\n",
       "        vertical-align: middle;\n",
       "    }\n",
       "\n",
       "    .dataframe tbody tr th {\n",
       "        vertical-align: top;\n",
       "    }\n",
       "\n",
       "    .dataframe thead th {\n",
       "        text-align: right;\n",
       "    }\n",
       "</style>\n",
       "<table border=\"1\" class=\"dataframe\">\n",
       "  <thead>\n",
       "    <tr style=\"text-align: right;\">\n",
       "      <th></th>\n",
       "      <th>App</th>\n",
       "      <th>Category</th>\n",
       "      <th>Rating</th>\n",
       "      <th>Reviews</th>\n",
       "      <th>Size</th>\n",
       "      <th>Installs</th>\n",
       "      <th>Type</th>\n",
       "      <th>Price</th>\n",
       "      <th>Content Rating</th>\n",
       "      <th>Genres</th>\n",
       "      <th>Last Updated</th>\n",
       "      <th>Current Ver</th>\n",
       "      <th>Android Ver</th>\n",
       "    </tr>\n",
       "  </thead>\n",
       "  <tbody>\n",
       "    <tr>\n",
       "      <th>2379</th>\n",
       "      <td>FP Notebook</td>\n",
       "      <td>MEDICAL</td>\n",
       "      <td>4.5</td>\n",
       "      <td>408</td>\n",
       "      <td>60M</td>\n",
       "      <td>50,000+</td>\n",
       "      <td>Free</td>\n",
       "      <td>0</td>\n",
       "      <td>Everyone</td>\n",
       "      <td>Medical</td>\n",
       "      <td>March 24, 2018</td>\n",
       "      <td>2.1.0.372</td>\n",
       "      <td>4.4 and up</td>\n",
       "    </tr>\n",
       "    <tr>\n",
       "      <th>10730</th>\n",
       "      <td>FP Notebook</td>\n",
       "      <td>MEDICAL</td>\n",
       "      <td>4.5</td>\n",
       "      <td>410</td>\n",
       "      <td>60M</td>\n",
       "      <td>50,000+</td>\n",
       "      <td>Free</td>\n",
       "      <td>0</td>\n",
       "      <td>Everyone</td>\n",
       "      <td>Medical</td>\n",
       "      <td>March 24, 2018</td>\n",
       "      <td>2.1.0.372</td>\n",
       "      <td>4.4 and up</td>\n",
       "    </tr>\n",
       "  </tbody>\n",
       "</table>\n",
       "</div>"
      ],
      "text/plain": [
       "               App Category  Rating Reviews Size Installs  Type Price  \\\n",
       "2379   FP Notebook  MEDICAL     4.5     408  60M  50,000+  Free     0   \n",
       "10730  FP Notebook  MEDICAL     4.5     410  60M  50,000+  Free     0   \n",
       "\n",
       "      Content Rating   Genres    Last Updated Current Ver Android Ver  \n",
       "2379        Everyone  Medical  March 24, 2018   2.1.0.372  4.4 and up  \n",
       "10730       Everyone  Medical  March 24, 2018   2.1.0.372  4.4 and up  "
      ]
     },
     "execution_count": 37,
     "metadata": {},
     "output_type": "execute_result"
    }
   ],
   "source": [
    "gp_store[gp_store.App == \"FP Notebook\"]"
   ]
  },
  {
   "cell_type": "code",
   "execution_count": 38,
   "id": "6d37e37e",
   "metadata": {},
   "outputs": [
    {
     "data": {
      "text/html": [
       "<div>\n",
       "<style scoped>\n",
       "    .dataframe tbody tr th:only-of-type {\n",
       "        vertical-align: middle;\n",
       "    }\n",
       "\n",
       "    .dataframe tbody tr th {\n",
       "        vertical-align: top;\n",
       "    }\n",
       "\n",
       "    .dataframe thead th {\n",
       "        text-align: right;\n",
       "    }\n",
       "</style>\n",
       "<table border=\"1\" class=\"dataframe\">\n",
       "  <thead>\n",
       "    <tr style=\"text-align: right;\">\n",
       "      <th></th>\n",
       "      <th>App</th>\n",
       "      <th>Category</th>\n",
       "      <th>Rating</th>\n",
       "      <th>Reviews</th>\n",
       "      <th>Size</th>\n",
       "      <th>Installs</th>\n",
       "      <th>Type</th>\n",
       "      <th>Price</th>\n",
       "      <th>Content Rating</th>\n",
       "      <th>Genres</th>\n",
       "      <th>Last Updated</th>\n",
       "      <th>Current Ver</th>\n",
       "      <th>Android Ver</th>\n",
       "    </tr>\n",
       "  </thead>\n",
       "  <tbody>\n",
       "    <tr>\n",
       "      <th>204</th>\n",
       "      <td>Box</td>\n",
       "      <td>BUSINESS</td>\n",
       "      <td>4.2</td>\n",
       "      <td>159872</td>\n",
       "      <td>Varies with device</td>\n",
       "      <td>10,000,000+</td>\n",
       "      <td>Free</td>\n",
       "      <td>0</td>\n",
       "      <td>Everyone</td>\n",
       "      <td>Business</td>\n",
       "      <td>July 31, 2018</td>\n",
       "      <td>Varies with device</td>\n",
       "      <td>Varies with device</td>\n",
       "    </tr>\n",
       "    <tr>\n",
       "      <th>236</th>\n",
       "      <td>Box</td>\n",
       "      <td>BUSINESS</td>\n",
       "      <td>4.2</td>\n",
       "      <td>159872</td>\n",
       "      <td>Varies with device</td>\n",
       "      <td>10,000,000+</td>\n",
       "      <td>Free</td>\n",
       "      <td>0</td>\n",
       "      <td>Everyone</td>\n",
       "      <td>Business</td>\n",
       "      <td>July 31, 2018</td>\n",
       "      <td>Varies with device</td>\n",
       "      <td>Varies with device</td>\n",
       "    </tr>\n",
       "    <tr>\n",
       "      <th>265</th>\n",
       "      <td>Box</td>\n",
       "      <td>BUSINESS</td>\n",
       "      <td>4.2</td>\n",
       "      <td>159872</td>\n",
       "      <td>Varies with device</td>\n",
       "      <td>10,000,000+</td>\n",
       "      <td>Free</td>\n",
       "      <td>0</td>\n",
       "      <td>Everyone</td>\n",
       "      <td>Business</td>\n",
       "      <td>July 31, 2018</td>\n",
       "      <td>Varies with device</td>\n",
       "      <td>Varies with device</td>\n",
       "    </tr>\n",
       "  </tbody>\n",
       "</table>\n",
       "</div>"
      ],
      "text/plain": [
       "     App  Category  Rating Reviews                Size     Installs  Type  \\\n",
       "204  Box  BUSINESS     4.2  159872  Varies with device  10,000,000+  Free   \n",
       "236  Box  BUSINESS     4.2  159872  Varies with device  10,000,000+  Free   \n",
       "265  Box  BUSINESS     4.2  159872  Varies with device  10,000,000+  Free   \n",
       "\n",
       "    Price Content Rating    Genres   Last Updated         Current Ver  \\\n",
       "204     0       Everyone  Business  July 31, 2018  Varies with device   \n",
       "236     0       Everyone  Business  July 31, 2018  Varies with device   \n",
       "265     0       Everyone  Business  July 31, 2018  Varies with device   \n",
       "\n",
       "            Android Ver  \n",
       "204  Varies with device  \n",
       "236  Varies with device  \n",
       "265  Varies with device  "
      ]
     },
     "execution_count": 38,
     "metadata": {},
     "output_type": "execute_result"
    }
   ],
   "source": [
    "gp_store[gp_store.App == \"Box\"]"
   ]
  },
  {
   "cell_type": "markdown",
   "id": "bae205dc",
   "metadata": {},
   "source": [
    "### viewed the duplicates "
   ]
  },
  {
   "cell_type": "markdown",
   "id": "4616a40a",
   "metadata": {},
   "source": [
    "##  Analysis"
   ]
  },
  {
   "cell_type": "markdown",
   "id": "f6bb96fc",
   "metadata": {},
   "source": [
    "### App"
   ]
  },
  {
   "cell_type": "code",
   "execution_count": 39,
   "id": "e0cb5314",
   "metadata": {},
   "outputs": [
    {
     "data": {
      "text/plain": [
       "array(['Photo Editor & Candy Camera & Grid & ScrapBook',\n",
       "       'Coloring book moana',\n",
       "       'U Launcher Lite – FREE Live Cool Themes, Hide Apps', ...,\n",
       "       'Parkinson Exercices FR', 'The SCP Foundation DB fr nn5n',\n",
       "       'iHoroscope - 2018 Daily Horoscope & Astrology'], dtype=object)"
      ]
     },
     "execution_count": 39,
     "metadata": {},
     "output_type": "execute_result"
    }
   ],
   "source": [
    "gp_store[\"App\"].unique()"
   ]
  },
  {
   "cell_type": "code",
   "execution_count": 40,
   "id": "b1f9e5ca",
   "metadata": {},
   "outputs": [
    {
     "data": {
      "text/plain": [
       "9660"
      ]
     },
     "execution_count": 40,
     "metadata": {},
     "output_type": "execute_result"
    }
   ],
   "source": [
    "gp_store[\"App\"].nunique()"
   ]
  },
  {
   "cell_type": "code",
   "execution_count": 41,
   "id": "31de874b",
   "metadata": {},
   "outputs": [
    {
     "data": {
      "text/plain": [
       "0"
      ]
     },
     "execution_count": 41,
     "metadata": {},
     "output_type": "execute_result"
    }
   ],
   "source": [
    "gp_store[\"App\"].isnull().sum()"
   ]
  },
  {
   "cell_type": "markdown",
   "id": "619cb669",
   "metadata": {},
   "source": [
    "#### App column have 9660 apps and  no null values and we can't futher any analysis"
   ]
  },
  {
   "cell_type": "markdown",
   "id": "21a1b691",
   "metadata": {},
   "source": [
    "### Category"
   ]
  },
  {
   "cell_type": "code",
   "execution_count": 42,
   "id": "d0aa3521",
   "metadata": {},
   "outputs": [
    {
     "data": {
      "text/plain": [
       "0"
      ]
     },
     "execution_count": 42,
     "metadata": {},
     "output_type": "execute_result"
    }
   ],
   "source": [
    "gp_store[\"Category\"].isnull().sum()"
   ]
  },
  {
   "cell_type": "code",
   "execution_count": 43,
   "id": "b578af10",
   "metadata": {},
   "outputs": [
    {
     "data": {
      "text/plain": [
       "34"
      ]
     },
     "execution_count": 43,
     "metadata": {},
     "output_type": "execute_result"
    }
   ],
   "source": [
    "gp_store[\"Category\"].nunique()"
   ]
  },
  {
   "cell_type": "markdown",
   "id": "fde3e962",
   "metadata": {},
   "source": [
    "#### Category column have 34 categories and had no null values "
   ]
  },
  {
   "cell_type": "code",
   "execution_count": 44,
   "id": "95f12c5b",
   "metadata": {},
   "outputs": [
    {
     "data": {
      "text/plain": [
       "array(['ART_AND_DESIGN', 'AUTO_AND_VEHICLES', 'BEAUTY',\n",
       "       'BOOKS_AND_REFERENCE', 'BUSINESS', 'COMICS', 'COMMUNICATION',\n",
       "       'DATING', 'EDUCATION', 'ENTERTAINMENT', 'EVENTS', 'FINANCE',\n",
       "       'FOOD_AND_DRINK', 'HEALTH_AND_FITNESS', 'HOUSE_AND_HOME',\n",
       "       'LIBRARIES_AND_DEMO', 'LIFESTYLE', 'GAME', 'FAMILY', 'MEDICAL',\n",
       "       'SOCIAL', 'SHOPPING', 'PHOTOGRAPHY', 'SPORTS', 'TRAVEL_AND_LOCAL',\n",
       "       'TOOLS', 'PERSONALIZATION', 'PRODUCTIVITY', 'PARENTING', 'WEATHER',\n",
       "       'VIDEO_PLAYERS', 'NEWS_AND_MAGAZINES', 'MAPS_AND_NAVIGATION',\n",
       "       '1.9'], dtype=object)"
      ]
     },
     "execution_count": 44,
     "metadata": {},
     "output_type": "execute_result"
    }
   ],
   "source": [
    "gp_store[\"Category\"].unique()"
   ]
  },
  {
   "cell_type": "markdown",
   "id": "700f9aeb",
   "metadata": {},
   "source": [
    "#### In category column has \"1.9\" is a wrong value and check it"
   ]
  },
  {
   "cell_type": "code",
   "execution_count": 45,
   "id": "5bb89b64",
   "metadata": {
    "scrolled": true
   },
   "outputs": [
    {
     "data": {
      "text/html": [
       "<div>\n",
       "<style scoped>\n",
       "    .dataframe tbody tr th:only-of-type {\n",
       "        vertical-align: middle;\n",
       "    }\n",
       "\n",
       "    .dataframe tbody tr th {\n",
       "        vertical-align: top;\n",
       "    }\n",
       "\n",
       "    .dataframe thead th {\n",
       "        text-align: right;\n",
       "    }\n",
       "</style>\n",
       "<table border=\"1\" class=\"dataframe\">\n",
       "  <thead>\n",
       "    <tr style=\"text-align: right;\">\n",
       "      <th></th>\n",
       "      <th>App</th>\n",
       "      <th>Category</th>\n",
       "      <th>Rating</th>\n",
       "      <th>Reviews</th>\n",
       "      <th>Size</th>\n",
       "      <th>Installs</th>\n",
       "      <th>Type</th>\n",
       "      <th>Price</th>\n",
       "      <th>Content Rating</th>\n",
       "      <th>Genres</th>\n",
       "      <th>Last Updated</th>\n",
       "      <th>Current Ver</th>\n",
       "      <th>Android Ver</th>\n",
       "    </tr>\n",
       "  </thead>\n",
       "  <tbody>\n",
       "    <tr>\n",
       "      <th>10472</th>\n",
       "      <td>Life Made WI-Fi Touchscreen Photo Frame</td>\n",
       "      <td>1.9</td>\n",
       "      <td>19.0</td>\n",
       "      <td>3.0M</td>\n",
       "      <td>1,000+</td>\n",
       "      <td>Free</td>\n",
       "      <td>0</td>\n",
       "      <td>Everyone</td>\n",
       "      <td>NaN</td>\n",
       "      <td>February 11, 2018</td>\n",
       "      <td>1.0.19</td>\n",
       "      <td>4.0 and up</td>\n",
       "      <td>NaN</td>\n",
       "    </tr>\n",
       "  </tbody>\n",
       "</table>\n",
       "</div>"
      ],
      "text/plain": [
       "                                           App Category  Rating Reviews  \\\n",
       "10472  Life Made WI-Fi Touchscreen Photo Frame      1.9    19.0    3.0M   \n",
       "\n",
       "         Size Installs Type     Price Content Rating             Genres  \\\n",
       "10472  1,000+     Free    0  Everyone            NaN  February 11, 2018   \n",
       "\n",
       "      Last Updated Current Ver Android Ver  \n",
       "10472       1.0.19  4.0 and up         NaN  "
      ]
     },
     "execution_count": 45,
     "metadata": {},
     "output_type": "execute_result"
    }
   ],
   "source": [
    "gp_store[gp_store[\"Category\"] == '1.9']"
   ]
  },
  {
   "cell_type": "markdown",
   "id": "1635e0ba",
   "metadata": {},
   "source": [
    "### we can create NaN category using the shift function"
   ]
  },
  {
   "cell_type": "code",
   "execution_count": 46,
   "id": "65218cc5",
   "metadata": {},
   "outputs": [
    {
     "data": {
      "text/plain": [
       "App               Life Made WI-Fi Touchscreen Photo Frame\n",
       "Category                                              NaN\n",
       "Rating                                                1.9\n",
       "Reviews                                              19.0\n",
       "Size                                                 3.0M\n",
       "Installs                                           1,000+\n",
       "Type                                                 Free\n",
       "Price                                                   0\n",
       "Content Rating                                   Everyone\n",
       "Genres                                                NaN\n",
       "Last Updated                            February 11, 2018\n",
       "Current Ver                                        1.0.19\n",
       "Android Ver                                    4.0 and up\n",
       "Name: 10472, dtype: object"
      ]
     },
     "execution_count": 46,
     "metadata": {},
     "output_type": "execute_result"
    }
   ],
   "source": [
    "gp_store.loc[10472] = gp_store.loc[10472].shift()\n",
    "gp_store['App'].loc[10472] = gp_store['Category'].loc[10472]\n",
    "gp_store['Category'].loc[10472] = np.nan\n",
    "gp_store.loc[10472]"
   ]
  },
  {
   "cell_type": "code",
   "execution_count": 47,
   "id": "d5b26cca",
   "metadata": {},
   "outputs": [
    {
     "data": {
      "text/html": [
       "<div>\n",
       "<style scoped>\n",
       "    .dataframe tbody tr th:only-of-type {\n",
       "        vertical-align: middle;\n",
       "    }\n",
       "\n",
       "    .dataframe tbody tr th {\n",
       "        vertical-align: top;\n",
       "    }\n",
       "\n",
       "    .dataframe thead th {\n",
       "        text-align: right;\n",
       "    }\n",
       "</style>\n",
       "<table border=\"1\" class=\"dataframe\">\n",
       "  <thead>\n",
       "    <tr style=\"text-align: right;\">\n",
       "      <th></th>\n",
       "      <th>App</th>\n",
       "      <th>Category</th>\n",
       "      <th>Rating</th>\n",
       "      <th>Reviews</th>\n",
       "      <th>Size</th>\n",
       "      <th>Installs</th>\n",
       "      <th>Type</th>\n",
       "      <th>Price</th>\n",
       "      <th>Content Rating</th>\n",
       "      <th>Genres</th>\n",
       "      <th>Last Updated</th>\n",
       "      <th>Current Ver</th>\n",
       "      <th>Android Ver</th>\n",
       "    </tr>\n",
       "  </thead>\n",
       "  <tbody>\n",
       "  </tbody>\n",
       "</table>\n",
       "</div>"
      ],
      "text/plain": [
       "Empty DataFrame\n",
       "Columns: [App, Category, Rating, Reviews, Size, Installs, Type, Price, Content Rating, Genres, Last Updated, Current Ver, Android Ver]\n",
       "Index: []"
      ]
     },
     "execution_count": 47,
     "metadata": {},
     "output_type": "execute_result"
    }
   ],
   "source": [
    "gp_store[gp_store[\"Category\"] == '1.9']"
   ]
  },
  {
   "cell_type": "code",
   "execution_count": 48,
   "id": "b733b782",
   "metadata": {},
   "outputs": [
    {
     "data": {
      "text/plain": [
       "1"
      ]
     },
     "execution_count": 48,
     "metadata": {},
     "output_type": "execute_result"
    }
   ],
   "source": [
    "gp_store[\"Category\"].isnull().sum()"
   ]
  },
  {
   "cell_type": "code",
   "execution_count": 49,
   "id": "fd2f0982",
   "metadata": {},
   "outputs": [],
   "source": [
    "gp_store[\"Category\"].replace(np.nan,\"Other\",inplace = True)"
   ]
  },
  {
   "cell_type": "code",
   "execution_count": 50,
   "id": "5ef68c9e",
   "metadata": {},
   "outputs": [
    {
     "data": {
      "text/plain": [
       "0"
      ]
     },
     "execution_count": 50,
     "metadata": {},
     "output_type": "execute_result"
    }
   ],
   "source": [
    "gp_store[\"Category\"].isnull().sum()"
   ]
  },
  {
   "cell_type": "markdown",
   "id": "71c1e99b",
   "metadata": {},
   "source": [
    "### Rating"
   ]
  },
  {
   "cell_type": "code",
   "execution_count": 51,
   "id": "5bd70d85",
   "metadata": {},
   "outputs": [
    {
     "data": {
      "text/plain": [
       "array([4.1, 3.9, 4.7, 4.5, 4.3, 4.4, 3.8, 4.2, 4.6, 3.2, 4.0, nan, 4.8,\n",
       "       4.9, 3.6, 3.7, 3.3, 3.4, 3.5, 3.1, 5.0, 2.6, 3.0, 1.9, 2.5, 2.8,\n",
       "       2.7, 1.0, 2.9, 2.3, 2.2, 1.7, 2.0, 1.8, 2.4, 1.6, 2.1, 1.4, 1.5,\n",
       "       1.2, '1.9'], dtype=object)"
      ]
     },
     "execution_count": 51,
     "metadata": {},
     "output_type": "execute_result"
    }
   ],
   "source": [
    "gp_store[\"Rating\"].unique()"
   ]
  },
  {
   "cell_type": "code",
   "execution_count": 52,
   "id": "dee9fcfa",
   "metadata": {},
   "outputs": [
    {
     "data": {
      "text/plain": [
       "1474"
      ]
     },
     "execution_count": 52,
     "metadata": {},
     "output_type": "execute_result"
    }
   ],
   "source": [
    "gp_store[\"Rating\"].isnull().sum()"
   ]
  },
  {
   "cell_type": "code",
   "execution_count": 53,
   "id": "87df9777",
   "metadata": {},
   "outputs": [
    {
     "data": {
      "text/plain": [
       "False    9367\n",
       "True     1474\n",
       "Name: Rating, dtype: int64"
      ]
     },
     "execution_count": 53,
     "metadata": {},
     "output_type": "execute_result"
    }
   ],
   "source": [
    "gp_store[\"Rating\"].isnull().value_counts()"
   ]
  },
  {
   "cell_type": "code",
   "execution_count": 54,
   "id": "f8ad8100",
   "metadata": {},
   "outputs": [
    {
     "data": {
      "text/plain": [
       "False    9367\n",
       "True     1474\n",
       "Name: Rating, dtype: int64"
      ]
     },
     "execution_count": 54,
     "metadata": {},
     "output_type": "execute_result"
    }
   ],
   "source": [
    "gp_store[\"Rating\"].isna().value_counts()"
   ]
  },
  {
   "cell_type": "markdown",
   "id": "e3827afd",
   "metadata": {},
   "source": [
    "#### Rating column have 40 types of ratings and had 1474 null values in rating column"
   ]
  },
  {
   "cell_type": "markdown",
   "id": "4ec09869",
   "metadata": {},
   "source": [
    "#### Rating is  contious data and has no outliers , so we repalce the nan values with the mean"
   ]
  },
  {
   "cell_type": "code",
   "execution_count": 55,
   "id": "ea1aa1d5",
   "metadata": {},
   "outputs": [],
   "source": [
    "gp_store['Rating'] = pd.to_numeric(gp_store['Rating'], errors='coerce')"
   ]
  },
  {
   "cell_type": "code",
   "execution_count": 56,
   "id": "005c7cb1",
   "metadata": {},
   "outputs": [
    {
     "data": {
      "text/plain": [
       "4.1915127575531175"
      ]
     },
     "execution_count": 56,
     "metadata": {},
     "output_type": "execute_result"
    }
   ],
   "source": [
    "gp_store[\"Rating\"].mean()"
   ]
  },
  {
   "cell_type": "code",
   "execution_count": 57,
   "id": "c4bc79f3",
   "metadata": {},
   "outputs": [],
   "source": [
    "gp_store[\"Rating\"].replace(np.nan,gp_store[\"Rating\"].mean(),inplace = True)"
   ]
  },
  {
   "cell_type": "code",
   "execution_count": 58,
   "id": "3b7ed6a0",
   "metadata": {},
   "outputs": [
    {
     "data": {
      "text/plain": [
       "10841"
      ]
     },
     "execution_count": 58,
     "metadata": {},
     "output_type": "execute_result"
    }
   ],
   "source": [
    "gp_store[\"Rating\"].notnull().sum()"
   ]
  },
  {
   "cell_type": "code",
   "execution_count": 59,
   "id": "a5a08828",
   "metadata": {},
   "outputs": [
    {
     "data": {
      "text/plain": [
       "0"
      ]
     },
     "execution_count": 59,
     "metadata": {},
     "output_type": "execute_result"
    }
   ],
   "source": [
    "gp_store[\"Rating\"].isnull().sum()"
   ]
  },
  {
   "cell_type": "code",
   "execution_count": 60,
   "id": "fbaf2ac1",
   "metadata": {},
   "outputs": [
    {
     "data": {
      "text/plain": [
       "array([4.1       , 3.9       , 4.7       , 4.5       , 4.3       ,\n",
       "       4.4       , 3.8       , 4.2       , 4.6       , 3.2       ,\n",
       "       4.        , 4.19151276, 4.8       , 4.9       , 3.6       ,\n",
       "       3.7       , 3.3       , 3.4       , 3.5       , 3.1       ,\n",
       "       5.        , 2.6       , 3.        , 1.9       , 2.5       ,\n",
       "       2.8       , 2.7       , 1.        , 2.9       , 2.3       ,\n",
       "       2.2       , 1.7       , 2.        , 1.8       , 2.4       ,\n",
       "       1.6       , 2.1       , 1.4       , 1.5       , 1.2       ])"
      ]
     },
     "execution_count": 60,
     "metadata": {},
     "output_type": "execute_result"
    }
   ],
   "source": [
    "gp_store[\"Rating\"].unique()"
   ]
  },
  {
   "cell_type": "code",
   "execution_count": 61,
   "id": "99ba4844",
   "metadata": {},
   "outputs": [
    {
     "data": {
      "text/plain": [
       "App               10841\n",
       "Category          10841\n",
       "Rating            10841\n",
       "Reviews           10841\n",
       "Size              10841\n",
       "Installs          10841\n",
       "Type              10840\n",
       "Price             10841\n",
       "Content Rating    10841\n",
       "Genres            10840\n",
       "Last Updated      10841\n",
       "Current Ver       10833\n",
       "Android Ver       10839\n",
       "dtype: int64"
      ]
     },
     "execution_count": 61,
     "metadata": {},
     "output_type": "execute_result"
    }
   ],
   "source": [
    "gp_store.count()"
   ]
  },
  {
   "cell_type": "markdown",
   "id": "8f8e21fb",
   "metadata": {},
   "source": [
    "### Reviews"
   ]
  },
  {
   "cell_type": "code",
   "execution_count": 62,
   "id": "55ab31e2",
   "metadata": {},
   "outputs": [
    {
     "data": {
      "text/plain": [
       "array(['159', '967', '87510', ..., '603', '1195', '398307'], dtype=object)"
      ]
     },
     "execution_count": 62,
     "metadata": {},
     "output_type": "execute_result"
    }
   ],
   "source": [
    "gp_store[\"Reviews\"].unique()"
   ]
  },
  {
   "cell_type": "code",
   "execution_count": 63,
   "id": "c5bed737",
   "metadata": {
    "scrolled": true
   },
   "outputs": [
    {
     "data": {
      "text/plain": [
       "6002"
      ]
     },
     "execution_count": 63,
     "metadata": {},
     "output_type": "execute_result"
    }
   ],
   "source": [
    "gp_store[\"Reviews\"].nunique()"
   ]
  },
  {
   "cell_type": "code",
   "execution_count": 64,
   "id": "5d99bd7c",
   "metadata": {},
   "outputs": [
    {
     "data": {
      "text/html": [
       "<div>\n",
       "<style scoped>\n",
       "    .dataframe tbody tr th:only-of-type {\n",
       "        vertical-align: middle;\n",
       "    }\n",
       "\n",
       "    .dataframe tbody tr th {\n",
       "        vertical-align: top;\n",
       "    }\n",
       "\n",
       "    .dataframe thead th {\n",
       "        text-align: right;\n",
       "    }\n",
       "</style>\n",
       "<table border=\"1\" class=\"dataframe\">\n",
       "  <thead>\n",
       "    <tr style=\"text-align: right;\">\n",
       "      <th></th>\n",
       "      <th>App</th>\n",
       "      <th>Category</th>\n",
       "      <th>Rating</th>\n",
       "      <th>Reviews</th>\n",
       "      <th>Size</th>\n",
       "      <th>Installs</th>\n",
       "      <th>Type</th>\n",
       "      <th>Price</th>\n",
       "      <th>Content Rating</th>\n",
       "      <th>Genres</th>\n",
       "      <th>Last Updated</th>\n",
       "      <th>Current Ver</th>\n",
       "      <th>Android Ver</th>\n",
       "    </tr>\n",
       "  </thead>\n",
       "  <tbody>\n",
       "  </tbody>\n",
       "</table>\n",
       "</div>"
      ],
      "text/plain": [
       "Empty DataFrame\n",
       "Columns: [App, Category, Rating, Reviews, Size, Installs, Type, Price, Content Rating, Genres, Last Updated, Current Ver, Android Ver]\n",
       "Index: []"
      ]
     },
     "execution_count": 64,
     "metadata": {},
     "output_type": "execute_result"
    }
   ],
   "source": [
    "gp_store[gp_store[\"Reviews\"] ==\"3.0M\"]"
   ]
  },
  {
   "cell_type": "code",
   "execution_count": 65,
   "id": "e811ad87",
   "metadata": {},
   "outputs": [
    {
     "data": {
      "text/plain": [
       "dtype('float64')"
      ]
     },
     "execution_count": 65,
     "metadata": {},
     "output_type": "execute_result"
    }
   ],
   "source": [
    "gp_store['Reviews'] = gp_store.Reviews.replace(\"0.0\",0)\n",
    "gp_store['Reviews'] = gp_store.Reviews.replace(\"3.0M\",3000000.0)\n",
    "gp_store['Reviews'] = gp_store['Reviews'].astype(float)\n",
    "gp_store['Reviews'].dtype"
   ]
  },
  {
   "cell_type": "code",
   "execution_count": 66,
   "id": "54c869e4",
   "metadata": {},
   "outputs": [
    {
     "data": {
      "text/plain": [
       "78158306.0"
      ]
     },
     "execution_count": 66,
     "metadata": {},
     "output_type": "execute_result"
    }
   ],
   "source": [
    "gp_store[\"Reviews\"].max()"
   ]
  },
  {
   "cell_type": "code",
   "execution_count": 67,
   "id": "f91e0214",
   "metadata": {},
   "outputs": [
    {
     "data": {
      "text/plain": [
       "0.0"
      ]
     },
     "execution_count": 67,
     "metadata": {},
     "output_type": "execute_result"
    }
   ],
   "source": [
    "gp_store[\"Reviews\"].min()"
   ]
  },
  {
   "cell_type": "markdown",
   "id": "4454bd6a",
   "metadata": {},
   "source": [
    "### Size"
   ]
  },
  {
   "cell_type": "code",
   "execution_count": 68,
   "id": "30dbefb1",
   "metadata": {},
   "outputs": [
    {
     "data": {
      "text/plain": [
       "0"
      ]
     },
     "execution_count": 68,
     "metadata": {},
     "output_type": "execute_result"
    }
   ],
   "source": [
    "gp_store[\"Size\"].isnull().sum()"
   ]
  },
  {
   "cell_type": "markdown",
   "id": "eaee1438",
   "metadata": {},
   "source": [
    "#### size column has no null values and size may vary from one App to another App"
   ]
  },
  {
   "cell_type": "code",
   "execution_count": 69,
   "id": "5574751e",
   "metadata": {},
   "outputs": [
    {
     "data": {
      "text/html": [
       "<div>\n",
       "<style scoped>\n",
       "    .dataframe tbody tr th:only-of-type {\n",
       "        vertical-align: middle;\n",
       "    }\n",
       "\n",
       "    .dataframe tbody tr th {\n",
       "        vertical-align: top;\n",
       "    }\n",
       "\n",
       "    .dataframe thead th {\n",
       "        text-align: right;\n",
       "    }\n",
       "</style>\n",
       "<table border=\"1\" class=\"dataframe\">\n",
       "  <thead>\n",
       "    <tr style=\"text-align: right;\">\n",
       "      <th></th>\n",
       "      <th>App</th>\n",
       "      <th>Category</th>\n",
       "      <th>Rating</th>\n",
       "      <th>Reviews</th>\n",
       "      <th>Size</th>\n",
       "      <th>Installs</th>\n",
       "      <th>Type</th>\n",
       "      <th>Price</th>\n",
       "      <th>Content Rating</th>\n",
       "      <th>Genres</th>\n",
       "      <th>Last Updated</th>\n",
       "      <th>Current Ver</th>\n",
       "      <th>Android Ver</th>\n",
       "    </tr>\n",
       "  </thead>\n",
       "  <tbody>\n",
       "    <tr>\n",
       "      <th>37</th>\n",
       "      <td>Floor Plan Creator</td>\n",
       "      <td>ART_AND_DESIGN</td>\n",
       "      <td>4.1</td>\n",
       "      <td>36639.0</td>\n",
       "      <td>Varies with device</td>\n",
       "      <td>5,000,000+</td>\n",
       "      <td>Free</td>\n",
       "      <td>0</td>\n",
       "      <td>Everyone</td>\n",
       "      <td>Art &amp; Design</td>\n",
       "      <td>July 14, 2018</td>\n",
       "      <td>Varies with device</td>\n",
       "      <td>2.3.3 and up</td>\n",
       "    </tr>\n",
       "    <tr>\n",
       "      <th>42</th>\n",
       "      <td>Textgram - write on photos</td>\n",
       "      <td>ART_AND_DESIGN</td>\n",
       "      <td>4.4</td>\n",
       "      <td>295221.0</td>\n",
       "      <td>Varies with device</td>\n",
       "      <td>10,000,000+</td>\n",
       "      <td>Free</td>\n",
       "      <td>0</td>\n",
       "      <td>Everyone</td>\n",
       "      <td>Art &amp; Design</td>\n",
       "      <td>July 30, 2018</td>\n",
       "      <td>Varies with device</td>\n",
       "      <td>Varies with device</td>\n",
       "    </tr>\n",
       "    <tr>\n",
       "      <th>52</th>\n",
       "      <td>Used Cars and Trucks for Sale</td>\n",
       "      <td>AUTO_AND_VEHICLES</td>\n",
       "      <td>4.6</td>\n",
       "      <td>17057.0</td>\n",
       "      <td>Varies with device</td>\n",
       "      <td>1,000,000+</td>\n",
       "      <td>Free</td>\n",
       "      <td>0</td>\n",
       "      <td>Everyone</td>\n",
       "      <td>Auto &amp; Vehicles</td>\n",
       "      <td>July 30, 2018</td>\n",
       "      <td>Varies with device</td>\n",
       "      <td>Varies with device</td>\n",
       "    </tr>\n",
       "    <tr>\n",
       "      <th>67</th>\n",
       "      <td>Ulysse Speedometer</td>\n",
       "      <td>AUTO_AND_VEHICLES</td>\n",
       "      <td>4.3</td>\n",
       "      <td>40211.0</td>\n",
       "      <td>Varies with device</td>\n",
       "      <td>5,000,000+</td>\n",
       "      <td>Free</td>\n",
       "      <td>0</td>\n",
       "      <td>Everyone</td>\n",
       "      <td>Auto &amp; Vehicles</td>\n",
       "      <td>July 30, 2018</td>\n",
       "      <td>Varies with device</td>\n",
       "      <td>Varies with device</td>\n",
       "    </tr>\n",
       "    <tr>\n",
       "      <th>68</th>\n",
       "      <td>REPUVE</td>\n",
       "      <td>AUTO_AND_VEHICLES</td>\n",
       "      <td>3.9</td>\n",
       "      <td>356.0</td>\n",
       "      <td>Varies with device</td>\n",
       "      <td>100,000+</td>\n",
       "      <td>Free</td>\n",
       "      <td>0</td>\n",
       "      <td>Everyone</td>\n",
       "      <td>Auto &amp; Vehicles</td>\n",
       "      <td>May 25, 2018</td>\n",
       "      <td>Varies with device</td>\n",
       "      <td>Varies with device</td>\n",
       "    </tr>\n",
       "    <tr>\n",
       "      <th>...</th>\n",
       "      <td>...</td>\n",
       "      <td>...</td>\n",
       "      <td>...</td>\n",
       "      <td>...</td>\n",
       "      <td>...</td>\n",
       "      <td>...</td>\n",
       "      <td>...</td>\n",
       "      <td>...</td>\n",
       "      <td>...</td>\n",
       "      <td>...</td>\n",
       "      <td>...</td>\n",
       "      <td>...</td>\n",
       "      <td>...</td>\n",
       "    </tr>\n",
       "    <tr>\n",
       "      <th>10713</th>\n",
       "      <td>My Earthquake Alerts - US &amp; Worldwide Earthquakes</td>\n",
       "      <td>WEATHER</td>\n",
       "      <td>4.4</td>\n",
       "      <td>3471.0</td>\n",
       "      <td>Varies with device</td>\n",
       "      <td>100,000+</td>\n",
       "      <td>Free</td>\n",
       "      <td>0</td>\n",
       "      <td>Everyone</td>\n",
       "      <td>Weather</td>\n",
       "      <td>July 24, 2018</td>\n",
       "      <td>Varies with device</td>\n",
       "      <td>Varies with device</td>\n",
       "    </tr>\n",
       "    <tr>\n",
       "      <th>10725</th>\n",
       "      <td>Posta App</td>\n",
       "      <td>MAPS_AND_NAVIGATION</td>\n",
       "      <td>3.6</td>\n",
       "      <td>8.0</td>\n",
       "      <td>Varies with device</td>\n",
       "      <td>1,000+</td>\n",
       "      <td>Free</td>\n",
       "      <td>0</td>\n",
       "      <td>Everyone</td>\n",
       "      <td>Maps &amp; Navigation</td>\n",
       "      <td>September 27, 2017</td>\n",
       "      <td>Varies with device</td>\n",
       "      <td>4.4 and up</td>\n",
       "    </tr>\n",
       "    <tr>\n",
       "      <th>10765</th>\n",
       "      <td>Chat For Strangers - Video Chat</td>\n",
       "      <td>SOCIAL</td>\n",
       "      <td>3.4</td>\n",
       "      <td>622.0</td>\n",
       "      <td>Varies with device</td>\n",
       "      <td>100,000+</td>\n",
       "      <td>Free</td>\n",
       "      <td>0</td>\n",
       "      <td>Mature 17+</td>\n",
       "      <td>Social</td>\n",
       "      <td>May 23, 2018</td>\n",
       "      <td>Varies with device</td>\n",
       "      <td>Varies with device</td>\n",
       "    </tr>\n",
       "    <tr>\n",
       "      <th>10826</th>\n",
       "      <td>Frim: get new friends on local chat rooms</td>\n",
       "      <td>SOCIAL</td>\n",
       "      <td>4.0</td>\n",
       "      <td>88486.0</td>\n",
       "      <td>Varies with device</td>\n",
       "      <td>5,000,000+</td>\n",
       "      <td>Free</td>\n",
       "      <td>0</td>\n",
       "      <td>Mature 17+</td>\n",
       "      <td>Social</td>\n",
       "      <td>March 23, 2018</td>\n",
       "      <td>Varies with device</td>\n",
       "      <td>Varies with device</td>\n",
       "    </tr>\n",
       "    <tr>\n",
       "      <th>10839</th>\n",
       "      <td>The SCP Foundation DB fr nn5n</td>\n",
       "      <td>BOOKS_AND_REFERENCE</td>\n",
       "      <td>4.5</td>\n",
       "      <td>114.0</td>\n",
       "      <td>Varies with device</td>\n",
       "      <td>1,000+</td>\n",
       "      <td>Free</td>\n",
       "      <td>0</td>\n",
       "      <td>Mature 17+</td>\n",
       "      <td>Books &amp; Reference</td>\n",
       "      <td>January 19, 2015</td>\n",
       "      <td>Varies with device</td>\n",
       "      <td>Varies with device</td>\n",
       "    </tr>\n",
       "  </tbody>\n",
       "</table>\n",
       "<p>1695 rows × 13 columns</p>\n",
       "</div>"
      ],
      "text/plain": [
       "                                                     App             Category  \\\n",
       "37                                    Floor Plan Creator       ART_AND_DESIGN   \n",
       "42                            Textgram - write on photos       ART_AND_DESIGN   \n",
       "52                         Used Cars and Trucks for Sale    AUTO_AND_VEHICLES   \n",
       "67                                    Ulysse Speedometer    AUTO_AND_VEHICLES   \n",
       "68                                                REPUVE    AUTO_AND_VEHICLES   \n",
       "...                                                  ...                  ...   \n",
       "10713  My Earthquake Alerts - US & Worldwide Earthquakes              WEATHER   \n",
       "10725                                          Posta App  MAPS_AND_NAVIGATION   \n",
       "10765                    Chat For Strangers - Video Chat               SOCIAL   \n",
       "10826          Frim: get new friends on local chat rooms               SOCIAL   \n",
       "10839                      The SCP Foundation DB fr nn5n  BOOKS_AND_REFERENCE   \n",
       "\n",
       "       Rating   Reviews                Size     Installs  Type Price  \\\n",
       "37        4.1   36639.0  Varies with device   5,000,000+  Free     0   \n",
       "42        4.4  295221.0  Varies with device  10,000,000+  Free     0   \n",
       "52        4.6   17057.0  Varies with device   1,000,000+  Free     0   \n",
       "67        4.3   40211.0  Varies with device   5,000,000+  Free     0   \n",
       "68        3.9     356.0  Varies with device     100,000+  Free     0   \n",
       "...       ...       ...                 ...          ...   ...   ...   \n",
       "10713     4.4    3471.0  Varies with device     100,000+  Free     0   \n",
       "10725     3.6       8.0  Varies with device       1,000+  Free     0   \n",
       "10765     3.4     622.0  Varies with device     100,000+  Free     0   \n",
       "10826     4.0   88486.0  Varies with device   5,000,000+  Free     0   \n",
       "10839     4.5     114.0  Varies with device       1,000+  Free     0   \n",
       "\n",
       "      Content Rating             Genres        Last Updated  \\\n",
       "37          Everyone       Art & Design       July 14, 2018   \n",
       "42          Everyone       Art & Design       July 30, 2018   \n",
       "52          Everyone    Auto & Vehicles       July 30, 2018   \n",
       "67          Everyone    Auto & Vehicles       July 30, 2018   \n",
       "68          Everyone    Auto & Vehicles        May 25, 2018   \n",
       "...              ...                ...                 ...   \n",
       "10713       Everyone            Weather       July 24, 2018   \n",
       "10725       Everyone  Maps & Navigation  September 27, 2017   \n",
       "10765     Mature 17+             Social        May 23, 2018   \n",
       "10826     Mature 17+             Social      March 23, 2018   \n",
       "10839     Mature 17+  Books & Reference    January 19, 2015   \n",
       "\n",
       "              Current Ver         Android Ver  \n",
       "37     Varies with device        2.3.3 and up  \n",
       "42     Varies with device  Varies with device  \n",
       "52     Varies with device  Varies with device  \n",
       "67     Varies with device  Varies with device  \n",
       "68     Varies with device  Varies with device  \n",
       "...                   ...                 ...  \n",
       "10713  Varies with device  Varies with device  \n",
       "10725  Varies with device          4.4 and up  \n",
       "10765  Varies with device  Varies with device  \n",
       "10826  Varies with device  Varies with device  \n",
       "10839  Varies with device  Varies with device  \n",
       "\n",
       "[1695 rows x 13 columns]"
      ]
     },
     "execution_count": 69,
     "metadata": {},
     "output_type": "execute_result"
    }
   ],
   "source": [
    "gp_store[gp_store[\"Size\"] == 'Varies with device']"
   ]
  },
  {
   "cell_type": "code",
   "execution_count": 70,
   "id": "e38a9173",
   "metadata": {
    "scrolled": true
   },
   "outputs": [
    {
     "data": {
      "text/plain": [
       "array(['19M', '14M', '8.7M', '25M', '2.8M', '5.6M', '29M', '33M', '3.1M',\n",
       "       '28M', '12M', '20M', '21M', '37M', '2.7M', '5.5M', '17M', '39M',\n",
       "       '31M', '4.2M', '7.0M', '23M', '6.0M', '6.1M', '4.6M', '9.2M',\n",
       "       '5.2M', '11M', '24M', 'Varies with device', '9.4M', '15M', '10M',\n",
       "       '1.2M', '26M', '8.0M', '7.9M', '56M', '57M', '35M', '54M', '201k',\n",
       "       '3.6M', '5.7M', '8.6M', '2.4M', '27M', '2.5M', '16M', '3.4M',\n",
       "       '8.9M', '3.9M', '2.9M', '38M', '32M', '5.4M', '18M', '1.1M',\n",
       "       '2.2M', '4.5M', '9.8M', '52M', '9.0M', '6.7M', '30M', '2.6M',\n",
       "       '7.1M', '3.7M', '22M', '7.4M', '6.4M', '3.2M', '8.2M', '9.9M',\n",
       "       '4.9M', '9.5M', '5.0M', '5.9M', '13M', '73M', '6.8M', '3.5M',\n",
       "       '4.0M', '2.3M', '7.2M', '2.1M', '42M', '7.3M', '9.1M', '55M',\n",
       "       '23k', '6.5M', '1.5M', '7.5M', '51M', '41M', '48M', '8.5M', '46M',\n",
       "       '8.3M', '4.3M', '4.7M', '3.3M', '40M', '7.8M', '8.8M', '6.6M',\n",
       "       '5.1M', '61M', '66M', '79k', '8.4M', '118k', '44M', '695k', '1.6M',\n",
       "       '6.2M', '18k', '53M', '1.4M', '3.0M', '5.8M', '3.8M', '9.6M',\n",
       "       '45M', '63M', '49M', '77M', '4.4M', '4.8M', '70M', '6.9M', '9.3M',\n",
       "       '10.0M', '8.1M', '36M', '84M', '97M', '2.0M', '1.9M', '1.8M',\n",
       "       '5.3M', '47M', '556k', '526k', '76M', '7.6M', '59M', '9.7M', '78M',\n",
       "       '72M', '43M', '7.7M', '6.3M', '334k', '34M', '93M', '65M', '79M',\n",
       "       '100M', '58M', '50M', '68M', '64M', '67M', '60M', '94M', '232k',\n",
       "       '99M', '624k', '95M', '8.5k', '41k', '292k', '11k', '80M', '1.7M',\n",
       "       '74M', '62M', '69M', '75M', '98M', '85M', '82M', '96M', '87M',\n",
       "       '71M', '86M', '91M', '81M', '92M', '83M', '88M', '704k', '862k',\n",
       "       '899k', '378k', '266k', '375k', '1.3M', '975k', '980k', '4.1M',\n",
       "       '89M', '696k', '544k', '525k', '920k', '779k', '853k', '720k',\n",
       "       '713k', '772k', '318k', '58k', '241k', '196k', '857k', '51k',\n",
       "       '953k', '865k', '251k', '930k', '540k', '313k', '746k', '203k',\n",
       "       '26k', '314k', '239k', '371k', '220k', '730k', '756k', '91k',\n",
       "       '293k', '17k', '74k', '14k', '317k', '78k', '924k', '902k', '818k',\n",
       "       '81k', '939k', '169k', '45k', '475k', '965k', '90M', '545k', '61k',\n",
       "       '283k', '655k', '714k', '93k', '872k', '121k', '322k', '1.0M',\n",
       "       '976k', '172k', '238k', '549k', '206k', '954k', '444k', '717k',\n",
       "       '210k', '609k', '308k', '705k', '306k', '904k', '473k', '175k',\n",
       "       '350k', '383k', '454k', '421k', '70k', '812k', '442k', '842k',\n",
       "       '417k', '412k', '459k', '478k', '335k', '782k', '721k', '430k',\n",
       "       '429k', '192k', '200k', '460k', '728k', '496k', '816k', '414k',\n",
       "       '506k', '887k', '613k', '243k', '569k', '778k', '683k', '592k',\n",
       "       '319k', '186k', '840k', '647k', '191k', '373k', '437k', '598k',\n",
       "       '716k', '585k', '982k', '222k', '219k', '55k', '948k', '323k',\n",
       "       '691k', '511k', '951k', '963k', '25k', '554k', '351k', '27k',\n",
       "       '82k', '208k', '913k', '514k', '551k', '29k', '103k', '898k',\n",
       "       '743k', '116k', '153k', '209k', '353k', '499k', '173k', '597k',\n",
       "       '809k', '122k', '411k', '400k', '801k', '787k', '237k', '50k',\n",
       "       '643k', '986k', '97k', '516k', '837k', '780k', '961k', '269k',\n",
       "       '20k', '498k', '600k', '749k', '642k', '881k', '72k', '656k',\n",
       "       '601k', '221k', '228k', '108k', '940k', '176k', '33k', '663k',\n",
       "       '34k', '942k', '259k', '164k', '458k', '245k', '629k', '28k',\n",
       "       '288k', '775k', '785k', '636k', '916k', '994k', '309k', '485k',\n",
       "       '914k', '903k', '608k', '500k', '54k', '562k', '847k', '957k',\n",
       "       '688k', '811k', '270k', '48k', '329k', '523k', '921k', '874k',\n",
       "       '981k', '784k', '280k', '24k', '518k', '754k', '892k', '154k',\n",
       "       '860k', '364k', '387k', '626k', '161k', '879k', '39k', '970k',\n",
       "       '170k', '141k', '160k', '144k', '143k', '190k', '376k', '193k',\n",
       "       '246k', '73k', '658k', '992k', '253k', '420k', '404k', '470k',\n",
       "       '226k', '240k', '89k', '234k', '257k', '861k', '467k', '157k',\n",
       "       '44k', '676k', '67k', '552k', '885k', '1020k', '582k', '619k'],\n",
       "      dtype=object)"
      ]
     },
     "execution_count": 70,
     "metadata": {},
     "output_type": "execute_result"
    }
   ],
   "source": [
    "gp_store[\"Size\"].unique()"
   ]
  },
  {
   "cell_type": "code",
   "execution_count": 71,
   "id": "03c42be4",
   "metadata": {},
   "outputs": [
    {
     "data": {
      "text/plain": [
       "dtype('float64')"
      ]
     },
     "execution_count": 71,
     "metadata": {},
     "output_type": "execute_result"
    }
   ],
   "source": [
    "gp_store['Size'] = gp_store.Size.replace(\"Varies with device\",np.nan)\n",
    "gp_store['Size'] = gp_store.Size.str.replace(\"M\",\"000\") # All size values became the kilobyte type.\n",
    "gp_store['Size'] = gp_store.Size.str.replace(\"k\",\"\")\n",
    "gp_store['Size'] = gp_store.Size.replace(\"1,000+\",1000)\n",
    "gp_store['Size'] =gp_store['Size'].astype(float)\n",
    "gp_store['Size'].dtype"
   ]
  },
  {
   "cell_type": "code",
   "execution_count": 72,
   "id": "1d01d2be",
   "metadata": {},
   "outputs": [
    {
     "data": {
      "text/plain": [
       "1695"
      ]
     },
     "execution_count": 72,
     "metadata": {},
     "output_type": "execute_result"
    }
   ],
   "source": [
    "gp_store['Size'].isnull().sum()"
   ]
  },
  {
   "cell_type": "code",
   "execution_count": 73,
   "id": "4ecf2d57",
   "metadata": {
    "scrolled": true
   },
   "outputs": [],
   "source": [
    "gp_store[\"Size\"].replace(np.nan, gp_store[\"Size\"].mean(),inplace = True)"
   ]
  },
  {
   "cell_type": "code",
   "execution_count": 74,
   "id": "260e0ca0",
   "metadata": {},
   "outputs": [
    {
     "data": {
      "text/plain": [
       "array([1.90000000e+04, 1.40000000e+04, 8.70000000e+00, 2.50000000e+04,\n",
       "       2.80000000e+00, 5.60000000e+00, 2.90000000e+04, 3.30000000e+04,\n",
       "       3.10000000e+00, 2.80000000e+04, 1.20000000e+04, 2.00000000e+04,\n",
       "       2.10000000e+04, 3.70000000e+04, 2.70000000e+00, 5.50000000e+00,\n",
       "       1.70000000e+04, 3.90000000e+04, 3.10000000e+04, 4.20000000e+00,\n",
       "       7.00000000e+00, 2.30000000e+04, 6.00000000e+00, 6.10000000e+00,\n",
       "       4.60000000e+00, 9.20000000e+00, 5.20000000e+00, 1.10000000e+04,\n",
       "       2.40000000e+04, 1.95772795e+04, 9.40000000e+00, 1.50000000e+04,\n",
       "       1.00000000e+04, 1.20000000e+00, 2.60000000e+04, 8.00000000e+00,\n",
       "       7.90000000e+00, 5.60000000e+04, 5.70000000e+04, 3.50000000e+04,\n",
       "       5.40000000e+04, 2.01000000e+02, 3.60000000e+00, 5.70000000e+00,\n",
       "       8.60000000e+00, 2.40000000e+00, 2.70000000e+04, 2.50000000e+00,\n",
       "       1.60000000e+04, 3.40000000e+00, 8.90000000e+00, 3.90000000e+00,\n",
       "       2.90000000e+00, 3.80000000e+04, 3.20000000e+04, 5.40000000e+00,\n",
       "       1.80000000e+04, 1.10000000e+00, 2.20000000e+00, 4.50000000e+00,\n",
       "       9.80000000e+00, 5.20000000e+04, 9.00000000e+00, 6.70000000e+00,\n",
       "       3.00000000e+04, 2.60000000e+00, 7.10000000e+00, 3.70000000e+00,\n",
       "       2.20000000e+04, 7.40000000e+00, 6.40000000e+00, 3.20000000e+00,\n",
       "       8.20000000e+00, 9.90000000e+00, 4.90000000e+00, 9.50000000e+00,\n",
       "       5.00000000e+00, 5.90000000e+00, 1.30000000e+04, 7.30000000e+04,\n",
       "       6.80000000e+00, 3.50000000e+00, 4.00000000e+00, 2.30000000e+00,\n",
       "       7.20000000e+00, 2.10000000e+00, 4.20000000e+04, 7.30000000e+00,\n",
       "       9.10000000e+00, 5.50000000e+04, 2.30000000e+01, 6.50000000e+00,\n",
       "       1.50000000e+00, 7.50000000e+00, 5.10000000e+04, 4.10000000e+04,\n",
       "       4.80000000e+04, 8.50000000e+00, 4.60000000e+04, 8.30000000e+00,\n",
       "       4.30000000e+00, 4.70000000e+00, 3.30000000e+00, 4.00000000e+04,\n",
       "       7.80000000e+00, 8.80000000e+00, 6.60000000e+00, 5.10000000e+00,\n",
       "       6.10000000e+04, 6.60000000e+04, 7.90000000e+01, 8.40000000e+00,\n",
       "       1.18000000e+02, 4.40000000e+04, 6.95000000e+02, 1.60000000e+00,\n",
       "       6.20000000e+00, 1.80000000e+01, 5.30000000e+04, 1.40000000e+00,\n",
       "       3.00000000e+00, 5.80000000e+00, 3.80000000e+00, 9.60000000e+00,\n",
       "       4.50000000e+04, 6.30000000e+04, 4.90000000e+04, 7.70000000e+04,\n",
       "       4.40000000e+00, 4.80000000e+00, 7.00000000e+04, 6.90000000e+00,\n",
       "       9.30000000e+00, 1.00000000e+01, 8.10000000e+00, 3.60000000e+04,\n",
       "       8.40000000e+04, 9.70000000e+04, 2.00000000e+00, 1.90000000e+00,\n",
       "       1.80000000e+00, 5.30000000e+00, 4.70000000e+04, 5.56000000e+02,\n",
       "       5.26000000e+02, 7.60000000e+04, 7.60000000e+00, 5.90000000e+04,\n",
       "       9.70000000e+00, 7.80000000e+04, 7.20000000e+04, 4.30000000e+04,\n",
       "       7.70000000e+00, 6.30000000e+00, 3.34000000e+02, 3.40000000e+04,\n",
       "       9.30000000e+04, 6.50000000e+04, 7.90000000e+04, 1.00000000e+05,\n",
       "       5.80000000e+04, 5.00000000e+04, 6.80000000e+04, 6.40000000e+04,\n",
       "       6.70000000e+04, 6.00000000e+04, 9.40000000e+04, 2.32000000e+02,\n",
       "       9.90000000e+04, 6.24000000e+02, 9.50000000e+04, 4.10000000e+01,\n",
       "       2.92000000e+02, 1.10000000e+01, 8.00000000e+04, 1.70000000e+00,\n",
       "       7.40000000e+04, 6.20000000e+04, 6.90000000e+04, 7.50000000e+04,\n",
       "       9.80000000e+04, 8.50000000e+04, 8.20000000e+04, 9.60000000e+04,\n",
       "       8.70000000e+04, 7.10000000e+04, 8.60000000e+04, 9.10000000e+04,\n",
       "       8.10000000e+04, 9.20000000e+04, 8.30000000e+04, 8.80000000e+04,\n",
       "       7.04000000e+02, 8.62000000e+02, 8.99000000e+02, 3.78000000e+02,\n",
       "       2.66000000e+02, 3.75000000e+02, 1.30000000e+00, 9.75000000e+02,\n",
       "       9.80000000e+02, 4.10000000e+00, 8.90000000e+04, 6.96000000e+02,\n",
       "       5.44000000e+02, 5.25000000e+02, 9.20000000e+02, 7.79000000e+02,\n",
       "       8.53000000e+02, 7.20000000e+02, 7.13000000e+02, 7.72000000e+02,\n",
       "       3.18000000e+02, 5.80000000e+01, 2.41000000e+02, 1.96000000e+02,\n",
       "       8.57000000e+02, 5.10000000e+01, 9.53000000e+02, 8.65000000e+02,\n",
       "       2.51000000e+02, 9.30000000e+02, 5.40000000e+02, 3.13000000e+02,\n",
       "       7.46000000e+02, 2.03000000e+02, 2.60000000e+01, 3.14000000e+02,\n",
       "       2.39000000e+02, 3.71000000e+02, 2.20000000e+02, 7.30000000e+02,\n",
       "       7.56000000e+02, 9.10000000e+01, 2.93000000e+02, 1.70000000e+01,\n",
       "       7.40000000e+01, 1.40000000e+01, 3.17000000e+02, 7.80000000e+01,\n",
       "       9.24000000e+02, 9.02000000e+02, 8.18000000e+02, 8.10000000e+01,\n",
       "       9.39000000e+02, 1.69000000e+02, 4.50000000e+01, 4.75000000e+02,\n",
       "       9.65000000e+02, 9.00000000e+04, 5.45000000e+02, 6.10000000e+01,\n",
       "       2.83000000e+02, 6.55000000e+02, 7.14000000e+02, 9.30000000e+01,\n",
       "       8.72000000e+02, 1.21000000e+02, 3.22000000e+02, 1.00000000e+00,\n",
       "       9.76000000e+02, 1.72000000e+02, 2.38000000e+02, 5.49000000e+02,\n",
       "       2.06000000e+02, 9.54000000e+02, 4.44000000e+02, 7.17000000e+02,\n",
       "       2.10000000e+02, 6.09000000e+02, 3.08000000e+02, 7.05000000e+02,\n",
       "       3.06000000e+02, 9.04000000e+02, 4.73000000e+02, 1.75000000e+02,\n",
       "       3.50000000e+02, 3.83000000e+02, 4.54000000e+02, 4.21000000e+02,\n",
       "       7.00000000e+01, 8.12000000e+02, 4.42000000e+02, 8.42000000e+02,\n",
       "       4.17000000e+02, 4.12000000e+02, 4.59000000e+02, 4.78000000e+02,\n",
       "       3.35000000e+02, 7.82000000e+02, 7.21000000e+02, 4.30000000e+02,\n",
       "       4.29000000e+02, 1.92000000e+02, 2.00000000e+02, 4.60000000e+02,\n",
       "       7.28000000e+02, 4.96000000e+02, 8.16000000e+02, 4.14000000e+02,\n",
       "       5.06000000e+02, 8.87000000e+02, 6.13000000e+02, 2.43000000e+02,\n",
       "       5.69000000e+02, 7.78000000e+02, 6.83000000e+02, 5.92000000e+02,\n",
       "       3.19000000e+02, 1.86000000e+02, 8.40000000e+02, 6.47000000e+02,\n",
       "       1.91000000e+02, 3.73000000e+02, 4.37000000e+02, 5.98000000e+02,\n",
       "       7.16000000e+02, 5.85000000e+02, 9.82000000e+02, 2.22000000e+02,\n",
       "       2.19000000e+02, 5.50000000e+01, 9.48000000e+02, 3.23000000e+02,\n",
       "       6.91000000e+02, 5.11000000e+02, 9.51000000e+02, 9.63000000e+02,\n",
       "       2.50000000e+01, 5.54000000e+02, 3.51000000e+02, 2.70000000e+01,\n",
       "       8.20000000e+01, 2.08000000e+02, 9.13000000e+02, 5.14000000e+02,\n",
       "       5.51000000e+02, 2.90000000e+01, 1.03000000e+02, 8.98000000e+02,\n",
       "       7.43000000e+02, 1.16000000e+02, 1.53000000e+02, 2.09000000e+02,\n",
       "       3.53000000e+02, 4.99000000e+02, 1.73000000e+02, 5.97000000e+02,\n",
       "       8.09000000e+02, 1.22000000e+02, 4.11000000e+02, 4.00000000e+02,\n",
       "       8.01000000e+02, 7.87000000e+02, 2.37000000e+02, 5.00000000e+01,\n",
       "       6.43000000e+02, 9.86000000e+02, 9.70000000e+01, 5.16000000e+02,\n",
       "       8.37000000e+02, 7.80000000e+02, 9.61000000e+02, 2.69000000e+02,\n",
       "       2.00000000e+01, 4.98000000e+02, 6.00000000e+02, 7.49000000e+02,\n",
       "       6.42000000e+02, 8.81000000e+02, 7.20000000e+01, 6.56000000e+02,\n",
       "       6.01000000e+02, 2.21000000e+02, 2.28000000e+02, 1.08000000e+02,\n",
       "       9.40000000e+02, 1.76000000e+02, 3.30000000e+01, 6.63000000e+02,\n",
       "       3.40000000e+01, 9.42000000e+02, 2.59000000e+02, 1.64000000e+02,\n",
       "       4.58000000e+02, 2.45000000e+02, 6.29000000e+02, 2.80000000e+01,\n",
       "       2.88000000e+02, 7.75000000e+02, 7.85000000e+02, 6.36000000e+02,\n",
       "       9.16000000e+02, 9.94000000e+02, 3.09000000e+02, 4.85000000e+02,\n",
       "       9.14000000e+02, 9.03000000e+02, 6.08000000e+02, 5.00000000e+02,\n",
       "       5.40000000e+01, 5.62000000e+02, 8.47000000e+02, 9.57000000e+02,\n",
       "       6.88000000e+02, 8.11000000e+02, 2.70000000e+02, 4.80000000e+01,\n",
       "       3.29000000e+02, 5.23000000e+02, 9.21000000e+02, 8.74000000e+02,\n",
       "       9.81000000e+02, 7.84000000e+02, 2.80000000e+02, 2.40000000e+01,\n",
       "       5.18000000e+02, 7.54000000e+02, 8.92000000e+02, 1.54000000e+02,\n",
       "       8.60000000e+02, 3.64000000e+02, 3.87000000e+02, 6.26000000e+02,\n",
       "       1.61000000e+02, 8.79000000e+02, 3.90000000e+01, 9.70000000e+02,\n",
       "       1.70000000e+02, 1.41000000e+02, 1.60000000e+02, 1.44000000e+02,\n",
       "       1.43000000e+02, 1.90000000e+02, 3.76000000e+02, 1.93000000e+02,\n",
       "       2.46000000e+02, 7.30000000e+01, 6.58000000e+02, 9.92000000e+02,\n",
       "       2.53000000e+02, 4.20000000e+02, 4.04000000e+02, 4.70000000e+02,\n",
       "       2.26000000e+02, 2.40000000e+02, 8.90000000e+01, 2.34000000e+02,\n",
       "       2.57000000e+02, 8.61000000e+02, 4.67000000e+02, 1.57000000e+02,\n",
       "       4.40000000e+01, 6.76000000e+02, 6.70000000e+01, 5.52000000e+02,\n",
       "       8.85000000e+02, 1.02000000e+03, 5.82000000e+02, 6.19000000e+02])"
      ]
     },
     "execution_count": 74,
     "metadata": {},
     "output_type": "execute_result"
    }
   ],
   "source": [
    "gp_store[\"Size\"].unique()"
   ]
  },
  {
   "cell_type": "code",
   "execution_count": 75,
   "id": "cce1f948",
   "metadata": {},
   "outputs": [
    {
     "data": {
      "text/plain": [
       "0"
      ]
     },
     "execution_count": 75,
     "metadata": {},
     "output_type": "execute_result"
    }
   ],
   "source": [
    "gp_store['Size'].isnull().sum()"
   ]
  },
  {
   "cell_type": "markdown",
   "id": "ec852c78",
   "metadata": {},
   "source": [
    "### Installs"
   ]
  },
  {
   "cell_type": "code",
   "execution_count": 76,
   "id": "6574acea",
   "metadata": {},
   "outputs": [
    {
     "data": {
      "text/plain": [
       "0"
      ]
     },
     "execution_count": 76,
     "metadata": {},
     "output_type": "execute_result"
    }
   ],
   "source": [
    "gp_store[\"Installs\"].isnull().sum()"
   ]
  },
  {
   "cell_type": "markdown",
   "id": "34c03fdb",
   "metadata": {},
   "source": [
    "#### Install column has no null values "
   ]
  },
  {
   "cell_type": "code",
   "execution_count": 77,
   "id": "00aa50b4",
   "metadata": {
    "scrolled": false
   },
   "outputs": [
    {
     "data": {
      "text/plain": [
       "array(['10,000+', '500,000+', '5,000,000+', '50,000,000+', '100,000+',\n",
       "       '50,000+', '1,000,000+', '10,000,000+', '5,000+', '100,000,000+',\n",
       "       '1,000,000,000+', '1,000+', '500,000,000+', '50+', '100+', '500+',\n",
       "       '10+', '1+', '5+', '0+', '0'], dtype=object)"
      ]
     },
     "execution_count": 77,
     "metadata": {},
     "output_type": "execute_result"
    }
   ],
   "source": [
    "gp_store[\"Installs\"].unique()"
   ]
  },
  {
   "cell_type": "code",
   "execution_count": 78,
   "id": "578f4867",
   "metadata": {
    "scrolled": true
   },
   "outputs": [
    {
     "data": {
      "text/html": [
       "<div>\n",
       "<style scoped>\n",
       "    .dataframe tbody tr th:only-of-type {\n",
       "        vertical-align: middle;\n",
       "    }\n",
       "\n",
       "    .dataframe tbody tr th {\n",
       "        vertical-align: top;\n",
       "    }\n",
       "\n",
       "    .dataframe thead th {\n",
       "        text-align: right;\n",
       "    }\n",
       "</style>\n",
       "<table border=\"1\" class=\"dataframe\">\n",
       "  <thead>\n",
       "    <tr style=\"text-align: right;\">\n",
       "      <th></th>\n",
       "      <th>App</th>\n",
       "      <th>Category</th>\n",
       "      <th>Rating</th>\n",
       "      <th>Reviews</th>\n",
       "      <th>Size</th>\n",
       "      <th>Installs</th>\n",
       "      <th>Type</th>\n",
       "      <th>Price</th>\n",
       "      <th>Content Rating</th>\n",
       "      <th>Genres</th>\n",
       "      <th>Last Updated</th>\n",
       "      <th>Current Ver</th>\n",
       "      <th>Android Ver</th>\n",
       "    </tr>\n",
       "  </thead>\n",
       "  <tbody>\n",
       "  </tbody>\n",
       "</table>\n",
       "</div>"
      ],
      "text/plain": [
       "Empty DataFrame\n",
       "Columns: [App, Category, Rating, Reviews, Size, Installs, Type, Price, Content Rating, Genres, Last Updated, Current Ver, Android Ver]\n",
       "Index: []"
      ]
     },
     "execution_count": 78,
     "metadata": {},
     "output_type": "execute_result"
    }
   ],
   "source": [
    "gp_store[gp_store[\"Installs\"]==\"Free\"]"
   ]
  },
  {
   "cell_type": "code",
   "execution_count": 79,
   "id": "ed9eb299",
   "metadata": {},
   "outputs": [
    {
     "data": {
      "text/plain": [
       "array(['10,000+', '500,000+', '5,000,000+', '50,000,000+', '100,000+',\n",
       "       '50,000+', '1,000,000+', '10,000,000+', '5,000+', '100,000,000+',\n",
       "       '1,000,000,000+', '1,000+', '500,000,000+', '50+', '100+', '500+',\n",
       "       '10+', '1+', '5+', '0+', '0'], dtype=object)"
      ]
     },
     "execution_count": 79,
     "metadata": {},
     "output_type": "execute_result"
    }
   ],
   "source": [
    "gp_store[\"Installs\"].unique()"
   ]
  },
  {
   "cell_type": "code",
   "execution_count": 80,
   "id": "9ebf3f48",
   "metadata": {},
   "outputs": [
    {
     "name": "stderr",
     "output_type": "stream",
     "text": [
      "<ipython-input-80-5468166d107d>:2: FutureWarning: The default value of regex will change from True to False in a future version. In addition, single character regular expressions will *not* be treated as literal strings when regex=True.\n",
      "  gp_store['Installs'] = gp_store.Installs.str.replace(\"+\",\"\")\n"
     ]
    },
    {
     "data": {
      "text/plain": [
       "dtype('float64')"
      ]
     },
     "execution_count": 80,
     "metadata": {},
     "output_type": "execute_result"
    }
   ],
   "source": [
    "gp_store['Installs'] = gp_store.Installs.str.replace(\",\",\"\")\n",
    "gp_store['Installs'] = gp_store.Installs.str.replace(\"+\",\"\")\n",
    "gp_store['Installs'] =gp_store['Installs'].astype(float)\n",
    "gp_store['Installs'].dtype"
   ]
  },
  {
   "cell_type": "code",
   "execution_count": 81,
   "id": "31beec41",
   "metadata": {},
   "outputs": [
    {
     "data": {
      "text/plain": [
       "array([1.e+04, 5.e+05, 5.e+06, 5.e+07, 1.e+05, 5.e+04, 1.e+06, 1.e+07,\n",
       "       5.e+03, 1.e+08, 1.e+09, 1.e+03, 5.e+08, 5.e+01, 1.e+02, 5.e+02,\n",
       "       1.e+01, 1.e+00, 5.e+00, 0.e+00])"
      ]
     },
     "execution_count": 81,
     "metadata": {},
     "output_type": "execute_result"
    }
   ],
   "source": [
    "gp_store[\"Installs\"].unique()"
   ]
  },
  {
   "cell_type": "code",
   "execution_count": 82,
   "id": "af345050",
   "metadata": {},
   "outputs": [
    {
     "data": {
      "text/plain": [
       "Installs     App                                              \n",
       "100000000.0  ROBLOX                                               9\n",
       "5000000.0    CBS Sports App - Scores, News, Stats & Watch Live    8\n",
       "100000000.0  8 Ball Pool                                          7\n",
       "10000000.0   ESPN                                                 7\n",
       "500000000.0  Candy Crush Saga                                     7\n",
       "                                                                 ..\n",
       "10000.0      Android-P Mono Grey EMUI 8/5 Theme                   1\n",
       "             Anime Expo 2018                                      1\n",
       "             Anonymous caller detection                           1\n",
       "             AppClose - The #1 FREE Co-Parenting App              1\n",
       "100000.0     Blood Glucose Tracker                                1\n",
       "Length: 9675, dtype: int64"
      ]
     },
     "execution_count": 82,
     "metadata": {},
     "output_type": "execute_result"
    }
   ],
   "source": [
    "gp_store[[\"Installs\", \"App\"]].value_counts()"
   ]
  },
  {
   "cell_type": "markdown",
   "id": "02bf7af6",
   "metadata": {},
   "source": [
    "### Type"
   ]
  },
  {
   "cell_type": "code",
   "execution_count": 83,
   "id": "7b53d6e5",
   "metadata": {},
   "outputs": [
    {
     "data": {
      "text/plain": [
       "array(['Free', 'Paid', nan], dtype=object)"
      ]
     },
     "execution_count": 83,
     "metadata": {},
     "output_type": "execute_result"
    }
   ],
   "source": [
    "gp_store[\"Type\"].unique()"
   ]
  },
  {
   "cell_type": "code",
   "execution_count": 84,
   "id": "b994e4da",
   "metadata": {},
   "outputs": [
    {
     "data": {
      "text/plain": [
       "1"
      ]
     },
     "execution_count": 84,
     "metadata": {},
     "output_type": "execute_result"
    }
   ],
   "source": [
    "gp_store[\"Type\"].isnull().sum()"
   ]
  },
  {
   "cell_type": "markdown",
   "id": "86cef887",
   "metadata": {},
   "source": [
    "#### type has one null value and it's converted or replace with other"
   ]
  },
  {
   "cell_type": "code",
   "execution_count": 85,
   "id": "f0b09a95",
   "metadata": {},
   "outputs": [],
   "source": [
    "gp_store[\"Type\"].replace(np.nan,\"Other\",inplace = True)"
   ]
  },
  {
   "cell_type": "code",
   "execution_count": 86,
   "id": "cb3f41d9",
   "metadata": {},
   "outputs": [
    {
     "data": {
      "text/plain": [
       "array(['Free', 'Paid', 'Other'], dtype=object)"
      ]
     },
     "execution_count": 86,
     "metadata": {},
     "output_type": "execute_result"
    }
   ],
   "source": [
    "gp_store[\"Type\"].unique()"
   ]
  },
  {
   "cell_type": "code",
   "execution_count": 87,
   "id": "b6d9784a",
   "metadata": {},
   "outputs": [
    {
     "data": {
      "text/plain": [
       "Free     10040\n",
       "Paid       800\n",
       "Other        1\n",
       "Name: Type, dtype: int64"
      ]
     },
     "execution_count": 87,
     "metadata": {},
     "output_type": "execute_result"
    }
   ],
   "source": [
    "gp_store[\"Type\"].value_counts()"
   ]
  },
  {
   "cell_type": "code",
   "execution_count": 88,
   "id": "a8fa667b",
   "metadata": {},
   "outputs": [
    {
     "data": {
      "text/plain": [
       "0"
      ]
     },
     "execution_count": 88,
     "metadata": {},
     "output_type": "execute_result"
    }
   ],
   "source": [
    "gp_store[\"Type\"].isnull().sum()"
   ]
  },
  {
   "cell_type": "markdown",
   "id": "cc874ed1",
   "metadata": {},
   "source": [
    "### Price"
   ]
  },
  {
   "cell_type": "code",
   "execution_count": 89,
   "id": "bdb9b185",
   "metadata": {},
   "outputs": [
    {
     "data": {
      "text/plain": [
       "array(['0', '$4.99', '$3.99', '$6.99', '$1.49', '$2.99', '$7.99', '$5.99',\n",
       "       '$3.49', '$1.99', '$9.99', '$7.49', '$0.99', '$9.00', '$5.49',\n",
       "       '$10.00', '$24.99', '$11.99', '$79.99', '$16.99', '$14.99',\n",
       "       '$1.00', '$29.99', '$12.99', '$2.49', '$10.99', '$1.50', '$19.99',\n",
       "       '$15.99', '$33.99', '$74.99', '$39.99', '$3.95', '$4.49', '$1.70',\n",
       "       '$8.99', '$2.00', '$3.88', '$25.99', '$399.99', '$17.99',\n",
       "       '$400.00', '$3.02', '$1.76', '$4.84', '$4.77', '$1.61', '$2.50',\n",
       "       '$1.59', '$6.49', '$1.29', '$5.00', '$13.99', '$299.99', '$379.99',\n",
       "       '$37.99', '$18.99', '$389.99', '$19.90', '$8.49', '$1.75',\n",
       "       '$14.00', '$4.85', '$46.99', '$109.99', '$154.99', '$3.08',\n",
       "       '$2.59', '$4.80', '$1.96', '$19.40', '$3.90', '$4.59', '$15.46',\n",
       "       '$3.04', '$4.29', '$2.60', '$3.28', '$4.60', '$28.99', '$2.95',\n",
       "       '$2.90', '$1.97', '$200.00', '$89.99', '$2.56', '$30.99', '$3.61',\n",
       "       '$394.99', '$1.26', '$1.20', '$1.04'], dtype=object)"
      ]
     },
     "execution_count": 89,
     "metadata": {},
     "output_type": "execute_result"
    }
   ],
   "source": [
    "gp_store[\"Price\"].unique()"
   ]
  },
  {
   "cell_type": "code",
   "execution_count": 90,
   "id": "6f4722aa",
   "metadata": {},
   "outputs": [
    {
     "data": {
      "text/plain": [
       "0"
      ]
     },
     "execution_count": 90,
     "metadata": {},
     "output_type": "execute_result"
    }
   ],
   "source": [
    "gp_store[\"Price\"].isnull().sum()"
   ]
  },
  {
   "cell_type": "code",
   "execution_count": 91,
   "id": "e15b5e0e",
   "metadata": {},
   "outputs": [],
   "source": [
    "gp_store['Price'] = gp_store.Price.replace(\"Everyone\",np.nan)"
   ]
  },
  {
   "cell_type": "code",
   "execution_count": 92,
   "id": "ec2c11e5",
   "metadata": {},
   "outputs": [
    {
     "name": "stderr",
     "output_type": "stream",
     "text": [
      "<ipython-input-92-f843bbae049d>:1: FutureWarning: The default value of regex will change from True to False in a future version. In addition, single character regular expressions will *not* be treated as literal strings when regex=True.\n",
      "  gp_store[\"Price\"] = gp_store.Price.str.replace(\"$\",\"\").astype(float)\n"
     ]
    }
   ],
   "source": [
    "gp_store[\"Price\"] = gp_store.Price.str.replace(\"$\",\"\").astype(float)"
   ]
  },
  {
   "cell_type": "code",
   "execution_count": 93,
   "id": "3108f0d4",
   "metadata": {},
   "outputs": [
    {
     "data": {
      "text/plain": [
       "array([  0.  ,   4.99,   3.99,   6.99,   1.49,   2.99,   7.99,   5.99,\n",
       "         3.49,   1.99,   9.99,   7.49,   0.99,   9.  ,   5.49,  10.  ,\n",
       "        24.99,  11.99,  79.99,  16.99,  14.99,   1.  ,  29.99,  12.99,\n",
       "         2.49,  10.99,   1.5 ,  19.99,  15.99,  33.99,  74.99,  39.99,\n",
       "         3.95,   4.49,   1.7 ,   8.99,   2.  ,   3.88,  25.99, 399.99,\n",
       "        17.99, 400.  ,   3.02,   1.76,   4.84,   4.77,   1.61,   2.5 ,\n",
       "         1.59,   6.49,   1.29,   5.  ,  13.99, 299.99, 379.99,  37.99,\n",
       "        18.99, 389.99,  19.9 ,   8.49,   1.75,  14.  ,   4.85,  46.99,\n",
       "       109.99, 154.99,   3.08,   2.59,   4.8 ,   1.96,  19.4 ,   3.9 ,\n",
       "         4.59,  15.46,   3.04,   4.29,   2.6 ,   3.28,   4.6 ,  28.99,\n",
       "         2.95,   2.9 ,   1.97, 200.  ,  89.99,   2.56,  30.99,   3.61,\n",
       "       394.99,   1.26,   1.2 ,   1.04])"
      ]
     },
     "execution_count": 93,
     "metadata": {},
     "output_type": "execute_result"
    }
   ],
   "source": [
    "gp_store[\"Price\"].unique()"
   ]
  },
  {
   "cell_type": "code",
   "execution_count": 94,
   "id": "0dcc555f",
   "metadata": {},
   "outputs": [
    {
     "data": {
      "text/plain": [
       "Index(['App', 'Category', 'Rating', 'Reviews', 'Size', 'Installs', 'Type',\n",
       "       'Price', 'Content Rating', 'Genres', 'Last Updated', 'Current Ver',\n",
       "       'Android Ver'],\n",
       "      dtype='object')"
      ]
     },
     "execution_count": 94,
     "metadata": {},
     "output_type": "execute_result"
    }
   ],
   "source": [
    "gp_store.columns"
   ]
  },
  {
   "cell_type": "code",
   "execution_count": 95,
   "id": "c4422894",
   "metadata": {},
   "outputs": [],
   "source": [
    "gp_store.rename(columns = {\"Price\" : \"Price ($)\"},inplace = True)"
   ]
  },
  {
   "cell_type": "code",
   "execution_count": 96,
   "id": "85f71f2b",
   "metadata": {},
   "outputs": [
    {
     "data": {
      "text/plain": [
       "Index(['App', 'Category', 'Rating', 'Reviews', 'Size', 'Installs', 'Type',\n",
       "       'Price ($)', 'Content Rating', 'Genres', 'Last Updated', 'Current Ver',\n",
       "       'Android Ver'],\n",
       "      dtype='object')"
      ]
     },
     "execution_count": 96,
     "metadata": {},
     "output_type": "execute_result"
    }
   ],
   "source": [
    "gp_store.columns"
   ]
  },
  {
   "cell_type": "markdown",
   "id": "5dc8b07a",
   "metadata": {},
   "source": [
    "### Content Rating"
   ]
  },
  {
   "cell_type": "code",
   "execution_count": 97,
   "id": "3a9fc89f",
   "metadata": {},
   "outputs": [
    {
     "data": {
      "text/plain": [
       "array(['Everyone', 'Teen', 'Everyone 10+', 'Mature 17+',\n",
       "       'Adults only 18+', 'Unrated'], dtype=object)"
      ]
     },
     "execution_count": 97,
     "metadata": {},
     "output_type": "execute_result"
    }
   ],
   "source": [
    "gp_store[\"Content Rating\"].unique()"
   ]
  },
  {
   "cell_type": "code",
   "execution_count": 98,
   "id": "39c7b591",
   "metadata": {},
   "outputs": [
    {
     "data": {
      "text/plain": [
       "6"
      ]
     },
     "execution_count": 98,
     "metadata": {},
     "output_type": "execute_result"
    }
   ],
   "source": [
    "gp_store[\"Content Rating\"].nunique()"
   ]
  },
  {
   "cell_type": "code",
   "execution_count": 99,
   "id": "01b2ffba",
   "metadata": {},
   "outputs": [
    {
     "data": {
      "text/plain": [
       "0"
      ]
     },
     "execution_count": 99,
     "metadata": {},
     "output_type": "execute_result"
    }
   ],
   "source": [
    "gp_store[\"Content Rating\"].isnull().sum()"
   ]
  },
  {
   "cell_type": "code",
   "execution_count": 100,
   "id": "ecca6005",
   "metadata": {},
   "outputs": [
    {
     "data": {
      "text/html": [
       "<div>\n",
       "<style scoped>\n",
       "    .dataframe tbody tr th:only-of-type {\n",
       "        vertical-align: middle;\n",
       "    }\n",
       "\n",
       "    .dataframe tbody tr th {\n",
       "        vertical-align: top;\n",
       "    }\n",
       "\n",
       "    .dataframe thead th {\n",
       "        text-align: right;\n",
       "    }\n",
       "</style>\n",
       "<table border=\"1\" class=\"dataframe\">\n",
       "  <thead>\n",
       "    <tr style=\"text-align: right;\">\n",
       "      <th></th>\n",
       "      <th>App</th>\n",
       "      <th>Category</th>\n",
       "      <th>Rating</th>\n",
       "      <th>Reviews</th>\n",
       "      <th>Size</th>\n",
       "      <th>Installs</th>\n",
       "      <th>Type</th>\n",
       "      <th>Price ($)</th>\n",
       "      <th>Content Rating</th>\n",
       "      <th>Genres</th>\n",
       "      <th>Last Updated</th>\n",
       "      <th>Current Ver</th>\n",
       "      <th>Android Ver</th>\n",
       "    </tr>\n",
       "  </thead>\n",
       "  <tbody>\n",
       "    <tr>\n",
       "      <th>7312</th>\n",
       "      <td>Best CG Photography</td>\n",
       "      <td>FAMILY</td>\n",
       "      <td>4.191513</td>\n",
       "      <td>1.0</td>\n",
       "      <td>2.5</td>\n",
       "      <td>500.0</td>\n",
       "      <td>Free</td>\n",
       "      <td>0.0</td>\n",
       "      <td>Unrated</td>\n",
       "      <td>Entertainment</td>\n",
       "      <td>June 24, 2015</td>\n",
       "      <td>5.2</td>\n",
       "      <td>3.0 and up</td>\n",
       "    </tr>\n",
       "    <tr>\n",
       "      <th>8266</th>\n",
       "      <td>DC Universe Online Map</td>\n",
       "      <td>TOOLS</td>\n",
       "      <td>4.100000</td>\n",
       "      <td>1186.0</td>\n",
       "      <td>6.4</td>\n",
       "      <td>50000.0</td>\n",
       "      <td>Free</td>\n",
       "      <td>0.0</td>\n",
       "      <td>Unrated</td>\n",
       "      <td>Tools</td>\n",
       "      <td>February 27, 2012</td>\n",
       "      <td>1.3</td>\n",
       "      <td>2.3.3 and up</td>\n",
       "    </tr>\n",
       "  </tbody>\n",
       "</table>\n",
       "</div>"
      ],
      "text/plain": [
       "                         App Category    Rating  Reviews  Size  Installs  \\\n",
       "7312     Best CG Photography   FAMILY  4.191513      1.0   2.5     500.0   \n",
       "8266  DC Universe Online Map    TOOLS  4.100000   1186.0   6.4   50000.0   \n",
       "\n",
       "      Type  Price ($) Content Rating         Genres       Last Updated  \\\n",
       "7312  Free        0.0        Unrated  Entertainment      June 24, 2015   \n",
       "8266  Free        0.0        Unrated          Tools  February 27, 2012   \n",
       "\n",
       "     Current Ver   Android Ver  \n",
       "7312         5.2    3.0 and up  \n",
       "8266         1.3  2.3.3 and up  "
      ]
     },
     "execution_count": 100,
     "metadata": {},
     "output_type": "execute_result"
    }
   ],
   "source": [
    "gp_store[gp_store[\"Content Rating\"] == \"Unrated\"]"
   ]
  },
  {
   "cell_type": "markdown",
   "id": "4cec0976",
   "metadata": {},
   "source": [
    "### Genres"
   ]
  },
  {
   "cell_type": "code",
   "execution_count": 101,
   "id": "cfab0ed0",
   "metadata": {
    "scrolled": true
   },
   "outputs": [
    {
     "data": {
      "text/plain": [
       "array(['Art & Design', 'Art & Design;Pretend Play',\n",
       "       'Art & Design;Creativity', 'Art & Design;Action & Adventure',\n",
       "       'Auto & Vehicles', 'Beauty', 'Books & Reference', 'Business',\n",
       "       'Comics', 'Comics;Creativity', 'Communication', 'Dating',\n",
       "       'Education;Education', 'Education', 'Education;Creativity',\n",
       "       'Education;Music & Video', 'Education;Action & Adventure',\n",
       "       'Education;Pretend Play', 'Education;Brain Games', 'Entertainment',\n",
       "       'Entertainment;Music & Video', 'Entertainment;Brain Games',\n",
       "       'Entertainment;Creativity', 'Events', 'Finance', 'Food & Drink',\n",
       "       'Health & Fitness', 'House & Home', 'Libraries & Demo',\n",
       "       'Lifestyle', 'Lifestyle;Pretend Play',\n",
       "       'Adventure;Action & Adventure', 'Arcade', 'Casual', 'Card',\n",
       "       'Casual;Pretend Play', 'Action', 'Strategy', 'Puzzle', 'Sports',\n",
       "       'Music', 'Word', 'Racing', 'Casual;Creativity',\n",
       "       'Casual;Action & Adventure', 'Simulation', 'Adventure', 'Board',\n",
       "       'Trivia', 'Role Playing', 'Simulation;Education',\n",
       "       'Action;Action & Adventure', 'Casual;Brain Games',\n",
       "       'Simulation;Action & Adventure', 'Educational;Creativity',\n",
       "       'Puzzle;Brain Games', 'Educational;Education', 'Card;Brain Games',\n",
       "       'Educational;Brain Games', 'Educational;Pretend Play',\n",
       "       'Entertainment;Education', 'Casual;Education',\n",
       "       'Music;Music & Video', 'Racing;Action & Adventure',\n",
       "       'Arcade;Pretend Play', 'Role Playing;Action & Adventure',\n",
       "       'Simulation;Pretend Play', 'Puzzle;Creativity',\n",
       "       'Sports;Action & Adventure', 'Educational;Action & Adventure',\n",
       "       'Arcade;Action & Adventure', 'Entertainment;Action & Adventure',\n",
       "       'Puzzle;Action & Adventure', 'Strategy;Action & Adventure',\n",
       "       'Music & Audio;Music & Video', 'Health & Fitness;Education',\n",
       "       'Adventure;Education', 'Board;Brain Games',\n",
       "       'Board;Action & Adventure', 'Board;Pretend Play',\n",
       "       'Casual;Music & Video', 'Role Playing;Pretend Play',\n",
       "       'Entertainment;Pretend Play', 'Video Players & Editors;Creativity',\n",
       "       'Card;Action & Adventure', 'Medical', 'Social', 'Shopping',\n",
       "       'Photography', 'Travel & Local',\n",
       "       'Travel & Local;Action & Adventure', 'Tools', 'Tools;Education',\n",
       "       'Personalization', 'Productivity', 'Parenting',\n",
       "       'Parenting;Music & Video', 'Parenting;Education',\n",
       "       'Parenting;Brain Games', 'Weather', 'Video Players & Editors',\n",
       "       'Video Players & Editors;Music & Video', 'News & Magazines',\n",
       "       'Maps & Navigation', 'Health & Fitness;Action & Adventure',\n",
       "       'Educational', 'Casino', 'Adventure;Brain Games',\n",
       "       'Trivia;Education', 'Lifestyle;Education',\n",
       "       'Books & Reference;Creativity', 'Books & Reference;Education',\n",
       "       'Puzzle;Education', 'Role Playing;Education',\n",
       "       'Role Playing;Brain Games', 'Strategy;Education',\n",
       "       'Racing;Pretend Play', 'Communication;Creativity', nan,\n",
       "       'Strategy;Creativity'], dtype=object)"
      ]
     },
     "execution_count": 101,
     "metadata": {},
     "output_type": "execute_result"
    }
   ],
   "source": [
    "gp_store[\"Genres\"].unique()"
   ]
  },
  {
   "cell_type": "code",
   "execution_count": 102,
   "id": "031dd2ce",
   "metadata": {},
   "outputs": [
    {
     "data": {
      "text/plain": [
       "119"
      ]
     },
     "execution_count": 102,
     "metadata": {},
     "output_type": "execute_result"
    }
   ],
   "source": [
    "gp_store[\"Genres\"].nunique()"
   ]
  },
  {
   "cell_type": "code",
   "execution_count": 103,
   "id": "e293fc3b",
   "metadata": {},
   "outputs": [
    {
     "data": {
      "text/plain": [
       "1"
      ]
     },
     "execution_count": 103,
     "metadata": {},
     "output_type": "execute_result"
    }
   ],
   "source": [
    "gp_store[\"Genres\"].isnull().sum()"
   ]
  },
  {
   "cell_type": "code",
   "execution_count": 104,
   "id": "07f28059",
   "metadata": {},
   "outputs": [
    {
     "data": {
      "text/html": [
       "<div>\n",
       "<style scoped>\n",
       "    .dataframe tbody tr th:only-of-type {\n",
       "        vertical-align: middle;\n",
       "    }\n",
       "\n",
       "    .dataframe tbody tr th {\n",
       "        vertical-align: top;\n",
       "    }\n",
       "\n",
       "    .dataframe thead th {\n",
       "        text-align: right;\n",
       "    }\n",
       "</style>\n",
       "<table border=\"1\" class=\"dataframe\">\n",
       "  <thead>\n",
       "    <tr style=\"text-align: right;\">\n",
       "      <th></th>\n",
       "      <th>App</th>\n",
       "      <th>Category</th>\n",
       "      <th>Rating</th>\n",
       "      <th>Reviews</th>\n",
       "      <th>Size</th>\n",
       "      <th>Installs</th>\n",
       "      <th>Type</th>\n",
       "      <th>Price ($)</th>\n",
       "      <th>Content Rating</th>\n",
       "      <th>Genres</th>\n",
       "      <th>Last Updated</th>\n",
       "      <th>Current Ver</th>\n",
       "      <th>Android Ver</th>\n",
       "    </tr>\n",
       "  </thead>\n",
       "  <tbody>\n",
       "  </tbody>\n",
       "</table>\n",
       "</div>"
      ],
      "text/plain": [
       "Empty DataFrame\n",
       "Columns: [App, Category, Rating, Reviews, Size, Installs, Type, Price ($), Content Rating, Genres, Last Updated, Current Ver, Android Ver]\n",
       "Index: []"
      ]
     },
     "execution_count": 104,
     "metadata": {},
     "output_type": "execute_result"
    }
   ],
   "source": [
    "gp_store[gp_store[\"Genres\"] == \"nan\"]"
   ]
  },
  {
   "cell_type": "code",
   "execution_count": 105,
   "id": "93d65b07",
   "metadata": {},
   "outputs": [],
   "source": [
    "gp_store[\"Genres\"].replace(np.nan,\"Others\",inplace = True)"
   ]
  },
  {
   "cell_type": "code",
   "execution_count": 106,
   "id": "e4af2a14",
   "metadata": {},
   "outputs": [
    {
     "data": {
      "text/plain": [
       "0"
      ]
     },
     "execution_count": 106,
     "metadata": {},
     "output_type": "execute_result"
    }
   ],
   "source": [
    "gp_store[\"Genres\"].isnull().sum()"
   ]
  },
  {
   "cell_type": "code",
   "execution_count": 107,
   "id": "7be85032",
   "metadata": {},
   "outputs": [
    {
     "data": {
      "text/plain": [
       "Tools                     842\n",
       "Entertainment             623\n",
       "Education                 549\n",
       "Medical                   463\n",
       "Business                  460\n",
       "                         ... \n",
       "Arcade;Pretend Play         1\n",
       "Card;Brain Games            1\n",
       "Lifestyle;Pretend Play      1\n",
       "Comics;Creativity           1\n",
       "Strategy;Creativity         1\n",
       "Name: Genres, Length: 120, dtype: int64"
      ]
     },
     "execution_count": 107,
     "metadata": {},
     "output_type": "execute_result"
    }
   ],
   "source": [
    "gp_store[\"Genres\"].value_counts()"
   ]
  },
  {
   "cell_type": "markdown",
   "id": "5cdad8fb",
   "metadata": {},
   "source": [
    "### Last Updated"
   ]
  },
  {
   "cell_type": "code",
   "execution_count": 108,
   "id": "2101c7e6",
   "metadata": {},
   "outputs": [
    {
     "data": {
      "text/plain": [
       "array(['January 7, 2018', 'January 15, 2018', 'August 1, 2018', ...,\n",
       "       'January 20, 2014', 'February 16, 2014', 'March 23, 2014'],\n",
       "      dtype=object)"
      ]
     },
     "execution_count": 108,
     "metadata": {},
     "output_type": "execute_result"
    }
   ],
   "source": [
    "gp_store[\"Last Updated\"].unique()"
   ]
  },
  {
   "cell_type": "code",
   "execution_count": 109,
   "id": "f6bcd03d",
   "metadata": {},
   "outputs": [
    {
     "data": {
      "text/plain": [
       "1377"
      ]
     },
     "execution_count": 109,
     "metadata": {},
     "output_type": "execute_result"
    }
   ],
   "source": [
    "gp_store[\"Last Updated\"].nunique()"
   ]
  },
  {
   "cell_type": "code",
   "execution_count": 110,
   "id": "b74a9235",
   "metadata": {},
   "outputs": [
    {
     "data": {
      "text/plain": [
       "0"
      ]
     },
     "execution_count": 110,
     "metadata": {},
     "output_type": "execute_result"
    }
   ],
   "source": [
    "gp_store[\"Last Updated\"].isnull().sum()"
   ]
  },
  {
   "cell_type": "code",
   "execution_count": 111,
   "id": "1baf7913",
   "metadata": {},
   "outputs": [
    {
     "data": {
      "text/plain": [
       "August 3, 2018       326\n",
       "August 2, 2018       304\n",
       "July 31, 2018        294\n",
       "August 1, 2018       285\n",
       "July 30, 2018        211\n",
       "                    ... \n",
       "March 8, 2015          1\n",
       "March 25, 2015         1\n",
       "December 17, 2013      1\n",
       "October 11, 2014       1\n",
       "March 23, 2014         1\n",
       "Name: Last Updated, Length: 1377, dtype: int64"
      ]
     },
     "execution_count": 111,
     "metadata": {},
     "output_type": "execute_result"
    }
   ],
   "source": [
    "gp_store[\"Last Updated\"].value_counts()"
   ]
  },
  {
   "cell_type": "code",
   "execution_count": 112,
   "id": "51e91941",
   "metadata": {},
   "outputs": [],
   "source": [
    "gp_store[\"Last Updated\"] = pd.to_datetime(gp_store[\"Last Updated\"])"
   ]
  },
  {
   "cell_type": "code",
   "execution_count": 113,
   "id": "db7f0ded",
   "metadata": {},
   "outputs": [
    {
     "data": {
      "text/plain": [
       "0       2018-01-07\n",
       "1       2018-01-15\n",
       "2       2018-08-01\n",
       "3       2018-06-08\n",
       "4       2018-06-20\n",
       "           ...    \n",
       "10836   2017-07-25\n",
       "10837   2018-07-06\n",
       "10838   2017-01-20\n",
       "10839   2015-01-19\n",
       "10840   2018-07-25\n",
       "Name: Last Updated, Length: 10841, dtype: datetime64[ns]"
      ]
     },
     "execution_count": 113,
     "metadata": {},
     "output_type": "execute_result"
    }
   ],
   "source": [
    "gp_store[\"Last Updated\"]"
   ]
  },
  {
   "cell_type": "markdown",
   "id": "cb112e8e",
   "metadata": {},
   "source": [
    "### Current Ver"
   ]
  },
  {
   "cell_type": "code",
   "execution_count": 114,
   "id": "0ae55ea9",
   "metadata": {},
   "outputs": [
    {
     "data": {
      "text/plain": [
       "array(['1.0.0', '2.0.0', '1.2.4', ..., '1.0.612928', '0.3.4', '2.0.148.0'],\n",
       "      dtype=object)"
      ]
     },
     "execution_count": 114,
     "metadata": {},
     "output_type": "execute_result"
    }
   ],
   "source": [
    "gp_store[\"Current Ver\"].unique()"
   ]
  },
  {
   "cell_type": "code",
   "execution_count": 115,
   "id": "c73c872c",
   "metadata": {},
   "outputs": [
    {
     "data": {
      "text/plain": [
       "2831"
      ]
     },
     "execution_count": 115,
     "metadata": {},
     "output_type": "execute_result"
    }
   ],
   "source": [
    "gp_store[\"Current Ver\"].nunique()"
   ]
  },
  {
   "cell_type": "code",
   "execution_count": 116,
   "id": "e5a3a220",
   "metadata": {},
   "outputs": [
    {
     "data": {
      "text/plain": [
       "8"
      ]
     },
     "execution_count": 116,
     "metadata": {},
     "output_type": "execute_result"
    }
   ],
   "source": [
    "gp_store[\"Current Ver\"].isnull().sum()"
   ]
  },
  {
   "cell_type": "code",
   "execution_count": 117,
   "id": "140fca52",
   "metadata": {},
   "outputs": [
    {
     "data": {
      "text/html": [
       "<div>\n",
       "<style scoped>\n",
       "    .dataframe tbody tr th:only-of-type {\n",
       "        vertical-align: middle;\n",
       "    }\n",
       "\n",
       "    .dataframe tbody tr th {\n",
       "        vertical-align: top;\n",
       "    }\n",
       "\n",
       "    .dataframe thead th {\n",
       "        text-align: right;\n",
       "    }\n",
       "</style>\n",
       "<table border=\"1\" class=\"dataframe\">\n",
       "  <thead>\n",
       "    <tr style=\"text-align: right;\">\n",
       "      <th></th>\n",
       "      <th>App</th>\n",
       "      <th>Category</th>\n",
       "      <th>Rating</th>\n",
       "      <th>Reviews</th>\n",
       "      <th>Size</th>\n",
       "      <th>Installs</th>\n",
       "      <th>Type</th>\n",
       "      <th>Price ($)</th>\n",
       "      <th>Content Rating</th>\n",
       "      <th>Genres</th>\n",
       "      <th>Last Updated</th>\n",
       "      <th>Current Ver</th>\n",
       "      <th>Android Ver</th>\n",
       "    </tr>\n",
       "  </thead>\n",
       "  <tbody>\n",
       "    <tr>\n",
       "      <th>3</th>\n",
       "      <td>Sketch - Draw &amp; Paint</td>\n",
       "      <td>ART_AND_DESIGN</td>\n",
       "      <td>4.5</td>\n",
       "      <td>215644.0</td>\n",
       "      <td>25000.000000</td>\n",
       "      <td>50000000.0</td>\n",
       "      <td>Free</td>\n",
       "      <td>0.0</td>\n",
       "      <td>Teen</td>\n",
       "      <td>Art &amp; Design</td>\n",
       "      <td>2018-06-08</td>\n",
       "      <td>Varies with device</td>\n",
       "      <td>4.2 and up</td>\n",
       "    </tr>\n",
       "    <tr>\n",
       "      <th>37</th>\n",
       "      <td>Floor Plan Creator</td>\n",
       "      <td>ART_AND_DESIGN</td>\n",
       "      <td>4.1</td>\n",
       "      <td>36639.0</td>\n",
       "      <td>19577.279477</td>\n",
       "      <td>5000000.0</td>\n",
       "      <td>Free</td>\n",
       "      <td>0.0</td>\n",
       "      <td>Everyone</td>\n",
       "      <td>Art &amp; Design</td>\n",
       "      <td>2018-07-14</td>\n",
       "      <td>Varies with device</td>\n",
       "      <td>2.3.3 and up</td>\n",
       "    </tr>\n",
       "    <tr>\n",
       "      <th>42</th>\n",
       "      <td>Textgram - write on photos</td>\n",
       "      <td>ART_AND_DESIGN</td>\n",
       "      <td>4.4</td>\n",
       "      <td>295221.0</td>\n",
       "      <td>19577.279477</td>\n",
       "      <td>10000000.0</td>\n",
       "      <td>Free</td>\n",
       "      <td>0.0</td>\n",
       "      <td>Everyone</td>\n",
       "      <td>Art &amp; Design</td>\n",
       "      <td>2018-07-30</td>\n",
       "      <td>Varies with device</td>\n",
       "      <td>Varies with device</td>\n",
       "    </tr>\n",
       "    <tr>\n",
       "      <th>52</th>\n",
       "      <td>Used Cars and Trucks for Sale</td>\n",
       "      <td>AUTO_AND_VEHICLES</td>\n",
       "      <td>4.6</td>\n",
       "      <td>17057.0</td>\n",
       "      <td>19577.279477</td>\n",
       "      <td>1000000.0</td>\n",
       "      <td>Free</td>\n",
       "      <td>0.0</td>\n",
       "      <td>Everyone</td>\n",
       "      <td>Auto &amp; Vehicles</td>\n",
       "      <td>2018-07-30</td>\n",
       "      <td>Varies with device</td>\n",
       "      <td>Varies with device</td>\n",
       "    </tr>\n",
       "    <tr>\n",
       "      <th>67</th>\n",
       "      <td>Ulysse Speedometer</td>\n",
       "      <td>AUTO_AND_VEHICLES</td>\n",
       "      <td>4.3</td>\n",
       "      <td>40211.0</td>\n",
       "      <td>19577.279477</td>\n",
       "      <td>5000000.0</td>\n",
       "      <td>Free</td>\n",
       "      <td>0.0</td>\n",
       "      <td>Everyone</td>\n",
       "      <td>Auto &amp; Vehicles</td>\n",
       "      <td>2018-07-30</td>\n",
       "      <td>Varies with device</td>\n",
       "      <td>Varies with device</td>\n",
       "    </tr>\n",
       "    <tr>\n",
       "      <th>...</th>\n",
       "      <td>...</td>\n",
       "      <td>...</td>\n",
       "      <td>...</td>\n",
       "      <td>...</td>\n",
       "      <td>...</td>\n",
       "      <td>...</td>\n",
       "      <td>...</td>\n",
       "      <td>...</td>\n",
       "      <td>...</td>\n",
       "      <td>...</td>\n",
       "      <td>...</td>\n",
       "      <td>...</td>\n",
       "      <td>...</td>\n",
       "    </tr>\n",
       "    <tr>\n",
       "      <th>10725</th>\n",
       "      <td>Posta App</td>\n",
       "      <td>MAPS_AND_NAVIGATION</td>\n",
       "      <td>3.6</td>\n",
       "      <td>8.0</td>\n",
       "      <td>19577.279477</td>\n",
       "      <td>1000.0</td>\n",
       "      <td>Free</td>\n",
       "      <td>0.0</td>\n",
       "      <td>Everyone</td>\n",
       "      <td>Maps &amp; Navigation</td>\n",
       "      <td>2017-09-27</td>\n",
       "      <td>Varies with device</td>\n",
       "      <td>4.4 and up</td>\n",
       "    </tr>\n",
       "    <tr>\n",
       "      <th>10765</th>\n",
       "      <td>Chat For Strangers - Video Chat</td>\n",
       "      <td>SOCIAL</td>\n",
       "      <td>3.4</td>\n",
       "      <td>622.0</td>\n",
       "      <td>19577.279477</td>\n",
       "      <td>100000.0</td>\n",
       "      <td>Free</td>\n",
       "      <td>0.0</td>\n",
       "      <td>Mature 17+</td>\n",
       "      <td>Social</td>\n",
       "      <td>2018-05-23</td>\n",
       "      <td>Varies with device</td>\n",
       "      <td>Varies with device</td>\n",
       "    </tr>\n",
       "    <tr>\n",
       "      <th>10826</th>\n",
       "      <td>Frim: get new friends on local chat rooms</td>\n",
       "      <td>SOCIAL</td>\n",
       "      <td>4.0</td>\n",
       "      <td>88486.0</td>\n",
       "      <td>19577.279477</td>\n",
       "      <td>5000000.0</td>\n",
       "      <td>Free</td>\n",
       "      <td>0.0</td>\n",
       "      <td>Mature 17+</td>\n",
       "      <td>Social</td>\n",
       "      <td>2018-03-23</td>\n",
       "      <td>Varies with device</td>\n",
       "      <td>Varies with device</td>\n",
       "    </tr>\n",
       "    <tr>\n",
       "      <th>10839</th>\n",
       "      <td>The SCP Foundation DB fr nn5n</td>\n",
       "      <td>BOOKS_AND_REFERENCE</td>\n",
       "      <td>4.5</td>\n",
       "      <td>114.0</td>\n",
       "      <td>19577.279477</td>\n",
       "      <td>1000.0</td>\n",
       "      <td>Free</td>\n",
       "      <td>0.0</td>\n",
       "      <td>Mature 17+</td>\n",
       "      <td>Books &amp; Reference</td>\n",
       "      <td>2015-01-19</td>\n",
       "      <td>Varies with device</td>\n",
       "      <td>Varies with device</td>\n",
       "    </tr>\n",
       "    <tr>\n",
       "      <th>10840</th>\n",
       "      <td>iHoroscope - 2018 Daily Horoscope &amp; Astrology</td>\n",
       "      <td>LIFESTYLE</td>\n",
       "      <td>4.5</td>\n",
       "      <td>398307.0</td>\n",
       "      <td>19000.000000</td>\n",
       "      <td>10000000.0</td>\n",
       "      <td>Free</td>\n",
       "      <td>0.0</td>\n",
       "      <td>Everyone</td>\n",
       "      <td>Lifestyle</td>\n",
       "      <td>2018-07-25</td>\n",
       "      <td>Varies with device</td>\n",
       "      <td>Varies with device</td>\n",
       "    </tr>\n",
       "  </tbody>\n",
       "</table>\n",
       "<p>1459 rows × 13 columns</p>\n",
       "</div>"
      ],
      "text/plain": [
       "                                                 App             Category  \\\n",
       "3                              Sketch - Draw & Paint       ART_AND_DESIGN   \n",
       "37                                Floor Plan Creator       ART_AND_DESIGN   \n",
       "42                        Textgram - write on photos       ART_AND_DESIGN   \n",
       "52                     Used Cars and Trucks for Sale    AUTO_AND_VEHICLES   \n",
       "67                                Ulysse Speedometer    AUTO_AND_VEHICLES   \n",
       "...                                              ...                  ...   \n",
       "10725                                      Posta App  MAPS_AND_NAVIGATION   \n",
       "10765                Chat For Strangers - Video Chat               SOCIAL   \n",
       "10826      Frim: get new friends on local chat rooms               SOCIAL   \n",
       "10839                  The SCP Foundation DB fr nn5n  BOOKS_AND_REFERENCE   \n",
       "10840  iHoroscope - 2018 Daily Horoscope & Astrology            LIFESTYLE   \n",
       "\n",
       "       Rating   Reviews          Size    Installs  Type  Price ($)  \\\n",
       "3         4.5  215644.0  25000.000000  50000000.0  Free        0.0   \n",
       "37        4.1   36639.0  19577.279477   5000000.0  Free        0.0   \n",
       "42        4.4  295221.0  19577.279477  10000000.0  Free        0.0   \n",
       "52        4.6   17057.0  19577.279477   1000000.0  Free        0.0   \n",
       "67        4.3   40211.0  19577.279477   5000000.0  Free        0.0   \n",
       "...       ...       ...           ...         ...   ...        ...   \n",
       "10725     3.6       8.0  19577.279477      1000.0  Free        0.0   \n",
       "10765     3.4     622.0  19577.279477    100000.0  Free        0.0   \n",
       "10826     4.0   88486.0  19577.279477   5000000.0  Free        0.0   \n",
       "10839     4.5     114.0  19577.279477      1000.0  Free        0.0   \n",
       "10840     4.5  398307.0  19000.000000  10000000.0  Free        0.0   \n",
       "\n",
       "      Content Rating             Genres Last Updated         Current Ver  \\\n",
       "3               Teen       Art & Design   2018-06-08  Varies with device   \n",
       "37          Everyone       Art & Design   2018-07-14  Varies with device   \n",
       "42          Everyone       Art & Design   2018-07-30  Varies with device   \n",
       "52          Everyone    Auto & Vehicles   2018-07-30  Varies with device   \n",
       "67          Everyone    Auto & Vehicles   2018-07-30  Varies with device   \n",
       "...              ...                ...          ...                 ...   \n",
       "10725       Everyone  Maps & Navigation   2017-09-27  Varies with device   \n",
       "10765     Mature 17+             Social   2018-05-23  Varies with device   \n",
       "10826     Mature 17+             Social   2018-03-23  Varies with device   \n",
       "10839     Mature 17+  Books & Reference   2015-01-19  Varies with device   \n",
       "10840       Everyone          Lifestyle   2018-07-25  Varies with device   \n",
       "\n",
       "              Android Ver  \n",
       "3              4.2 and up  \n",
       "37           2.3.3 and up  \n",
       "42     Varies with device  \n",
       "52     Varies with device  \n",
       "67     Varies with device  \n",
       "...                   ...  \n",
       "10725          4.4 and up  \n",
       "10765  Varies with device  \n",
       "10826  Varies with device  \n",
       "10839  Varies with device  \n",
       "10840  Varies with device  \n",
       "\n",
       "[1459 rows x 13 columns]"
      ]
     },
     "execution_count": 117,
     "metadata": {},
     "output_type": "execute_result"
    }
   ],
   "source": [
    "gp_store[gp_store[\"Current Ver\"] == \"Varies with device\"]"
   ]
  },
  {
   "cell_type": "code",
   "execution_count": 118,
   "id": "7ba7b066",
   "metadata": {},
   "outputs": [
    {
     "data": {
      "text/html": [
       "<div>\n",
       "<style scoped>\n",
       "    .dataframe tbody tr th:only-of-type {\n",
       "        vertical-align: middle;\n",
       "    }\n",
       "\n",
       "    .dataframe tbody tr th {\n",
       "        vertical-align: top;\n",
       "    }\n",
       "\n",
       "    .dataframe thead th {\n",
       "        text-align: right;\n",
       "    }\n",
       "</style>\n",
       "<table border=\"1\" class=\"dataframe\">\n",
       "  <thead>\n",
       "    <tr style=\"text-align: right;\">\n",
       "      <th></th>\n",
       "      <th>App</th>\n",
       "      <th>Category</th>\n",
       "      <th>Rating</th>\n",
       "      <th>Reviews</th>\n",
       "      <th>Size</th>\n",
       "      <th>Installs</th>\n",
       "      <th>Type</th>\n",
       "      <th>Price ($)</th>\n",
       "      <th>Content Rating</th>\n",
       "      <th>Genres</th>\n",
       "      <th>Last Updated</th>\n",
       "      <th>Current Ver</th>\n",
       "      <th>Android Ver</th>\n",
       "    </tr>\n",
       "  </thead>\n",
       "  <tbody>\n",
       "  </tbody>\n",
       "</table>\n",
       "</div>"
      ],
      "text/plain": [
       "Empty DataFrame\n",
       "Columns: [App, Category, Rating, Reviews, Size, Installs, Type, Price ($), Content Rating, Genres, Last Updated, Current Ver, Android Ver]\n",
       "Index: []"
      ]
     },
     "execution_count": 118,
     "metadata": {},
     "output_type": "execute_result"
    }
   ],
   "source": [
    "gp_store[gp_store[\"Current Ver\"] == \"\"]"
   ]
  },
  {
   "cell_type": "markdown",
   "id": "5e92f290",
   "metadata": {},
   "source": [
    "### Android Ver"
   ]
  },
  {
   "cell_type": "code",
   "execution_count": 119,
   "id": "8c685119",
   "metadata": {},
   "outputs": [
    {
     "data": {
      "text/plain": [
       "array(['4.0.3 and up', '4.2 and up', '4.4 and up', '2.3 and up',\n",
       "       '3.0 and up', '4.1 and up', '4.0 and up', '2.3.3 and up',\n",
       "       'Varies with device', '2.2 and up', '5.0 and up', '6.0 and up',\n",
       "       '1.6 and up', '1.5 and up', '2.1 and up', '7.0 and up',\n",
       "       '5.1 and up', '4.3 and up', '4.0.3 - 7.1.1', '2.0 and up',\n",
       "       '3.2 and up', '4.4W and up', '7.1 and up', '7.0 - 7.1.1',\n",
       "       '8.0 and up', '5.0 - 8.0', '3.1 and up', '2.0.1 and up',\n",
       "       '4.1 - 7.1.1', nan, '5.0 - 6.0', '1.0 and up', '2.2 - 7.1.1',\n",
       "       '5.0 - 7.1.1'], dtype=object)"
      ]
     },
     "execution_count": 119,
     "metadata": {},
     "output_type": "execute_result"
    }
   ],
   "source": [
    "gp_store[\"Android Ver\"].unique()"
   ]
  },
  {
   "cell_type": "code",
   "execution_count": 120,
   "id": "6938b703",
   "metadata": {},
   "outputs": [
    {
     "data": {
      "text/plain": [
       "33"
      ]
     },
     "execution_count": 120,
     "metadata": {},
     "output_type": "execute_result"
    }
   ],
   "source": [
    "gp_store[\"Android Ver\"].nunique()"
   ]
  },
  {
   "cell_type": "code",
   "execution_count": 121,
   "id": "90704ddf",
   "metadata": {},
   "outputs": [
    {
     "data": {
      "text/plain": [
       "2"
      ]
     },
     "execution_count": 121,
     "metadata": {},
     "output_type": "execute_result"
    }
   ],
   "source": [
    "gp_store[\"Android Ver\"].isnull().sum()"
   ]
  },
  {
   "cell_type": "code",
   "execution_count": 122,
   "id": "76b01055",
   "metadata": {},
   "outputs": [
    {
     "data": {
      "text/html": [
       "<div>\n",
       "<style scoped>\n",
       "    .dataframe tbody tr th:only-of-type {\n",
       "        vertical-align: middle;\n",
       "    }\n",
       "\n",
       "    .dataframe tbody tr th {\n",
       "        vertical-align: top;\n",
       "    }\n",
       "\n",
       "    .dataframe thead th {\n",
       "        text-align: right;\n",
       "    }\n",
       "</style>\n",
       "<table border=\"1\" class=\"dataframe\">\n",
       "  <thead>\n",
       "    <tr style=\"text-align: right;\">\n",
       "      <th></th>\n",
       "      <th>App</th>\n",
       "      <th>Category</th>\n",
       "      <th>Rating</th>\n",
       "      <th>Reviews</th>\n",
       "      <th>Size</th>\n",
       "      <th>Installs</th>\n",
       "      <th>Type</th>\n",
       "      <th>Price ($)</th>\n",
       "      <th>Content Rating</th>\n",
       "      <th>Genres</th>\n",
       "      <th>Last Updated</th>\n",
       "      <th>Current Ver</th>\n",
       "      <th>Android Ver</th>\n",
       "    </tr>\n",
       "  </thead>\n",
       "  <tbody>\n",
       "  </tbody>\n",
       "</table>\n",
       "</div>"
      ],
      "text/plain": [
       "Empty DataFrame\n",
       "Columns: [App, Category, Rating, Reviews, Size, Installs, Type, Price ($), Content Rating, Genres, Last Updated, Current Ver, Android Ver]\n",
       "Index: []"
      ]
     },
     "execution_count": 122,
     "metadata": {},
     "output_type": "execute_result"
    }
   ],
   "source": [
    "gp_store[gp_store[\"Android Ver\"] == \"nan\"]"
   ]
  },
  {
   "cell_type": "code",
   "execution_count": 123,
   "id": "d44779cf",
   "metadata": {},
   "outputs": [
    {
     "data": {
      "text/html": [
       "<div>\n",
       "<style scoped>\n",
       "    .dataframe tbody tr th:only-of-type {\n",
       "        vertical-align: middle;\n",
       "    }\n",
       "\n",
       "    .dataframe tbody tr th {\n",
       "        vertical-align: top;\n",
       "    }\n",
       "\n",
       "    .dataframe thead th {\n",
       "        text-align: right;\n",
       "    }\n",
       "</style>\n",
       "<table border=\"1\" class=\"dataframe\">\n",
       "  <thead>\n",
       "    <tr style=\"text-align: right;\">\n",
       "      <th></th>\n",
       "      <th>App</th>\n",
       "      <th>Category</th>\n",
       "      <th>Rating</th>\n",
       "      <th>Reviews</th>\n",
       "      <th>Size</th>\n",
       "      <th>Installs</th>\n",
       "      <th>Type</th>\n",
       "      <th>Price ($)</th>\n",
       "      <th>Content Rating</th>\n",
       "      <th>Genres</th>\n",
       "      <th>Last Updated</th>\n",
       "      <th>Current Ver</th>\n",
       "      <th>Android Ver</th>\n",
       "    </tr>\n",
       "  </thead>\n",
       "  <tbody>\n",
       "    <tr>\n",
       "      <th>42</th>\n",
       "      <td>Textgram - write on photos</td>\n",
       "      <td>ART_AND_DESIGN</td>\n",
       "      <td>4.4</td>\n",
       "      <td>295221.0</td>\n",
       "      <td>19577.279477</td>\n",
       "      <td>10000000.0</td>\n",
       "      <td>Free</td>\n",
       "      <td>0.0</td>\n",
       "      <td>Everyone</td>\n",
       "      <td>Art &amp; Design</td>\n",
       "      <td>2018-07-30</td>\n",
       "      <td>Varies with device</td>\n",
       "      <td>Varies with device</td>\n",
       "    </tr>\n",
       "    <tr>\n",
       "      <th>52</th>\n",
       "      <td>Used Cars and Trucks for Sale</td>\n",
       "      <td>AUTO_AND_VEHICLES</td>\n",
       "      <td>4.6</td>\n",
       "      <td>17057.0</td>\n",
       "      <td>19577.279477</td>\n",
       "      <td>1000000.0</td>\n",
       "      <td>Free</td>\n",
       "      <td>0.0</td>\n",
       "      <td>Everyone</td>\n",
       "      <td>Auto &amp; Vehicles</td>\n",
       "      <td>2018-07-30</td>\n",
       "      <td>Varies with device</td>\n",
       "      <td>Varies with device</td>\n",
       "    </tr>\n",
       "    <tr>\n",
       "      <th>67</th>\n",
       "      <td>Ulysse Speedometer</td>\n",
       "      <td>AUTO_AND_VEHICLES</td>\n",
       "      <td>4.3</td>\n",
       "      <td>40211.0</td>\n",
       "      <td>19577.279477</td>\n",
       "      <td>5000000.0</td>\n",
       "      <td>Free</td>\n",
       "      <td>0.0</td>\n",
       "      <td>Everyone</td>\n",
       "      <td>Auto &amp; Vehicles</td>\n",
       "      <td>2018-07-30</td>\n",
       "      <td>Varies with device</td>\n",
       "      <td>Varies with device</td>\n",
       "    </tr>\n",
       "    <tr>\n",
       "      <th>68</th>\n",
       "      <td>REPUVE</td>\n",
       "      <td>AUTO_AND_VEHICLES</td>\n",
       "      <td>3.9</td>\n",
       "      <td>356.0</td>\n",
       "      <td>19577.279477</td>\n",
       "      <td>100000.0</td>\n",
       "      <td>Free</td>\n",
       "      <td>0.0</td>\n",
       "      <td>Everyone</td>\n",
       "      <td>Auto &amp; Vehicles</td>\n",
       "      <td>2018-05-25</td>\n",
       "      <td>Varies with device</td>\n",
       "      <td>Varies with device</td>\n",
       "    </tr>\n",
       "    <tr>\n",
       "      <th>85</th>\n",
       "      <td>CarMax – Cars for Sale: Search Used Car Inventory</td>\n",
       "      <td>AUTO_AND_VEHICLES</td>\n",
       "      <td>4.4</td>\n",
       "      <td>21777.0</td>\n",
       "      <td>19577.279477</td>\n",
       "      <td>1000000.0</td>\n",
       "      <td>Free</td>\n",
       "      <td>0.0</td>\n",
       "      <td>Everyone</td>\n",
       "      <td>Auto &amp; Vehicles</td>\n",
       "      <td>2018-08-04</td>\n",
       "      <td>Varies with device</td>\n",
       "      <td>Varies with device</td>\n",
       "    </tr>\n",
       "    <tr>\n",
       "      <th>...</th>\n",
       "      <td>...</td>\n",
       "      <td>...</td>\n",
       "      <td>...</td>\n",
       "      <td>...</td>\n",
       "      <td>...</td>\n",
       "      <td>...</td>\n",
       "      <td>...</td>\n",
       "      <td>...</td>\n",
       "      <td>...</td>\n",
       "      <td>...</td>\n",
       "      <td>...</td>\n",
       "      <td>...</td>\n",
       "      <td>...</td>\n",
       "    </tr>\n",
       "    <tr>\n",
       "      <th>10713</th>\n",
       "      <td>My Earthquake Alerts - US &amp; Worldwide Earthquakes</td>\n",
       "      <td>WEATHER</td>\n",
       "      <td>4.4</td>\n",
       "      <td>3471.0</td>\n",
       "      <td>19577.279477</td>\n",
       "      <td>100000.0</td>\n",
       "      <td>Free</td>\n",
       "      <td>0.0</td>\n",
       "      <td>Everyone</td>\n",
       "      <td>Weather</td>\n",
       "      <td>2018-07-24</td>\n",
       "      <td>Varies with device</td>\n",
       "      <td>Varies with device</td>\n",
       "    </tr>\n",
       "    <tr>\n",
       "      <th>10765</th>\n",
       "      <td>Chat For Strangers - Video Chat</td>\n",
       "      <td>SOCIAL</td>\n",
       "      <td>3.4</td>\n",
       "      <td>622.0</td>\n",
       "      <td>19577.279477</td>\n",
       "      <td>100000.0</td>\n",
       "      <td>Free</td>\n",
       "      <td>0.0</td>\n",
       "      <td>Mature 17+</td>\n",
       "      <td>Social</td>\n",
       "      <td>2018-05-23</td>\n",
       "      <td>Varies with device</td>\n",
       "      <td>Varies with device</td>\n",
       "    </tr>\n",
       "    <tr>\n",
       "      <th>10826</th>\n",
       "      <td>Frim: get new friends on local chat rooms</td>\n",
       "      <td>SOCIAL</td>\n",
       "      <td>4.0</td>\n",
       "      <td>88486.0</td>\n",
       "      <td>19577.279477</td>\n",
       "      <td>5000000.0</td>\n",
       "      <td>Free</td>\n",
       "      <td>0.0</td>\n",
       "      <td>Mature 17+</td>\n",
       "      <td>Social</td>\n",
       "      <td>2018-03-23</td>\n",
       "      <td>Varies with device</td>\n",
       "      <td>Varies with device</td>\n",
       "    </tr>\n",
       "    <tr>\n",
       "      <th>10839</th>\n",
       "      <td>The SCP Foundation DB fr nn5n</td>\n",
       "      <td>BOOKS_AND_REFERENCE</td>\n",
       "      <td>4.5</td>\n",
       "      <td>114.0</td>\n",
       "      <td>19577.279477</td>\n",
       "      <td>1000.0</td>\n",
       "      <td>Free</td>\n",
       "      <td>0.0</td>\n",
       "      <td>Mature 17+</td>\n",
       "      <td>Books &amp; Reference</td>\n",
       "      <td>2015-01-19</td>\n",
       "      <td>Varies with device</td>\n",
       "      <td>Varies with device</td>\n",
       "    </tr>\n",
       "    <tr>\n",
       "      <th>10840</th>\n",
       "      <td>iHoroscope - 2018 Daily Horoscope &amp; Astrology</td>\n",
       "      <td>LIFESTYLE</td>\n",
       "      <td>4.5</td>\n",
       "      <td>398307.0</td>\n",
       "      <td>19000.000000</td>\n",
       "      <td>10000000.0</td>\n",
       "      <td>Free</td>\n",
       "      <td>0.0</td>\n",
       "      <td>Everyone</td>\n",
       "      <td>Lifestyle</td>\n",
       "      <td>2018-07-25</td>\n",
       "      <td>Varies with device</td>\n",
       "      <td>Varies with device</td>\n",
       "    </tr>\n",
       "  </tbody>\n",
       "</table>\n",
       "<p>1362 rows × 13 columns</p>\n",
       "</div>"
      ],
      "text/plain": [
       "                                                     App             Category  \\\n",
       "42                            Textgram - write on photos       ART_AND_DESIGN   \n",
       "52                         Used Cars and Trucks for Sale    AUTO_AND_VEHICLES   \n",
       "67                                    Ulysse Speedometer    AUTO_AND_VEHICLES   \n",
       "68                                                REPUVE    AUTO_AND_VEHICLES   \n",
       "85     CarMax – Cars for Sale: Search Used Car Inventory    AUTO_AND_VEHICLES   \n",
       "...                                                  ...                  ...   \n",
       "10713  My Earthquake Alerts - US & Worldwide Earthquakes              WEATHER   \n",
       "10765                    Chat For Strangers - Video Chat               SOCIAL   \n",
       "10826          Frim: get new friends on local chat rooms               SOCIAL   \n",
       "10839                      The SCP Foundation DB fr nn5n  BOOKS_AND_REFERENCE   \n",
       "10840      iHoroscope - 2018 Daily Horoscope & Astrology            LIFESTYLE   \n",
       "\n",
       "       Rating   Reviews          Size    Installs  Type  Price ($)  \\\n",
       "42        4.4  295221.0  19577.279477  10000000.0  Free        0.0   \n",
       "52        4.6   17057.0  19577.279477   1000000.0  Free        0.0   \n",
       "67        4.3   40211.0  19577.279477   5000000.0  Free        0.0   \n",
       "68        3.9     356.0  19577.279477    100000.0  Free        0.0   \n",
       "85        4.4   21777.0  19577.279477   1000000.0  Free        0.0   \n",
       "...       ...       ...           ...         ...   ...        ...   \n",
       "10713     4.4    3471.0  19577.279477    100000.0  Free        0.0   \n",
       "10765     3.4     622.0  19577.279477    100000.0  Free        0.0   \n",
       "10826     4.0   88486.0  19577.279477   5000000.0  Free        0.0   \n",
       "10839     4.5     114.0  19577.279477      1000.0  Free        0.0   \n",
       "10840     4.5  398307.0  19000.000000  10000000.0  Free        0.0   \n",
       "\n",
       "      Content Rating             Genres Last Updated         Current Ver  \\\n",
       "42          Everyone       Art & Design   2018-07-30  Varies with device   \n",
       "52          Everyone    Auto & Vehicles   2018-07-30  Varies with device   \n",
       "67          Everyone    Auto & Vehicles   2018-07-30  Varies with device   \n",
       "68          Everyone    Auto & Vehicles   2018-05-25  Varies with device   \n",
       "85          Everyone    Auto & Vehicles   2018-08-04  Varies with device   \n",
       "...              ...                ...          ...                 ...   \n",
       "10713       Everyone            Weather   2018-07-24  Varies with device   \n",
       "10765     Mature 17+             Social   2018-05-23  Varies with device   \n",
       "10826     Mature 17+             Social   2018-03-23  Varies with device   \n",
       "10839     Mature 17+  Books & Reference   2015-01-19  Varies with device   \n",
       "10840       Everyone          Lifestyle   2018-07-25  Varies with device   \n",
       "\n",
       "              Android Ver  \n",
       "42     Varies with device  \n",
       "52     Varies with device  \n",
       "67     Varies with device  \n",
       "68     Varies with device  \n",
       "85     Varies with device  \n",
       "...                   ...  \n",
       "10713  Varies with device  \n",
       "10765  Varies with device  \n",
       "10826  Varies with device  \n",
       "10839  Varies with device  \n",
       "10840  Varies with device  \n",
       "\n",
       "[1362 rows x 13 columns]"
      ]
     },
     "execution_count": 123,
     "metadata": {},
     "output_type": "execute_result"
    }
   ],
   "source": [
    "gp_store[gp_store[\"Android Ver\"] == \"Varies with device\"]"
   ]
  },
  {
   "cell_type": "markdown",
   "id": "838850a2",
   "metadata": {},
   "source": [
    "#### We are having some of the unwanted columns which will be of not much use in the analysis process. So let’s drop those columns."
   ]
  },
  {
   "cell_type": "code",
   "execution_count": 124,
   "id": "8becf82f",
   "metadata": {},
   "outputs": [],
   "source": [
    "gp_store.drop([\"Current Ver\",\"Android Ver\",\"Last Updated\"], axis = 1, inplace = True)"
   ]
  },
  {
   "cell_type": "code",
   "execution_count": 125,
   "id": "8aec2aa8",
   "metadata": {},
   "outputs": [
    {
     "data": {
      "text/plain": [
       "Index(['App', 'Category', 'Rating', 'Reviews', 'Size', 'Installs', 'Type',\n",
       "       'Price ($)', 'Content Rating', 'Genres'],\n",
       "      dtype='object')"
      ]
     },
     "execution_count": 125,
     "metadata": {},
     "output_type": "execute_result"
    }
   ],
   "source": [
    "gp_store.columns"
   ]
  },
  {
   "cell_type": "code",
   "execution_count": null,
   "id": "f662c0ae",
   "metadata": {},
   "outputs": [],
   "source": []
  }
 ],
 "metadata": {
  "kernelspec": {
   "display_name": "Python 3",
   "language": "python",
   "name": "python3"
  },
  "language_info": {
   "codemirror_mode": {
    "name": "ipython",
    "version": 3
   },
   "file_extension": ".py",
   "mimetype": "text/x-python",
   "name": "python",
   "nbconvert_exporter": "python",
   "pygments_lexer": "ipython3",
   "version": "3.8.11"
  }
 },
 "nbformat": 4,
 "nbformat_minor": 5
}
